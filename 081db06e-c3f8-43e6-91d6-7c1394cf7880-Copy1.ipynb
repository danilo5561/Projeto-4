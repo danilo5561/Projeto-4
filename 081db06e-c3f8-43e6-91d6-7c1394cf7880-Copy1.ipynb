{
 "cells": [
  {
   "cell_type": "markdown",
   "metadata": {
    "id": "eAkbw7Ueuj8X"
   },
   "source": [
    "# Qual é o melhor plano?\n",
    "\n",
    "Você trabalha como analista para a empresa de telecomunicações Megaline. A empresa oferece aos clientes dois planos pré-pagos: Surf e Ultimate. O departamento comercial quer saber qual dos planos gera mais receita para ajustar o orçamento de publicidade.\n",
    "\n",
    "Você vai realizar uma análise preliminar dos planos com base em uma pequena seleção de clientes. Você terá dados de 500 clientes da Megaline: que clientes são, de onde eles são, qual plano usam e o número de chamadas e mensagens realizadas em 2018. Seu trabalho é analisar o comportamento dos clientes e determinar qual plano pré-pago gera mais receita."
   ]
  },
  {
   "cell_type": "markdown",
   "metadata": {
    "id": "lnomf-3Xuj8b"
   },
   "source": [
    "## Inicialização"
   ]
  },
  {
   "cell_type": "code",
   "execution_count": 2,
   "metadata": {
    "id": "JdJusn5ouj8c"
   },
   "outputs": [],
   "source": [
    "# Carregando todas as bibliotecas\n",
    "import pandas as pd\n",
    "from scipy import stats as st\n",
    "import numpy as np\n",
    "import math as mt\n",
    "from math import factorial\n"
   ]
  },
  {
   "cell_type": "markdown",
   "metadata": {
    "id": "rzqsCrgquj8d"
   },
   "source": [
    "## Carregue os dados"
   ]
  },
  {
   "cell_type": "code",
   "execution_count": 3,
   "metadata": {
    "id": "HmzmQRXIuj8e"
   },
   "outputs": [],
   "source": [
    "# Carregue os arquivos de dados em diferentes DataFrames\n",
    "\n",
    "calls_df = pd.read_csv(\"/datasets/megaline_calls.csv\")\n",
    "internet_df = pd.read_csv(\"/datasets/megaline_internet.csv\")\n",
    "messages_df = pd.read_csv(\"/datasets/megaline_messages.csv\")\n",
    "plans_df = pd.read_csv(\"/datasets/megaline_plans.csv\")\n",
    "users_df = pd.read_csv(\"/datasets/megaline_users.csv\")"
   ]
  },
  {
   "cell_type": "markdown",
   "metadata": {
    "id": "XQh-EeiIuj8e"
   },
   "source": [
    "## Prepare os dados"
   ]
  },
  {
   "cell_type": "markdown",
   "metadata": {
    "id": "RmibJmmzuj8e"
   },
   "source": [
    "[Os dados deste projeto estão divididos em várias tabelas. Explore cada uma para obter uma compreensão inicial dos dados. Faça correções em cada tabela, se necessário.]"
   ]
  },
  {
   "cell_type": "markdown",
   "metadata": {
    "id": "TlZUw_Cyuj8f"
   },
   "source": [
    "## Planos"
   ]
  },
  {
   "cell_type": "code",
   "execution_count": 4,
   "metadata": {
    "id": "x9qB5mAOuj8f"
   },
   "outputs": [
    {
     "name": "stdout",
     "output_type": "stream",
     "text": [
      "<class 'pandas.core.frame.DataFrame'>\n",
      "RangeIndex: 2 entries, 0 to 1\n",
      "Data columns (total 8 columns):\n",
      " #   Column                 Non-Null Count  Dtype  \n",
      "---  ------                 --------------  -----  \n",
      " 0   messages_included      2 non-null      int64  \n",
      " 1   mb_per_month_included  2 non-null      int64  \n",
      " 2   minutes_included       2 non-null      int64  \n",
      " 3   usd_monthly_pay        2 non-null      int64  \n",
      " 4   usd_per_gb             2 non-null      int64  \n",
      " 5   usd_per_message        2 non-null      float64\n",
      " 6   usd_per_minute         2 non-null      float64\n",
      " 7   plan_name              2 non-null      object \n",
      "dtypes: float64(2), int64(5), object(1)\n",
      "memory usage: 256.0+ bytes\n"
     ]
    }
   ],
   "source": [
    "# Imprima informações gerais/resumo sobre o DataFrame dos planos\n",
    "plans_df.info()"
   ]
  },
  {
   "cell_type": "code",
   "execution_count": 5,
   "metadata": {
    "id": "9MRo7tyVuj8f"
   },
   "outputs": [
    {
     "name": "stdout",
     "output_type": "stream",
     "text": [
      "   messages_included  mb_per_month_included  minutes_included  \\\n",
      "0                 50                  15360               500   \n",
      "1               1000                  30720              3000   \n",
      "\n",
      "   usd_monthly_pay  usd_per_gb  usd_per_message  usd_per_minute plan_name  \n",
      "0               20          10             0.03            0.03      surf  \n",
      "1               70           7             0.01            0.01  ultimate  \n"
     ]
    }
   ],
   "source": [
    "# Imprima uma amostra de dados dos planos\n",
    "\n",
    "print(plans_df)"
   ]
  },
  {
   "cell_type": "markdown",
   "metadata": {
    "id": "P8hzr-lquj8f"
   },
   "source": [
    "[Descreva o que você nota sobre as informações gerais e sobre a amostra de dados impressa acima. Existem problemas (tipos de dados inadequados, dados ausentes, etc.) que precisam de mais investigação e alterações? Como isso pode ser corrigido?]"
   ]
  },
  {
   "cell_type": "markdown",
   "metadata": {
    "id": "KXtaxmKsuj8f"
   },
   "source": [
    "## Corrija os dados"
   ]
  },
  {
   "cell_type": "markdown",
   "metadata": {
    "id": "9BWuM80Buj8f"
   },
   "source": [
    "[Corrija problemas óbvios com os dados conforme as observações iniciais.]"
   ]
  },
  {
   "cell_type": "markdown",
   "metadata": {
    "id": "Hen8bhG1uj8g"
   },
   "source": [
    "##### A princício, o DF não apresenta problemas óbvios, como ausentes, ou inadequados"
   ]
  },
  {
   "cell_type": "markdown",
   "metadata": {
    "id": "kLcdKu6Duj8g"
   },
   "source": [
    "## Enriqueça os dados"
   ]
  },
  {
   "cell_type": "markdown",
   "metadata": {
    "id": "x1L6F_gmuj8g"
   },
   "source": [
    "[Inclua fatores adicionais aos dados se você acredita que eles podem ser úteis.]"
   ]
  },
  {
   "cell_type": "code",
   "execution_count": 6,
   "metadata": {
    "id": "6j4XA9_ruj8g"
   },
   "outputs": [
    {
     "name": "stdout",
     "output_type": "stream",
     "text": [
      "   messages_included  mb_per_month_included  minutes_included  \\\n",
      "0                 50                  15360               500   \n",
      "1               1000                  30720              3000   \n",
      "\n",
      "   usd_monthly_pay  usd_per_gb  usd_per_message  usd_per_minute plan_name  \\\n",
      "0               20          10             0.03            0.03      surf   \n",
      "1               70           7             0.01            0.01  ultimate   \n",
      "\n",
      "  mb_per_month_included_type usd_per_gb_type  \n",
      "0                         MB              GB  \n",
      "1                         MB              GB  \n"
     ]
    }
   ],
   "source": [
    "### Acredito ser interessante adcionar 2 colunas com a informação sobre o formato dos dados da colunas usd_per_gb e mb_per_month_include\n",
    "plans_df['mb_per_month_included_type'] = ['MB', 'MB']\n",
    "plans_df['usd_per_gb_type'] = ['GB', 'GB']\n",
    "print(plans_df)"
   ]
  },
  {
   "cell_type": "markdown",
   "metadata": {
    "id": "YJg2O9qjuj8g"
   },
   "source": [
    "## Usuários"
   ]
  },
  {
   "cell_type": "code",
   "execution_count": 7,
   "metadata": {
    "id": "7JzxwD2juj8g"
   },
   "outputs": [
    {
     "name": "stdout",
     "output_type": "stream",
     "text": [
      "<class 'pandas.core.frame.DataFrame'>\n",
      "RangeIndex: 500 entries, 0 to 499\n",
      "Data columns (total 8 columns):\n",
      " #   Column      Non-Null Count  Dtype \n",
      "---  ------      --------------  ----- \n",
      " 0   user_id     500 non-null    int64 \n",
      " 1   first_name  500 non-null    object\n",
      " 2   last_name   500 non-null    object\n",
      " 3   age         500 non-null    int64 \n",
      " 4   city        500 non-null    object\n",
      " 5   reg_date    500 non-null    object\n",
      " 6   plan        500 non-null    object\n",
      " 7   churn_date  34 non-null     object\n",
      "dtypes: int64(2), object(6)\n",
      "memory usage: 31.4+ KB\n"
     ]
    }
   ],
   "source": [
    "# Imprima informações gerais/resumo sobre o DataFrame dos usuários\n",
    "users_df.info()\n"
   ]
  },
  {
   "cell_type": "code",
   "execution_count": 8,
   "metadata": {
    "id": "5KZ8XmD8uj8g"
   },
   "outputs": [
    {
     "name": "stdout",
     "output_type": "stream",
     "text": [
      "   user_id first_name  last_name  age                                   city  \\\n",
      "0     1000   Anamaria      Bauer   45  Atlanta-Sandy Springs-Roswell, GA MSA   \n",
      "1     1001     Mickey  Wilkerson   28        Seattle-Tacoma-Bellevue, WA MSA   \n",
      "2     1002     Carlee    Hoffman   36   Las Vegas-Henderson-Paradise, NV MSA   \n",
      "3     1003   Reynaldo    Jenkins   52                          Tulsa, OK MSA   \n",
      "4     1004    Leonila   Thompson   40        Seattle-Tacoma-Bellevue, WA MSA   \n",
      "\n",
      "     reg_date      plan churn_date  \n",
      "0  2018-12-24  ultimate        NaN  \n",
      "1  2018-08-13      surf        NaN  \n",
      "2  2018-10-21      surf        NaN  \n",
      "3  2018-01-28      surf        NaN  \n",
      "4  2018-05-23      surf        NaN  \n"
     ]
    }
   ],
   "source": [
    "# Imprima uma amostra de dados dos usuários\n",
    "\n",
    "print(users_df.head())"
   ]
  },
  {
   "cell_type": "markdown",
   "metadata": {
    "id": "XGCgkfLvuj8h"
   },
   "source": [
    "[Descreva o que você nota sobre as informações gerais e sobre a amostra de dados impressa acima. Existem problemas (tipos de dados inadequados, dados ausentes, etc.) que precisam de mais investigação e alterações? Como isso pode ser corrigido?]"
   ]
  },
  {
   "cell_type": "markdown",
   "metadata": {
    "id": "ppiEfe3luj8i"
   },
   "source": [
    "### Corrija os dados"
   ]
  },
  {
   "cell_type": "markdown",
   "metadata": {
    "id": "os4Gubp_uj8j"
   },
   "source": [
    "[Corrija problemas óbvios com os dados conforme as observações iniciais.]"
   ]
  },
  {
   "cell_type": "code",
   "execution_count": 9,
   "metadata": {
    "id": "Oa1XFooouj8j"
   },
   "outputs": [
    {
     "name": "stdout",
     "output_type": "stream",
     "text": [
      "   user_id first_name  last_name  age                                   city  \\\n",
      "0     1000   Anamaria      Bauer   45  Atlanta-Sandy Springs-Roswell, GA MSA   \n",
      "1     1001     Mickey  Wilkerson   28        Seattle-Tacoma-Bellevue, WA MSA   \n",
      "2     1002     Carlee    Hoffman   36   Las Vegas-Henderson-Paradise, NV MSA   \n",
      "3     1003   Reynaldo    Jenkins   52                          Tulsa, OK MSA   \n",
      "4     1004    Leonila   Thompson   40        Seattle-Tacoma-Bellevue, WA MSA   \n",
      "\n",
      "     reg_date      plan churn_date  \n",
      "0  2018-12-24  ultimate       2099  \n",
      "1  2018-08-13      surf       2099  \n",
      "2  2018-10-21      surf       2099  \n",
      "3  2018-01-28      surf       2099  \n",
      "4  2018-05-23      surf       2099  \n"
     ]
    }
   ],
   "source": [
    "###Corrigindo a coluna churn_date, dados ausentes (plano ativo):\n",
    "\n",
    "users_df['churn_date'] = users_df['churn_date'].fillna('2099')\n",
    "print(users_df.head())"
   ]
  },
  {
   "cell_type": "markdown",
   "metadata": {
    "id": "H3gpde3Juj8j"
   },
   "source": [
    "### Enriqueça os dados"
   ]
  },
  {
   "cell_type": "markdown",
   "metadata": {
    "id": "HOZyfII6uj8j"
   },
   "source": [
    "[Inclua fatores adicionais aos dados se você acredita que eles podem ser úteis.]"
   ]
  },
  {
   "cell_type": "markdown",
   "metadata": {
    "id": "4vuUjT2juj8j"
   },
   "source": [
    "##### Acredito que não há necessidade de adicionar nenhum dado ao dataframe em questão."
   ]
  },
  {
   "cell_type": "markdown",
   "metadata": {
    "id": "f4uSIMuuuj8j"
   },
   "source": [
    "## Chamadas"
   ]
  },
  {
   "cell_type": "code",
   "execution_count": 10,
   "metadata": {
    "id": "hkY01fJnuj8j"
   },
   "outputs": [
    {
     "name": "stdout",
     "output_type": "stream",
     "text": [
      "<class 'pandas.core.frame.DataFrame'>\n",
      "RangeIndex: 137735 entries, 0 to 137734\n",
      "Data columns (total 4 columns):\n",
      " #   Column     Non-Null Count   Dtype  \n",
      "---  ------     --------------   -----  \n",
      " 0   id         137735 non-null  object \n",
      " 1   user_id    137735 non-null  int64  \n",
      " 2   call_date  137735 non-null  object \n",
      " 3   duration   137735 non-null  float64\n",
      "dtypes: float64(1), int64(1), object(2)\n",
      "memory usage: 4.2+ MB\n"
     ]
    }
   ],
   "source": [
    "# Imprima informações gerais/resumo sobre o DataFrame das chamadas\n",
    "calls_df.info()\n"
   ]
  },
  {
   "cell_type": "code",
   "execution_count": 11,
   "metadata": {
    "id": "wdBwJG5Yuj8k"
   },
   "outputs": [
    {
     "name": "stdout",
     "output_type": "stream",
     "text": [
      "         id  user_id   call_date  duration\n",
      "0   1000_93     1000  2018-12-27      8.52\n",
      "1  1000_145     1000  2018-12-27     13.66\n",
      "2  1000_247     1000  2018-12-27     14.48\n",
      "3  1000_309     1000  2018-12-28      5.76\n",
      "4  1000_380     1000  2018-12-30      4.22\n"
     ]
    }
   ],
   "source": [
    "# Imprima uma amostra de dados das chamadas\n",
    "print(calls_df.head())\n"
   ]
  },
  {
   "cell_type": "markdown",
   "metadata": {
    "id": "Y8An85-Tuj8k"
   },
   "source": [
    "[Descreva o que você nota sobre as informações gerais e sobre a amostra de dados impressa acima. Existem problemas (tipos de dados inadequados, dados ausentes, etc.) que precisam de mais investigação e alterações? Como isso pode ser corrigido?]"
   ]
  },
  {
   "cell_type": "markdown",
   "metadata": {
    "id": "x5a99U4xuj8k"
   },
   "source": [
    "### Corrija os dados"
   ]
  },
  {
   "cell_type": "markdown",
   "metadata": {
    "id": "MQqkU83Xuj8k"
   },
   "source": [
    "[Corrija problemas óbvios com os dados conforme as observações iniciais.]"
   ]
  },
  {
   "cell_type": "markdown",
   "metadata": {
    "id": "lBjdw0Bnuj8l"
   },
   "source": [
    "##### A principio não tem nenhum problema que precisa ser tratado neste DF."
   ]
  },
  {
   "cell_type": "markdown",
   "metadata": {
    "id": "MFm5xyh4uj8l"
   },
   "source": [
    "### Enriqueça os dados"
   ]
  },
  {
   "cell_type": "markdown",
   "metadata": {
    "id": "Udv2togruj8l"
   },
   "source": [
    "[Inclua fatores adicionais aos dados se você acredita que eles podem ser úteis.]"
   ]
  },
  {
   "cell_type": "code",
   "execution_count": 12,
   "metadata": {
    "id": "nwOKTgfluj8l"
   },
   "outputs": [
    {
     "name": "stdout",
     "output_type": "stream",
     "text": [
      "         id  user_id   call_date  duration_min\n",
      "0   1000_93     1000  2018-12-27          8.52\n",
      "1  1000_145     1000  2018-12-27         13.66\n",
      "2  1000_247     1000  2018-12-27         14.48\n",
      "3  1000_309     1000  2018-12-28          5.76\n",
      "4  1000_380     1000  2018-12-30          4.22\n"
     ]
    }
   ],
   "source": [
    "#### Adcionar informação complementar a coluna \"duration\"\n",
    "calls_df = calls_df.rename(columns={'duration': 'duration_min'})                  \n",
    "print(calls_df.head())"
   ]
  },
  {
   "cell_type": "markdown",
   "metadata": {
    "id": "qLz4FkyRuj8l"
   },
   "source": [
    "## Mensagens"
   ]
  },
  {
   "cell_type": "code",
   "execution_count": 13,
   "metadata": {
    "id": "nFA9DFkCuj8l"
   },
   "outputs": [
    {
     "name": "stdout",
     "output_type": "stream",
     "text": [
      "<class 'pandas.core.frame.DataFrame'>\n",
      "RangeIndex: 76051 entries, 0 to 76050\n",
      "Data columns (total 3 columns):\n",
      " #   Column        Non-Null Count  Dtype \n",
      "---  ------        --------------  ----- \n",
      " 0   id            76051 non-null  object\n",
      " 1   user_id       76051 non-null  int64 \n",
      " 2   message_date  76051 non-null  object\n",
      "dtypes: int64(1), object(2)\n",
      "memory usage: 1.7+ MB\n"
     ]
    }
   ],
   "source": [
    "# Imprima informações gerais/resumo sobre o DataFrame das mensagens\n",
    "messages_df.info()\n"
   ]
  },
  {
   "cell_type": "code",
   "execution_count": 14,
   "metadata": {
    "id": "ysEFBZWxuj8m"
   },
   "outputs": [
    {
     "name": "stdout",
     "output_type": "stream",
     "text": [
      "         id  user_id message_date\n",
      "0  1000_125     1000   2018-12-27\n",
      "1  1000_160     1000   2018-12-31\n",
      "2  1000_223     1000   2018-12-31\n",
      "3  1000_251     1000   2018-12-27\n",
      "4  1000_255     1000   2018-12-26\n"
     ]
    }
   ],
   "source": [
    "# Imprima uma amostra dos dados das mensagens\n",
    "\n",
    "print(messages_df.head())"
   ]
  },
  {
   "cell_type": "markdown",
   "metadata": {
    "id": "GUtt1TqCuj8m"
   },
   "source": [
    "[Descreva o que você nota sobre as informações gerais e sobre a amostra de dados impressa acima. Existem problemas (tipos de dados inadequados, dados ausentes, etc.) que precisam de mais investigação e alterações? Como isso pode ser corrigido?]"
   ]
  },
  {
   "cell_type": "markdown",
   "metadata": {
    "id": "tT8N_hc6uj8m"
   },
   "source": [
    "### Corrija os dados"
   ]
  },
  {
   "cell_type": "markdown",
   "metadata": {
    "id": "IgO0SzXKuj8m"
   },
   "source": [
    "[Corrija problemas óbvios com os dados conforme as observações iniciais.]"
   ]
  },
  {
   "cell_type": "markdown",
   "metadata": {
    "id": "SpBqbQHCuj8m"
   },
   "source": [
    "##### A principio DF sem nenhum problema para ser tratado."
   ]
  },
  {
   "cell_type": "markdown",
   "metadata": {
    "id": "feV2Njo9uj8n"
   },
   "source": [
    "### Enriqueça os dados"
   ]
  },
  {
   "cell_type": "markdown",
   "metadata": {
    "id": "KA5XDEoZuj8n"
   },
   "source": [
    "[Inclua fatores adicionais aos dados se você acredita que eles podem ser úteis.]"
   ]
  },
  {
   "cell_type": "markdown",
   "metadata": {
    "id": "SkuCXcLJuj8n"
   },
   "source": [
    "##### Nenhuma informação adicional para ser incluída no DF"
   ]
  },
  {
   "cell_type": "markdown",
   "metadata": {
    "id": "ZRFaOWzGuj8n"
   },
   "source": [
    "## Internet"
   ]
  },
  {
   "cell_type": "code",
   "execution_count": 15,
   "metadata": {
    "id": "ob3-qv4nuj8n"
   },
   "outputs": [
    {
     "name": "stdout",
     "output_type": "stream",
     "text": [
      "<class 'pandas.core.frame.DataFrame'>\n",
      "RangeIndex: 104825 entries, 0 to 104824\n",
      "Data columns (total 4 columns):\n",
      " #   Column        Non-Null Count   Dtype  \n",
      "---  ------        --------------   -----  \n",
      " 0   id            104825 non-null  object \n",
      " 1   user_id       104825 non-null  int64  \n",
      " 2   session_date  104825 non-null  object \n",
      " 3   mb_used       104825 non-null  float64\n",
      "dtypes: float64(1), int64(1), object(2)\n",
      "memory usage: 3.2+ MB\n"
     ]
    }
   ],
   "source": [
    "# Imprima informações gerais/resumo sobre o DataFrame da internet\n",
    "internet_df.info()\n"
   ]
  },
  {
   "cell_type": "code",
   "execution_count": 16,
   "metadata": {
    "id": "iIHK4fZsuj8n"
   },
   "outputs": [
    {
     "name": "stdout",
     "output_type": "stream",
     "text": [
      "         id  user_id session_date  mb_used\n",
      "0   1000_13     1000   2018-12-29    89.86\n",
      "1  1000_204     1000   2018-12-31     0.00\n",
      "2  1000_379     1000   2018-12-28   660.40\n",
      "3  1000_413     1000   2018-12-26   270.99\n",
      "4  1000_442     1000   2018-12-27   880.22\n"
     ]
    }
   ],
   "source": [
    "#  Imprima uma amostra de dados para o tráfego da internet\n",
    "\n",
    "print(internet_df.head())"
   ]
  },
  {
   "cell_type": "markdown",
   "metadata": {
    "id": "6wpo7ugquj8o"
   },
   "source": [
    "[Descreva o que você nota sobre as informações gerais e sobre a amostra de dados impressa acima. Existem problemas (tipos de dados inadequados, dados ausentes, etc.) que precisam de mais investigação e alterações? Como isso pode ser corrigido?]"
   ]
  },
  {
   "cell_type": "markdown",
   "metadata": {
    "id": "Tly90YrTuj8o"
   },
   "source": [
    "### Corrija os dados"
   ]
  },
  {
   "cell_type": "markdown",
   "metadata": {
    "id": "F_yvcX-9uj8o"
   },
   "source": [
    "[Corrija problemas óbvios com os dados conforme as observações iniciais.]"
   ]
  },
  {
   "cell_type": "markdown",
   "metadata": {
    "id": "GCoX7kbmuj8o"
   },
   "source": [
    "##### A principio DF sem nenhum problema para ser tratado."
   ]
  },
  {
   "cell_type": "markdown",
   "metadata": {
    "id": "DEDbrtFduj8o"
   },
   "source": [
    "### Enriqueça os dados"
   ]
  },
  {
   "cell_type": "markdown",
   "metadata": {
    "id": "ilg-XzXpuj8p"
   },
   "source": [
    "[Inclua fatores adicionais aos dados se você acredita que eles podem ser úteis.]"
   ]
  },
  {
   "cell_type": "markdown",
   "metadata": {
    "id": "f1PoZ3Ukuj8p"
   },
   "source": [
    "##### Nenhuma informação adicional para ser incluída no DF"
   ]
  },
  {
   "cell_type": "markdown",
   "metadata": {
    "id": "bnOX4ARJuj8p"
   },
   "source": [
    "## Estude as condições dos planos"
   ]
  },
  {
   "cell_type": "markdown",
   "metadata": {
    "id": "vMu9_L8quj8p"
   },
   "source": [
    "[É fundamental entender como os planos funcionam, ou seja, como as cobranças dos usuários são feitas com base na assinatura. Sugerimos imprimir as informações sobre os planos para visualizar novamente as condições.]"
   ]
  },
  {
   "cell_type": "code",
   "execution_count": 17,
   "metadata": {
    "id": "vMXVndWEuj8p",
    "scrolled": true
   },
   "outputs": [
    {
     "name": "stdout",
     "output_type": "stream",
     "text": [
      "   messages_included  mb_per_month_included  minutes_included  \\\n",
      "0                 50                  15360               500   \n",
      "1               1000                  30720              3000   \n",
      "\n",
      "   usd_monthly_pay  usd_per_gb  usd_per_message  usd_per_minute plan_name  \\\n",
      "0               20          10             0.03            0.03      surf   \n",
      "1               70           7             0.01            0.01  ultimate   \n",
      "\n",
      "  mb_per_month_included_type usd_per_gb_type  \n",
      "0                         MB              GB  \n",
      "1                         MB              GB  \n"
     ]
    }
   ],
   "source": [
    "# Imprima as condições dos planos e certifique-se de que elas fazem sentido para você\n",
    "\n",
    "print(plans_df.head())"
   ]
  },
  {
   "cell_type": "markdown",
   "metadata": {
    "id": "1v1EshDmuj8q"
   },
   "source": [
    "## Agregue os dados por usuário\n",
    "\n",
    "[Agora, como os dados estão limpos, os agregue por usuário e por período para ter apenas um registro dessas informações. Isso vai facilitar muito as próximas análises.]"
   ]
  },
  {
   "cell_type": "code",
   "execution_count": 18,
   "metadata": {
    "id": "4hmb2pSPuj8q"
   },
   "outputs": [
    {
     "name": "stdout",
     "output_type": "stream",
     "text": [
      "user_id\n",
      "1000     16\n",
      "1001    261\n",
      "1002    113\n",
      "1003    149\n",
      "1004    370\n",
      "       ... \n",
      "1495    253\n",
      "1496    195\n",
      "1497     54\n",
      "1498    451\n",
      "1499    204\n",
      "Name: call_date, Length: 481, dtype: int64\n"
     ]
    }
   ],
   "source": [
    "# Calcule o número de chamadas feitas por cada usuário por mês. Salve o resultado.\n",
    "user_calls = calls_df.groupby('user_id')['call_date'].count()\n",
    "print(user_calls)"
   ]
  },
  {
   "cell_type": "code",
   "execution_count": 19,
   "metadata": {
    "id": "yHgBWCJJuj8q"
   },
   "outputs": [
    {
     "name": "stdout",
     "output_type": "stream",
     "text": [
      "user_id\n",
      "1000     116.83\n",
      "1001    1640.46\n",
      "1002     777.13\n",
      "1003    1041.00\n",
      "1004    2618.95\n",
      "         ...   \n",
      "1495    1666.41\n",
      "1496    1376.21\n",
      "1497     276.53\n",
      "1498    3029.97\n",
      "1499    1450.31\n",
      "Name: duration_min, Length: 481, dtype: float64\n"
     ]
    }
   ],
   "source": [
    "# Calcule a quantidade de minutos gastos por cada usuário por mês. Salve o resultado.\n",
    "users_min = calls_df.groupby('user_id')['duration_min'].sum()\n",
    "print(users_min)\n"
   ]
  },
  {
   "cell_type": "code",
   "execution_count": 20,
   "metadata": {
    "id": "MaM_cPxauj8q"
   },
   "outputs": [
    {
     "name": "stdout",
     "output_type": "stream",
     "text": [
      "user_id\n",
      "1000     11\n",
      "1001    207\n",
      "1002     88\n",
      "1003     50\n",
      "1004    177\n",
      "       ... \n",
      "1491    409\n",
      "1492    108\n",
      "1494    174\n",
      "1496     65\n",
      "1497     50\n",
      "Name: message_date, Length: 402, dtype: int64\n"
     ]
    }
   ],
   "source": [
    "# Calcule o número de mensagens enviadas por cada usuário por mês. Salve o resultado.\n",
    "\n",
    "user_message = messages_df.groupby('user_id')['message_date'].count()\n",
    "print(user_message)\n"
   ]
  },
  {
   "cell_type": "code",
   "execution_count": 21,
   "metadata": {
    "id": "WsCEZJ_xuj8q"
   },
   "outputs": [
    {
     "name": "stdout",
     "output_type": "stream",
     "text": [
      "user_id\n",
      "1000      1901.47\n",
      "1001     80437.94\n",
      "1002     40293.33\n",
      "1003     27044.14\n",
      "1004    156352.81\n",
      "          ...    \n",
      "1495     98890.96\n",
      "1496     64268.64\n",
      "1497     11106.55\n",
      "1498    227525.13\n",
      "1499     71350.23\n",
      "Name: mb_used, Length: 489, dtype: float64\n"
     ]
    }
   ],
   "source": [
    "# Calcule o volume de tráfego de internet usado por cada usuário por mês. Salve o resultado.\n",
    "\n",
    "\n",
    "user_web = internet_df.groupby('user_id')['mb_used'].sum()\n",
    "print(user_web)\n"
   ]
  },
  {
   "cell_type": "markdown",
   "metadata": {
    "id": "6nBsD4hduj8q"
   },
   "source": [
    "[Coloque os dados agregados em um DataFrame para que cada registro nele represente o que cada usuário consumiu em um determinado mês.]"
   ]
  },
  {
   "cell_type": "code",
   "execution_count": 22,
   "metadata": {
    "id": "BYDTkxOauj8r"
   },
   "outputs": [
    {
     "name": "stdout",
     "output_type": "stream",
     "text": [
      "         call_date  duration_min  message_date    mb_used\n",
      "user_id                                                  \n",
      "1000          16.0        116.83          11.0    1901.47\n",
      "1001         261.0       1640.46         207.0   80437.94\n",
      "1002         113.0        777.13          88.0   40293.33\n",
      "1003         149.0       1041.00          50.0   27044.14\n",
      "1004         370.0       2618.95         177.0  156352.81\n"
     ]
    }
   ],
   "source": [
    "# Junte os dados de chamadas, minutos, mensagens e internet com base em user_id e month\n",
    "#DF:\n",
    "\n",
    "user_dados = pd.concat([user_calls, users_min, user_message, user_web], axis = 1)\n",
    "print(user_dados.head())\n",
    "\n"
   ]
  },
  {
   "cell_type": "code",
   "execution_count": 23,
   "metadata": {
    "id": "SW-sgLaHuj8r"
   },
   "outputs": [
    {
     "name": "stdout",
     "output_type": "stream",
     "text": [
      "     user_id  call_date  duration_min  message_date    mb_used first_name  \\\n",
      "0       1000       16.0        116.83          11.0    1901.47   Anamaria   \n",
      "1       1001      261.0       1640.46         207.0   80437.94     Mickey   \n",
      "2       1002      113.0        777.13          88.0   40293.33     Carlee   \n",
      "3       1003      149.0       1041.00          50.0   27044.14   Reynaldo   \n",
      "4       1004      370.0       2618.95         177.0  156352.81    Leonila   \n",
      "..       ...        ...           ...           ...        ...        ...   \n",
      "485     1495      253.0       1666.41           NaN   98890.96      Fidel   \n",
      "486     1496      195.0       1376.21          65.0   64268.64      Ariel   \n",
      "487     1497       54.0        276.53          50.0   11106.55      Donte   \n",
      "488     1498      451.0       3029.97           NaN  227525.13       Scot   \n",
      "489     1499      204.0       1450.31           NaN   71350.23      Shena   \n",
      "\n",
      "      last_name  age                                       city    reg_date  \\\n",
      "0         Bauer   45      Atlanta-Sandy Springs-Roswell, GA MSA  2018-12-24   \n",
      "1     Wilkerson   28            Seattle-Tacoma-Bellevue, WA MSA  2018-08-13   \n",
      "2       Hoffman   36       Las Vegas-Henderson-Paradise, NV MSA  2018-10-21   \n",
      "3       Jenkins   52                              Tulsa, OK MSA  2018-01-28   \n",
      "4      Thompson   40            Seattle-Tacoma-Bellevue, WA MSA  2018-05-23   \n",
      "..          ...  ...                                        ...         ...   \n",
      "485      Sharpe   67  New York-Newark-Jersey City, NY-NJ-PA MSA  2018-09-04   \n",
      "486    Shepherd   49               New Orleans-Metairie, LA MSA  2018-02-20   \n",
      "487     Barrera   49     Los Angeles-Long Beach-Anaheim, CA MSA  2018-12-10   \n",
      "488  Williamson   51  New York-Newark-Jersey City, NY-NJ-PA MSA  2018-02-04   \n",
      "489     Dickson   37          Orlando-Kissimmee-Sanford, FL MSA  2018-05-06   \n",
      "\n",
      "         plan churn_date  \n",
      "0    ultimate       2099  \n",
      "1        surf       2099  \n",
      "2        surf       2099  \n",
      "3        surf       2099  \n",
      "4        surf       2099  \n",
      "..        ...        ...  \n",
      "485      surf       2099  \n",
      "486      surf       2099  \n",
      "487  ultimate       2099  \n",
      "488      surf       2099  \n",
      "489      surf       2099  \n",
      "\n",
      "[490 rows x 12 columns]\n",
      "   user_id  call_date  duration_min  message_date    mb_used first_name  \\\n",
      "1     1001      261.0       1640.46         207.0   80437.94     Mickey   \n",
      "2     1002      113.0        777.13          88.0   40293.33     Carlee   \n",
      "3     1003      149.0       1041.00          50.0   27044.14   Reynaldo   \n",
      "4     1004      370.0       2618.95         177.0  156352.81    Leonila   \n",
      "5     1005       59.0        470.22          11.0   17140.17      Livia   \n",
      "\n",
      "   last_name  age                                  city    reg_date  plan  \\\n",
      "1  Wilkerson   28       Seattle-Tacoma-Bellevue, WA MSA  2018-08-13  surf   \n",
      "2    Hoffman   36  Las Vegas-Henderson-Paradise, NV MSA  2018-10-21  surf   \n",
      "3    Jenkins   52                         Tulsa, OK MSA  2018-01-28  surf   \n",
      "4   Thompson   40       Seattle-Tacoma-Bellevue, WA MSA  2018-05-23  surf   \n",
      "5    Shields   31   Dallas-Fort Worth-Arlington, TX MSA  2018-11-29  surf   \n",
      "\n",
      "  churn_date  \n",
      "1       2099  \n",
      "2       2099  \n",
      "3       2099  \n",
      "4       2099  \n",
      "5       2099  \n",
      "\n",
      "    user_id  call_date  duration_min  message_date    mb_used first_name  \\\n",
      "0      1000       16.0        116.83          11.0    1901.47   Anamaria   \n",
      "6      1006       11.0         64.11         154.0   34187.19     Jesusa   \n",
      "8      1008      219.0       1473.31          84.0   55473.04      Emely   \n",
      "11     1011      413.0       2744.87         371.0  131778.60     Halina   \n",
      "13     1013       35.0        203.37          16.0   20113.92    Nicolas   \n",
      "\n",
      "   last_name  age                                    city    reg_date  \\\n",
      "0      Bauer   45   Atlanta-Sandy Springs-Roswell, GA MSA  2018-12-24   \n",
      "6   Bradford   73  San Francisco-Oakland-Berkeley, CA MSA  2018-11-27   \n",
      "8    Hoffman   53       Orlando-Kissimmee-Sanford, FL MSA  2018-08-03   \n",
      "11     Henry   73                Cleveland-Elyria, OH MSA  2018-01-18   \n",
      "13    Snider   50                       Knoxville, TN MSA  2018-12-01   \n",
      "\n",
      "        plan  churn_date  \n",
      "0   ultimate        2099  \n",
      "6   ultimate  2018-12-18  \n",
      "8   ultimate        2099  \n",
      "11  ultimate        2099  \n",
      "13  ultimate        2099  \n"
     ]
    }
   ],
   "source": [
    "# Adicione as informações sobre o plano\n",
    "\n",
    "#### Juntei os dados filtrados acima, com o DataFrame Users, para obter todas as informações sobre o planos\n",
    "\n",
    "user_dados_2 = user_dados.merge(users_df, on= \"user_id\")\n",
    "print(user_dados_2)\n",
    "\n",
    "# pretendo filtrar os dois planos:\n",
    "surf_balance = user_dados_2[user_dados_2[\"plan\"] == \"surf\"]\n",
    "ultimate_balance = user_dados_2[user_dados_2[\"plan\"] == \"ultimate\"]\n",
    "print(surf_balance.head())\n",
    "print()\n",
    "print(ultimate_balance.head())\n",
    "\n",
    "# agora posso trabalhar com os dois planos separadamente."
   ]
  },
  {
   "cell_type": "markdown",
   "metadata": {
    "id": "mU8dKHTQuj8r"
   },
   "source": [
    "[Calcule a receita mensal para cada usuário: subtraia o limite gratuito do pacote do número total de chamadas, mensagens de texto e dados; multiplique o resultado pelo valor do plano; adicione o preço mensal dependendo do plano. Importante: isso talvez não seja tão simples e necessite de várias linhas, considerando as condições do plano. Portanto, não se preocupe se você passar algum tempo nesta etapa.]"
   ]
  },
  {
   "cell_type": "code",
   "execution_count": 24,
   "metadata": {
    "id": "JiPHXbQAuj8r"
   },
   "outputs": [],
   "source": [
    "# Calcule a receita mensal para cada usuário\n",
    "\n",
    "#PLANO SURF!!!!!\n",
    "\n",
    "#calculo de usuario mês:\n",
    "#Quantidade de minutos(mês) = duration_min \n",
    "#Quantidade de mensagens(mês) = message_date\n",
    "#Quantidade de dados MB(mês) = mb_used\n",
    "\n",
    "#usar ciclo for para calcular acrescimos: plano surf = mês: $20, 500 min, 50 msg, 15Gb dados,\n",
    "#acrecimos: $0.03 (min.), $0.03 (msg), $10.00 (gb) \n",
    "\n",
    "\n",
    "#eliminando NaN, convertendo colunas para float, e numeric:\n",
    "\n",
    "surf_balance = surf_balance.fillna(0)\n",
    "columns_to_convert = ['duration_min', 'message_date', 'mb_used']\n",
    "surf_balance[columns_to_convert] = surf_balance[columns_to_convert].astype(float)\n",
    "surf_balance['duration_min'] = pd.to_numeric(surf_balance['duration_min'], errors='coerce')\n",
    "surf_balance['message_date'] = pd.to_numeric(surf_balance['message_date'], errors='coerce')\n",
    "surf_balance['mb_used'] = pd.to_numeric(surf_balance['mb_used'], errors='coerce')"
   ]
  },
  {
   "cell_type": "code",
   "execution_count": 25,
   "metadata": {},
   "outputs": [
    {
     "name": "stdout",
     "output_type": "stream",
     "text": [
      "     user_id  call_date  duration_min  message_date    mb_used first_name  \\\n",
      "1       1001      261.0       1640.46         207.0   80437.94     Mickey   \n",
      "2       1002      113.0        777.13          88.0   40293.33     Carlee   \n",
      "3       1003      149.0       1041.00          50.0   27044.14   Reynaldo   \n",
      "4       1004      370.0       2618.95         177.0  156352.81    Leonila   \n",
      "5       1005       59.0        470.22          11.0   17140.17      Livia   \n",
      "..       ...        ...           ...           ...        ...        ...   \n",
      "484     1494      420.0       2672.66         174.0   91389.19    Preston   \n",
      "485     1495      253.0       1666.41           0.0   98890.96      Fidel   \n",
      "486     1496      195.0       1376.21          65.0   64268.64      Ariel   \n",
      "488     1498      451.0       3029.97           0.0  227525.13       Scot   \n",
      "489     1499      204.0       1450.31           0.0   71350.23      Shena   \n",
      "\n",
      "      last_name  age                                       city    reg_date  \\\n",
      "1     Wilkerson   28            Seattle-Tacoma-Bellevue, WA MSA  2018-08-13   \n",
      "2       Hoffman   36       Las Vegas-Henderson-Paradise, NV MSA  2018-10-21   \n",
      "3       Jenkins   52                              Tulsa, OK MSA  2018-01-28   \n",
      "4      Thompson   40            Seattle-Tacoma-Bellevue, WA MSA  2018-05-23   \n",
      "5       Shields   31        Dallas-Fort Worth-Arlington, TX MSA  2018-11-29   \n",
      "..          ...  ...                                        ...         ...   \n",
      "484       Downs   70  New York-Newark-Jersey City, NY-NJ-PA MSA  2018-04-19   \n",
      "485      Sharpe   67  New York-Newark-Jersey City, NY-NJ-PA MSA  2018-09-04   \n",
      "486    Shepherd   49               New Orleans-Metairie, LA MSA  2018-02-20   \n",
      "488  Williamson   51  New York-Newark-Jersey City, NY-NJ-PA MSA  2018-02-04   \n",
      "489     Dickson   37          Orlando-Kissimmee-Sanford, FL MSA  2018-05-06   \n",
      "\n",
      "     plan churn_date  min_add  msg_add       gb_add  \n",
      "1    surf       2099  34.2138     4.71   635.526758  \n",
      "2    surf       2099   8.3139     1.14   243.489551  \n",
      "3    surf       2099  16.2300     0.00   114.102930  \n",
      "4    surf       2099  63.5685     3.81  1376.882910  \n",
      "5    surf       2099   0.0000     0.00    17.384473  \n",
      "..    ...        ...      ...      ...          ...  \n",
      "484  surf       2099  65.1798     3.72   742.472559  \n",
      "485  surf       2099  34.9923     0.00   815.732031  \n",
      "486  surf       2099  26.2863     0.45   477.623437  \n",
      "488  surf       2099  75.8991     0.00  2071.925098  \n",
      "489  surf       2099  28.5093     0.00   546.779590  \n",
      "\n",
      "[333 rows x 15 columns]\n"
     ]
    }
   ],
   "source": [
    "### função para calcular os acréscimos para os minutos passados, msg passadas, e GB passados além do plano:\n",
    "def calculate_additional(row):\n",
    "    min_add, msg_add, gb_add = 0, 0, 0\n",
    "    if row['duration_min'] > 500.00:\n",
    "        min_add = (row['duration_min'] - 500.00) * 0.03\n",
    "    if row['message_date'] > 50.00:\n",
    "        msg_add = (row['message_date'] - 50) * 0.03\n",
    "    if row['mb_used'] > 15360.00:\n",
    "        gb_add = (row['mb_used'] - 15360.00) / 1024.00 * 10\n",
    "    return pd.Series([min_add, msg_add, gb_add], index=['min_add', 'msg_add', 'gb_add'])\n",
    "                     \n",
    "surf_balance[['min_add', 'msg_add', 'gb_add']] = surf_balance.apply(calculate_additional, axis=1)\n",
    "\n",
    "print(surf_balance)"
   ]
  },
  {
   "cell_type": "code",
   "execution_count": 26,
   "metadata": {},
   "outputs": [
    {
     "name": "stdout",
     "output_type": "stream",
     "text": [
      "     user_id  call_date  duration_min  message_date    mb_used first_name  \\\n",
      "1       1001      261.0       1640.46         207.0   80437.94     Mickey   \n",
      "2       1002      113.0        777.13          88.0   40293.33     Carlee   \n",
      "3       1003      149.0       1041.00          50.0   27044.14   Reynaldo   \n",
      "4       1004      370.0       2618.95         177.0  156352.81    Leonila   \n",
      "5       1005       59.0        470.22          11.0   17140.17      Livia   \n",
      "..       ...        ...           ...           ...        ...        ...   \n",
      "484     1494      420.0       2672.66         174.0   91389.19    Preston   \n",
      "485     1495      253.0       1666.41           0.0   98890.96      Fidel   \n",
      "486     1496      195.0       1376.21          65.0   64268.64      Ariel   \n",
      "488     1498      451.0       3029.97           0.0  227525.13       Scot   \n",
      "489     1499      204.0       1450.31           0.0   71350.23      Shena   \n",
      "\n",
      "      last_name  age                                       city    reg_date  \\\n",
      "1     Wilkerson   28            Seattle-Tacoma-Bellevue, WA MSA  2018-08-13   \n",
      "2       Hoffman   36       Las Vegas-Henderson-Paradise, NV MSA  2018-10-21   \n",
      "3       Jenkins   52                              Tulsa, OK MSA  2018-01-28   \n",
      "4      Thompson   40            Seattle-Tacoma-Bellevue, WA MSA  2018-05-23   \n",
      "5       Shields   31        Dallas-Fort Worth-Arlington, TX MSA  2018-11-29   \n",
      "..          ...  ...                                        ...         ...   \n",
      "484       Downs   70  New York-Newark-Jersey City, NY-NJ-PA MSA  2018-04-19   \n",
      "485      Sharpe   67  New York-Newark-Jersey City, NY-NJ-PA MSA  2018-09-04   \n",
      "486    Shepherd   49               New Orleans-Metairie, LA MSA  2018-02-20   \n",
      "488  Williamson   51  New York-Newark-Jersey City, NY-NJ-PA MSA  2018-02-04   \n",
      "489     Dickson   37          Orlando-Kissimmee-Sanford, FL MSA  2018-05-06   \n",
      "\n",
      "     plan churn_date  min_add  msg_add       gb_add   user_total  \n",
      "1    surf       2099  34.2138     4.71   635.526758   694.450558  \n",
      "2    surf       2099   8.3139     1.14   243.489551   272.943451  \n",
      "3    surf       2099  16.2300     0.00   114.102930   150.332930  \n",
      "4    surf       2099  63.5685     3.81  1376.882910  1464.261410  \n",
      "5    surf       2099   0.0000     0.00    17.384473    37.384473  \n",
      "..    ...        ...      ...      ...          ...          ...  \n",
      "484  surf       2099  65.1798     3.72   742.472559   831.372359  \n",
      "485  surf       2099  34.9923     0.00   815.732031   870.724331  \n",
      "486  surf       2099  26.2863     0.45   477.623437   524.359737  \n",
      "488  surf       2099  75.8991     0.00  2071.925098  2167.824198  \n",
      "489  surf       2099  28.5093     0.00   546.779590   595.288890  \n",
      "\n",
      "[333 rows x 16 columns]\n"
     ]
    }
   ],
   "source": [
    "####Soma total para cada usuário do plano Surf:\n",
    "\n",
    "surf_balance['user_total'] = surf_balance['min_add'] + surf_balance['msg_add'] + surf_balance['gb_add'] + 20.00\n",
    "\n",
    "print(surf_balance)"
   ]
  },
  {
   "cell_type": "markdown",
   "metadata": {},
   "source": [
    "#### (acima) Total gasto por cada usuário do plano surf na coluna 'user_total'"
   ]
  },
  {
   "cell_type": "code",
   "execution_count": 27,
   "metadata": {},
   "outputs": [],
   "source": [
    "# Calcule a receita mensal para cada usuário\n",
    "\n",
    "#PLANO ULTIMATE!!!!!\n",
    "\n",
    "#calculo de usuario mês:\n",
    "#Quantidade de minutos(mês) = duration_min \n",
    "#Quantidade de mensagens(mês) = message_date\n",
    "#Quantidade de dados MB(mês) = mb_used\n",
    "\n",
    "#usar ciclo for para calcular acrescimos: plano ultimate = mês: $70, 3000 min, 1000 msg, 30Gb dados,\n",
    "#acrecimos: $0.01 (min.), $0.01 (msg), $7.00 (gb) \n",
    "\n",
    "\n",
    "#eliminando NaN, convertendo colunas para float, e numeric:\n",
    "ultimate_balance = ultimate_balance.fillna(0)\n",
    "columns_to_convert1 = ['duration_min', 'message_date', 'mb_used']\n",
    "ultimate_balance[columns_to_convert1] = ultimate_balance[columns_to_convert1].astype(float)\n",
    "ultimate_balance['duration_min'] = pd.to_numeric(ultimate_balance['duration_min'], errors='coerce')\n",
    "ultimate_balance['message_date'] = pd.to_numeric(ultimate_balance['message_date'], errors='coerce')\n",
    "ultimate_balance['mb_used'] = pd.to_numeric(ultimate_balance['mb_used'], errors='coerce')"
   ]
  },
  {
   "cell_type": "code",
   "execution_count": 28,
   "metadata": {},
   "outputs": [
    {
     "name": "stdout",
     "output_type": "stream",
     "text": [
      "     user_id  call_date  duration_min  message_date    mb_used first_name  \\\n",
      "0       1000       16.0        116.83          11.0    1901.47   Anamaria   \n",
      "6       1006       11.0         64.11         154.0   34187.19     Jesusa   \n",
      "8       1008      219.0       1473.31          84.0   55473.04      Emely   \n",
      "11      1011      413.0       2744.87         371.0  131778.60     Halina   \n",
      "13      1013       35.0        203.37          16.0   20113.92    Nicolas   \n",
      "..       ...        ...           ...           ...        ...        ...   \n",
      "472     1482      120.0        786.62          94.0   20806.13     Armand   \n",
      "477     1487       56.0        392.71          66.0   13992.39      Elton   \n",
      "480     1490      312.0       2123.33           0.0  190904.51      Shane   \n",
      "483     1493      320.0       2197.37           0.0   76378.43     Cicely   \n",
      "487     1497       54.0        276.53          50.0   11106.55      Donte   \n",
      "\n",
      "    last_name  age                                       city    reg_date  \\\n",
      "0       Bauer   45      Atlanta-Sandy Springs-Roswell, GA MSA  2018-12-24   \n",
      "6    Bradford   73     San Francisco-Oakland-Berkeley, CA MSA  2018-11-27   \n",
      "8     Hoffman   53          Orlando-Kissimmee-Sanford, FL MSA  2018-08-03   \n",
      "11      Henry   73                   Cleveland-Elyria, OH MSA  2018-01-18   \n",
      "13     Snider   50                          Knoxville, TN MSA  2018-12-01   \n",
      "..        ...  ...                                        ...         ...   \n",
      "472     Glenn   70  New York-Newark-Jersey City, NY-NJ-PA MSA  2018-01-01   \n",
      "477   Simpson   18              Cape Coral-Fort Myers, FL MSA  2018-08-16   \n",
      "480    Cortez   42        Sacramento–Roseville–Folsom, CA MSA  2018-01-20   \n",
      "483      Wynn   18         Boston-Cambridge-Newton, MA-NH MSA  2018-03-06   \n",
      "487   Barrera   49     Los Angeles-Long Beach-Anaheim, CA MSA  2018-12-10   \n",
      "\n",
      "         plan  churn_date  min_add  msg_add       gb_add  \n",
      "0    ultimate        2099      0.0      0.0     0.000000  \n",
      "6    ultimate  2018-12-18      0.0      0.0    23.701494  \n",
      "8    ultimate        2099      0.0      0.0   169.210234  \n",
      "11   ultimate        2099      0.0      0.0   690.830273  \n",
      "13   ultimate        2099      0.0      0.0     0.000000  \n",
      "..        ...         ...      ...      ...          ...  \n",
      "472  ultimate        2099      0.0      0.0     0.000000  \n",
      "477  ultimate        2099      0.0      0.0     0.000000  \n",
      "480  ultimate        2099      0.0      0.0  1095.011299  \n",
      "483  ultimate        2099      0.0      0.0   312.118174  \n",
      "487  ultimate        2099      0.0      0.0     0.000000  \n",
      "\n",
      "[157 rows x 15 columns]\n"
     ]
    }
   ],
   "source": [
    "### função para calcular os acréscimos para os minutos passados, msg passadas, e GB passados além do plano:\n",
    "def calculate_additional_1(row):\n",
    "    min_add, msg_add, gb_add = 0, 0, 0\n",
    "    if row['duration_min'] > 3000.00:\n",
    "        min_add = (row['duration_min'] - 3000.00) * 0.01\n",
    "    if row['message_date'] > 1000.00:\n",
    "        msg_add = (row['message_date'] - 1000) * 0.01\n",
    "    if row['mb_used'] > 30720.00:\n",
    "        gb_add = (row['mb_used'] - 30720.00) / 1024.00 * 7\n",
    "    return pd.Series([min_add, msg_add, gb_add], index=['min_add', 'msg_add', 'gb_add'])\n",
    "                     \n",
    "ultimate_balance[['min_add', 'msg_add', 'gb_add']] = ultimate_balance.apply(calculate_additional_1, axis=1)\n",
    "\n",
    "print(ultimate_balance)"
   ]
  },
  {
   "cell_type": "code",
   "execution_count": 29,
   "metadata": {},
   "outputs": [
    {
     "name": "stdout",
     "output_type": "stream",
     "text": [
      "     user_id  call_date  duration_min  message_date    mb_used first_name  \\\n",
      "0       1000       16.0        116.83          11.0    1901.47   Anamaria   \n",
      "6       1006       11.0         64.11         154.0   34187.19     Jesusa   \n",
      "8       1008      219.0       1473.31          84.0   55473.04      Emely   \n",
      "11      1011      413.0       2744.87         371.0  131778.60     Halina   \n",
      "13      1013       35.0        203.37          16.0   20113.92    Nicolas   \n",
      "..       ...        ...           ...           ...        ...        ...   \n",
      "472     1482      120.0        786.62          94.0   20806.13     Armand   \n",
      "477     1487       56.0        392.71          66.0   13992.39      Elton   \n",
      "480     1490      312.0       2123.33           0.0  190904.51      Shane   \n",
      "483     1493      320.0       2197.37           0.0   76378.43     Cicely   \n",
      "487     1497       54.0        276.53          50.0   11106.55      Donte   \n",
      "\n",
      "    last_name  age                                       city    reg_date  \\\n",
      "0       Bauer   45      Atlanta-Sandy Springs-Roswell, GA MSA  2018-12-24   \n",
      "6    Bradford   73     San Francisco-Oakland-Berkeley, CA MSA  2018-11-27   \n",
      "8     Hoffman   53          Orlando-Kissimmee-Sanford, FL MSA  2018-08-03   \n",
      "11      Henry   73                   Cleveland-Elyria, OH MSA  2018-01-18   \n",
      "13     Snider   50                          Knoxville, TN MSA  2018-12-01   \n",
      "..        ...  ...                                        ...         ...   \n",
      "472     Glenn   70  New York-Newark-Jersey City, NY-NJ-PA MSA  2018-01-01   \n",
      "477   Simpson   18              Cape Coral-Fort Myers, FL MSA  2018-08-16   \n",
      "480    Cortez   42        Sacramento–Roseville–Folsom, CA MSA  2018-01-20   \n",
      "483      Wynn   18         Boston-Cambridge-Newton, MA-NH MSA  2018-03-06   \n",
      "487   Barrera   49     Los Angeles-Long Beach-Anaheim, CA MSA  2018-12-10   \n",
      "\n",
      "         plan  churn_date  min_add  msg_add       gb_add   user_total  \n",
      "0    ultimate        2099      0.0      0.0     0.000000    70.000000  \n",
      "6    ultimate  2018-12-18      0.0      0.0    23.701494    93.701494  \n",
      "8    ultimate        2099      0.0      0.0   169.210234   239.210234  \n",
      "11   ultimate        2099      0.0      0.0   690.830273   760.830273  \n",
      "13   ultimate        2099      0.0      0.0     0.000000    70.000000  \n",
      "..        ...         ...      ...      ...          ...          ...  \n",
      "472  ultimate        2099      0.0      0.0     0.000000    70.000000  \n",
      "477  ultimate        2099      0.0      0.0     0.000000    70.000000  \n",
      "480  ultimate        2099      0.0      0.0  1095.011299  1165.011299  \n",
      "483  ultimate        2099      0.0      0.0   312.118174   382.118174  \n",
      "487  ultimate        2099      0.0      0.0     0.000000    70.000000  \n",
      "\n",
      "[157 rows x 16 columns]\n"
     ]
    }
   ],
   "source": [
    "####Soma total para cada usuário do plano Ultimate:\n",
    "\n",
    "ultimate_balance['user_total'] = ultimate_balance['min_add'] + ultimate_balance['msg_add'] + ultimate_balance['gb_add'] + 70.00\n",
    "\n",
    "print(ultimate_balance)"
   ]
  },
  {
   "cell_type": "markdown",
   "metadata": {},
   "source": [
    "#### Total gasto por cada usuário do plano ultimate na coluna 'user_total'"
   ]
  },
  {
   "cell_type": "markdown",
   "metadata": {
    "id": "0HFWXKTQuj8r"
   },
   "source": [
    "## Estude o comportamento do usuário"
   ]
  },
  {
   "cell_type": "markdown",
   "metadata": {
    "id": "i6gGFggkuj8s"
   },
   "source": [
    "[Calcule algumas estatísticas descritivas úteis para os dados agregados, o que costuma revelar uma imagem geral capturada pelos dados. Desenhe gráficos úteis para ajudar na compreensão. Já que a tarefa principal é comparar os planos e decidir qual é mais rentável, as estatísticas e os gráficos devem ser calculados por plano.]\n",
    "\n",
    "[Existem dicas relevantes nos comentários para as chamadas. Essas dicas não foram fornecidas para as mensagens e internet, mas o princípio do estudo estatístico é o mesmo em todos os casos.]"
   ]
  },
  {
   "cell_type": "markdown",
   "metadata": {
    "id": "umaMfSLxuj8s"
   },
   "source": [
    "### Chamadas"
   ]
  },
  {
   "cell_type": "code",
   "execution_count": 30,
   "metadata": {
    "id": "0236-tJnuj8t"
   },
   "outputs": [
    {
     "data": {
      "image/png": "[encoded data removed]",
      "text/plain": [
       "<Figure size 1200x600 with 1 Axes>"
      ]
     },
     "metadata": {},
     "output_type": "display_data"
    }
   ],
   "source": [
    "# Compare a duração média das chamadas de cada plano para cada mês. Crie um gráfico de barras para visualizar o resultado.\n",
    "import matplotlib.pyplot as plt\n",
    "import seaborn as sns\n",
    "\n",
    "#juntando os dataframes calls e users e ajustando os dados da coluna 'call_date':\n",
    "grafic_1 = users_df.merge(calls_df, on= \"user_id\")\n",
    "grafic_1['mes'] = grafic_1['reg_date'].str[5:7]\n",
    "\n",
    "#novo código com a sugestão:\n",
    "grafic_1_bar = grafic_1.groupby(['mes', 'plan'])['duration_min'].mean().reset_index()\n",
    "#grafico:\n",
    "plt.figure(figsize=(12, 6))\n",
    "sns.barplot(data= grafic_1_bar, x='mes', y='duration_min', hue='plan')\n",
    "plt.xticks(rotation=45)\n",
    "plt.xlabel('Calls')\n",
    "plt.ylabel('Minutes')\n",
    "plt.title('Call Duration by Plan')\n",
    "plt.show()\n",
    "\n"
   ]
  },
  {
   "cell_type": "markdown",
   "metadata": {},
   "source": [
    "#### Resposta do Aluno: Em termos de minutos gastos em chamadas, ambos os planos tem uma duração aproximada!"
   ]
  },
  {
   "cell_type": "code",
   "execution_count": 31,
   "metadata": {},
   "outputs": [],
   "source": [
    "surf_balance['mes'] = surf_balance['reg_date'].str[5:7]\n",
    "ultimate_balance['mes'] = ultimate_balance['reg_date'].str[5:7]\n"
   ]
  },
  {
   "cell_type": "code",
   "execution_count": 32,
   "metadata": {
    "id": "9sCQ1lP8uj8u"
   },
   "outputs": [
    {
     "data": {
      "image/png": "[encoded data removed]",
      "text/plain": [
       "<Figure size 640x480 with 1 Axes>"
      ]
     },
     "metadata": {},
     "output_type": "display_data"
    },
    {
     "data": {
      "image/png": "[encoded data removed]",
      "text/plain": [
       "<Figure size 640x480 with 1 Axes>"
      ]
     },
     "metadata": {},
     "output_type": "display_data"
    }
   ],
   "source": [
    "# Compare o número de minutos que os usuários de cada plano necessitam a cada mês. Construa um histograma.\n",
    "hist_surf = surf_balance.groupby('mes')['user_id'].hist()\n",
    "plt.xlabel(\"users\")\n",
    "plt.ylabel(\"duration_min\")\n",
    "plt.show()\n",
    "\n",
    "hist_ultimate = ultimate_balance.groupby('mes')['user_id'].hist()\n",
    "plt.xlabel(\"users\")\n",
    "plt.ylabel(\"duration_min\")\n",
    "plt.title('ultimate')\n",
    "plt.show()"
   ]
  },
  {
   "cell_type": "markdown",
   "metadata": {},
   "source": [
    "#### Resposta do Aluno: Acima dois histogramas criados para os dois planos. Observa-se uma variação de comportamento, onde certos grupos de usuários têm maiores valores de minutos acumulados ou mais contribuições em comparação a outros. Por exemplo: A região entre 1200 e 1400 (surf) usuários parece ter uma maior concentração de duração acumulada, indicando um comportamento de uso mais intenso nesse intervalo."
   ]
  },
  {
   "cell_type": "markdown",
   "metadata": {
    "id": "_x1pRDFtuj8u"
   },
   "source": [
    "[Calcule a média e a variância da duração das chamadas para refletir se os usuários de cada plano possuem comportamentos diferentes sobre as chamadas.]"
   ]
  },
  {
   "cell_type": "code",
   "execution_count": 33,
   "metadata": {
    "id": "cIdodPExuj8u"
   },
   "outputs": [
    {
     "name": "stdout",
     "output_type": "stream",
     "text": [
      "a média de minutos do plano Surf é: 159.33214214214215\n",
      "a variancia do plano Surf é :  219673.95692935734\n",
      "\n",
      "a média de minutos do plano Ultimate é:  155.23302547770695\n",
      "a variancia do plano Ultimate é:  214355.90353721005\n"
     ]
    }
   ],
   "source": [
    "# Calcule a média e a variância da duração mensal das chamadas\n",
    "print('a média de minutos do plano Surf é:', surf_balance['duration_min'].mean()/12)\n",
    "print('a variancia do plano Surf é : ', surf_balance['duration_min'].var()/12)\n",
    "print()\n",
    "print('a média de minutos do plano Ultimate é: ', ultimate_balance['duration_min'].mean()/12)\n",
    "print('a variancia do plano Ultimate é: ', ultimate_balance['duration_min'].var()/12)\n"
   ]
  },
  {
   "cell_type": "code",
   "execution_count": 34,
   "metadata": {
    "id": "DW7vTypxuj8u",
    "scrolled": true
   },
   "outputs": [
    {
     "name": "stdout",
     "output_type": "stream",
     "text": [
      "159.33214214214215\n",
      "155.23302547770695\n"
     ]
    },
    {
     "data": {
      "text/plain": [
       "<AxesSubplot:xlabel='duration_min'>"
      ]
     },
     "execution_count": 34,
     "metadata": {},
     "output_type": "execute_result"
    },
    {
     "data": {
      "image/png": "[encoded data removed]",
      "text/plain": [
       "<Figure size 1000x600 with 1 Axes>"
      ]
     },
     "metadata": {},
     "output_type": "display_data"
    }
   ],
   "source": [
    "# Faça um diagrama de caixa para visualizar a distribuição da duração mensal das chamadas\n",
    "import seaborn as sns\n",
    "\n",
    "surf_mean = surf_balance['duration_min'].mean()/12\n",
    "ultimate_mean = ultimate_balance['duration_min'].mean()/12\n",
    "print(surf_mean)\n",
    "print(ultimate_mean)\n",
    "\n",
    "plt.figure(figsize=(10, 6))\n",
    "sns.boxplot(x=surf_balance['duration_min'], color='blue')\n",
    "sns.boxplot(x=ultimate_balance['duration_min'], color='red')"
   ]
  },
  {
   "cell_type": "markdown",
   "metadata": {},
   "source": [
    "#### Resposta do aluno: A maior parte dos dados está concentrada entre os limites do box 25º e 75º percentis (duração chamada). Existem valores significativamente acima do limite superior (marcados como pontos). Esses são os outliers e representam usuários com durações de chamadas muito acima do esperado. A linha no centro do box representa a mediana da duração das chamadas. Ela está mais próxima do limite inferior do box. Os limites inferior e superior (as extremidades dos \"bigodes\") representam o alcance dos dados sem considerar os outliers. "
   ]
  },
  {
   "cell_type": "markdown",
   "metadata": {
    "id": "Uyt3rWn7uj8u"
   },
   "source": [
    "[Formule conclusões sobre como os usuários se comportam em termos de chamadas. O comportamento é diferente dependendo do plano?]"
   ]
  },
  {
   "cell_type": "markdown",
   "metadata": {
    "id": "2hWSPtrnuj8v"
   },
   "source": [
    "### Mensagens"
   ]
  },
  {
   "cell_type": "code",
   "execution_count": 35,
   "metadata": {
    "id": "9kPlAhOJuj8v"
   },
   "outputs": [
    {
     "name": "stdout",
     "output_type": "stream",
     "text": [
      " Os usuarios do plano surf costumam enviar:  333 mensagens por mês\n",
      " Os usuarios do plano ultimate costumam enviar:  157 mensagens por mês\n"
     ]
    }
   ],
   "source": [
    "# Compare o número de mensagens que os usuários de cada plano costumam enviar a cada mês\n",
    "\n",
    "surf_msg = surf_balance['message_date'].count()\n",
    "ultimate_msg = ultimate_balance['message_date'].count()\n",
    "print(' Os usuarios do plano surf costumam enviar: ', surf_msg, 'mensagens por mês')\n",
    "print(' Os usuarios do plano ultimate costumam enviar: ', ultimate_msg, 'mensagens por mês')"
   ]
  },
  {
   "cell_type": "code",
   "execution_count": 36,
   "metadata": {
    "id": "fIVdRuT6uj8v"
   },
   "outputs": [
    {
     "name": "stdout",
     "output_type": "stream",
     "text": [
      " Os usuarios do plano surf costumam usar:  78216.75654654654 Megas por plano\n",
      " Os usuarios do plano ultimate costumam usar:  78946.39350318469 Megas por plano\n"
     ]
    }
   ],
   "source": [
    "# Compare a quantidade de tráfego de internet consumido pelos usuários por plano\n",
    "\n",
    "surf_web = surf_balance['mb_used'].mean()\n",
    "ultimate_web = ultimate_balance['mb_used'].mean()\n",
    "print(' Os usuarios do plano surf costumam usar: ', surf_web, 'Megas por plano')\n",
    "print(' Os usuarios do plano ultimate costumam usar: ', ultimate_web, 'Megas por plano')"
   ]
  },
  {
   "cell_type": "markdown",
   "metadata": {
    "id": "v6QELMtcuj8v"
   },
   "source": [
    "[Formule conclusões sobre como os usuários costumam consumir o tráfego da internet. O comportamento é diferente dependendo do plano?]"
   ]
  },
  {
   "cell_type": "markdown",
   "metadata": {
    "id": "nHUCwAnauj8w"
   },
   "source": [
    "### Internet"
   ]
  },
  {
   "cell_type": "markdown",
   "metadata": {
    "id": "GsHkFpGmuj8w"
   },
   "source": [
    "[Formule conclusões sobre como os usuários tendem a consumir o tráfego da internet. O comportamento é diferente dependendo do plano?]"
   ]
  },
  {
   "cell_type": "code",
   "execution_count": 37,
   "metadata": {
    "id": "EEm27RaRuj8w"
   },
   "outputs": [
    {
     "data": {
      "image/png": "[encoded data removed]",
      "text/plain": [
       "<Figure size 640x480 with 1 Axes>"
      ]
     },
     "metadata": {},
     "output_type": "display_data"
    }
   ],
   "source": [
    "import matplotlib.pyplot as plt\n",
    "user_internet = user_dados_2.groupby('plan')['mb_used'].count().plot(kind= 'bar')"
   ]
  },
  {
   "cell_type": "markdown",
   "metadata": {},
   "source": [
    "#### Resultado: o fluxo de internet é muito maior no plano Surf, tanto é que como a maioria dos clientes ultrapassa os 15GB, e devido a taxa.. podemos ver abaixo ele se torna muito mais lucrativo para a companhia."
   ]
  },
  {
   "cell_type": "markdown",
   "metadata": {
    "id": "g23qXaYNuj8x"
   },
   "source": [
    "## Receita"
   ]
  },
  {
   "cell_type": "markdown",
   "metadata": {
    "id": "qI9oKXFZuj8y"
   },
   "source": [
    "[Da mesma forma que você estudou o comportamento dos usuários, descreva estatisticamente as receitas dos planos.]"
   ]
  },
  {
   "cell_type": "code",
   "execution_count": 38,
   "metadata": {
    "id": "CGuBwYRyuj8y"
   },
   "outputs": [
    {
     "name": "stdout",
     "output_type": "stream",
     "text": [
      "O realizado do plano Surf é:  229175.7800796875\n",
      "\n",
      "O realizado no plano Ultimate é:  67305.14003945312\n"
     ]
    }
   ],
   "source": [
    "surf_balance_total = surf_balance['user_total'].sum()\n",
    "ultimate_balance_total = ultimate_balance['user_total'].sum()\n",
    "print('O realizado do plano Surf é: ', surf_balance_total)\n",
    "print()\n",
    "print('O realizado no plano Ultimate é: ', ultimate_balance_total)"
   ]
  },
  {
   "cell_type": "markdown",
   "metadata": {
    "id": "qJSyfvUguj8y"
   },
   "source": [
    "### Resposta: Como podemos ver o Plano Surf traz maior lucratividade a companhia!!"
   ]
  },
  {
   "cell_type": "markdown",
   "metadata": {
    "id": "6X34EwHpuj8z"
   },
   "source": [
    "[Formule conclusões sobre como a receita difere entre os planos.]"
   ]
  },
  {
   "cell_type": "markdown",
   "metadata": {
    "id": "xJ6Mu-KAuj8z"
   },
   "source": [
    "## Teste hipóteses estatísticas"
   ]
  },
  {
   "cell_type": "markdown",
   "metadata": {
    "id": "lop_0j4Duj8z"
   },
   "source": [
    "[Teste a hipótese de que a receita média dos usuários dos planos Ultimate e Surf são diferentes.]"
   ]
  },
  {
   "cell_type": "markdown",
   "metadata": {
    "id": "-X2l1R8Luj80"
   },
   "source": [
    "[Formule as hipóteses nula e alternativa, escolha o teste estatístico, escolha o valor alfa.]"
   ]
  },
  {
   "cell_type": "code",
   "execution_count": 42,
   "metadata": {},
   "outputs": [
    {
     "data": {
      "text/plain": [
       "0"
      ]
     },
     "execution_count": 42,
     "metadata": {},
     "output_type": "execute_result"
    }
   ],
   "source": [
    "surf_balance['user_total'].isna().sum()"
   ]
  },
  {
   "cell_type": "code",
   "execution_count": 43,
   "metadata": {},
   "outputs": [
    {
     "data": {
      "text/plain": [
       "0"
      ]
     },
     "execution_count": 43,
     "metadata": {},
     "output_type": "execute_result"
    }
   ],
   "source": [
    "ultimate_balance['user_total'].isna().sum()"
   ]
  },
  {
   "cell_type": "code",
   "execution_count": 49,
   "metadata": {
    "id": "LyGrPhpUuj80"
   },
   "outputs": [
    {
     "name": "stdout",
     "output_type": "stream",
     "text": [
      "valor-p:  1.3101137069058406e-07\n",
      "Rejeitamos a hipóteses Nula\n",
      "375835.7087267991\n",
      "189092.3040176384\n"
     ]
    }
   ],
   "source": [
    "# Teste as hipóteses, definindo as hipóteses:\n",
    "\n",
    "#Hipótese Nula = receitas média de ambos os planos são iguais.\n",
    "#Hipótese Alternativa = receitas médias de ambos os planos são diferentes.\n",
    "\n",
    "#importando biblioteca:\n",
    "from scipy import stats as st\n",
    "\n",
    "#convertendo dados para evitar qualquer erros:\n",
    "surf_balance['user_total'] = pd.to_numeric(surf_balance['user_total'], errors='coerce').dropna()\n",
    "ultimate_balance['user_total'] = pd.to_numeric(ultimate_balance['user_total'], errors='coerce').dropna()\n",
    "surf_balance['user_total'] = surf_balance['user_total'].astype(int)\n",
    "ultimate_balance['user_total'] = ultimate_balance['user_total'].astype(int)\n",
    "\n",
    "#teste:\n",
    "teste_surf = surf_balance['user_total']\n",
    "teste_ultimate = ultimate_balance['user_total']\n",
    "alpha = 0.05\n",
    "results = st.ttest_ind(teste_surf, teste_ultimate, equal_var = False)\n",
    "print('valor-p: ', results.pvalue)\n",
    "if results.pvalue < alpha:\n",
    "    print(\"Rejeitamos a hipóteses Nula\")\n",
    "else:\n",
    "    print(\"Não podemos rejeitar a hipótese Nula\")\n",
    "\n",
    "    #conferindo a variancia:\n",
    "var_surf = pd.Series(teste_surf).var()\n",
    "var_ultimate = pd.Series(teste_ultimate).var()\n",
    "print(var_surf)\n",
    "print(var_ultimate)"
   ]
  },
  {
   "cell_type": "markdown",
   "metadata": {
    "id": "Cz6rwE56uj80"
   },
   "source": [
    "[Teste a hipótese de que a receita média dos usuários da área de NY-NJ difere dos usuários das demais regiões.]"
   ]
  },
  {
   "cell_type": "markdown",
   "metadata": {
    "id": "kMHim5__uj80"
   },
   "source": [
    "[Formule as hipóteses nula e alternativa, escolha o teste estatístico, escolha o valor alfa.]"
   ]
  },
  {
   "cell_type": "code",
   "execution_count": 55,
   "metadata": {
    "id": "98t8iiJyuj80"
   },
   "outputs": [
    {
     "name": "stdout",
     "output_type": "stream",
     "text": [
      "valor-p:  0.2235969193558584\n",
      "Não podemos rejeitas a hipótese Nula\n",
      "variância NY_NJ:  357693.0745762712\n",
      "variância demais localidades:  379156.1380898513\n"
     ]
    }
   ],
   "source": [
    "# Teste as hipóteses\n",
    "\n",
    "#Hipótese Nula: NY_NJ tem a receite média igual as demais regiões.\n",
    "#Hipótese Alternativa: NY_NJ tem a receita maior ou menor as demais regiões.\n",
    "\n",
    "#Extrair listas\n",
    "test_surf_NY = []\n",
    "test_surf_Other = []\n",
    "\n",
    "for index, row in surf_balance.iterrows():\n",
    "    if row['city'] == 'New York-Newark-Jersey City, NY-NJ-PA MSA':\n",
    "        test_surf_NY.append(row)\n",
    "    else:\n",
    "        test_surf_Other.append(row)\n",
    "        \n",
    "#converter as listas para DF:\n",
    "test_surf_NY_df = pd.DataFrame(test_surf_NY)\n",
    "test_surf_Other_df = pd.DataFrame(test_surf_Other)\n",
    "\n",
    "#Conversão do tipo de dado dos DF recém elaborados:\n",
    "test_surf_NY_df['user_total'] = pd.to_numeric(test_surf_NY_df['user_total'], errors='coerce').dropna()\n",
    "test_surf_Other_df['user_total'] = pd.to_numeric(test_surf_Other_df['user_total'], errors='coerce').dropna()\n",
    "test_surf_NY_df['user_total'] = test_surf_NY_df['user_total'].astype(int)\n",
    "test_surf_Other_df['user_total'] = test_surf_Other_df['user_total'].astype(int) \n",
    "\n",
    "#teste de Hipótese\n",
    "teste_surf_NY = test_surf_NY_df['user_total']\n",
    "teste_surf_Other = test_surf_Other_df['user_total']              \n",
    "alpha = 0.05\n",
    "results = st.ttest_ind(teste_surf_NY, teste_surf_Other, equal_var= False)\n",
    "print('valor-p: ', results.pvalue)\n",
    "if results.pvalue < alpha:\n",
    "    print(\"Rejeitamos a hipóteses Nula\")\n",
    "else:\n",
    "    print(\"Não podemos rejeitas a hipótese Nula\")\n",
    "\n",
    "#conferindo a variancia:\n",
    "var_surf_1 = pd.Series(teste_surf_NY).var()\n",
    "var_surf_2 = pd.Series(teste_surf_Other).var()\n",
    "print('variância NY_NJ: ',var_surf_1)\n",
    "print('variância demais localidades: ', var_surf_2)\n"
   ]
  },
  {
   "cell_type": "code",
   "execution_count": 54,
   "metadata": {},
   "outputs": [
    {
     "name": "stdout",
     "output_type": "stream",
     "text": [
      "valor-p:  0.31520297112674317\n",
      "Não podemos rejeitas a hipótese Nula\n",
      "variancia NY-NJ: 216239.54385964907\n",
      "variancia demais localidades:  185504.51073733208\n"
     ]
    }
   ],
   "source": [
    "### Agora para o plano ultimate:\n",
    "\n",
    "# Teste as hipóteses\n",
    "#Extrair listas\n",
    "test_ultimate_NY = []\n",
    "test_ultimate_Other = []\n",
    "\n",
    "for index, row in ultimate_balance.iterrows():\n",
    "    if row['city'] == 'New York-Newark-Jersey City, NY-NJ-PA MSA':\n",
    "        test_ultimate_NY.append(row)\n",
    "    else:\n",
    "        test_ultimate_Other.append(row)\n",
    "        \n",
    "#converter para DF:\n",
    "test_ultimate_NY_df = pd.DataFrame(test_ultimate_NY)\n",
    "test_ultimate_Other_df = pd.DataFrame(test_ultimate_Other)\n",
    "\n",
    "#Conversão do tipo de dado:\n",
    "test_ultimate_NY_df['user_total'] = pd.to_numeric(test_ultimate_NY_df['user_total'], errors='coerce').dropna()\n",
    "test_ultimate_Other_df['user_total'] = pd.to_numeric(test_ultimate_Other_df['user_total'], errors='coerce').dropna()\n",
    "test_ultimate_NY_df['user_total'] = test_ultimate_NY_df['user_total'].astype(int)\n",
    "test_ultimate_Other_df['user_total'] = test_ultimate_Other_df['user_total'].astype(int)\n",
    "\n",
    "#teste\n",
    "teste_ultimate_NY = test_ultimate_NY_df['user_total']\n",
    "teste_ultimate_Other = test_ultimate_Other_df['user_total']              \n",
    "alpha = 0.05\n",
    "results = st.ttest_ind(teste_ultimate_NY, teste_ultimate_Other)\n",
    "print('valor-p: ', results.pvalue)\n",
    "if results.pvalue < alpha:\n",
    "    print(\"Rejeitamos a hipóteses Nula\")\n",
    "else:\n",
    "    print(\"Não podemos rejeitas a hipótese Nula\")\n",
    "    \n",
    "#conferindo a variancia:\n",
    "var_ultimate_1 = pd.Series(teste_ultimate_NY).var()\n",
    "var_ultimate_2 = pd.Series(teste_ultimate_Other).var()\n",
    "print('variancia NY-NJ:', var_ultimate_1)\n",
    "print('variancia demais localidades: ', var_ultimate_2)    "
   ]
  },
  {
   "cell_type": "code",
   "execution_count": 45,
   "metadata": {},
   "outputs": [
    {
     "data": {
      "text/plain": [
       "1      False\n",
       "2      False\n",
       "3      False\n",
       "4      False\n",
       "5      False\n",
       "       ...  \n",
       "484     True\n",
       "485     True\n",
       "486    False\n",
       "488     True\n",
       "489    False\n",
       "Name: city, Length: 333, dtype: bool"
      ]
     },
     "execution_count": 45,
     "metadata": {},
     "output_type": "execute_result"
    }
   ],
   "source": [
    "surf_balance['city'].str.contains('NY-NJ')"
   ]
  },
  {
   "cell_type": "markdown",
   "metadata": {},
   "source": [
    "#### Resposta: \n",
    "#### Como podemos observar, foi realizado os testes considerando a hipótese nula, a região de NY-NJ ter a receita média igual as demais regiões.  E para ambos os testes com os diferentes planos, apontam que não devemos desconsiderar essa possibilidade."
   ]
  },
  {
   "cell_type": "markdown",
   "metadata": {},
   "source": [
    "## Conclusão: \n",
    "#### O volume de dados consumido pelos clientes do plano **Surf** ultrapassa frequentemente o limite do plano, gerando receitas adicionais significativas para a empresa.\n",
    "- Apesar de o comportamento médio entre os usuários dos dois planos ser semelhante, o plano **Ultimate** apresenta maior custo-benefício para os clientes.\n",
    "- A região **NY-NJ** não apresenta diferença significativa na receita média em comparação com outras regiões, com base nos testes realizados.\n",
    "\n",
    "### Insights Relevantes:\n",
    "1. O plano **Surf** gera mais receita para a empresa devido ao consumo de internet que frequentemente excede o limite do plano.\n",
    "2. Para os clientes, o plano **Ultimate** seria mais vantajoso financeiramente, mas para a empresa, manter clientes no plano **Surf** é mais lucrativo.\n",
    "\n",
    "#### Este projeto demonstrou que, enquanto os clientes do plano **Surf** poderiam se beneficiar de um upgrade para o plano **Ultimate**, a empresa Megaline obtém maior lucro quando os clientes permanecem no plano Surf devido às taxas de excedente.\n"
   ]
  },
  {
   "cell_type": "code",
   "execution_count": null,
   "metadata": {},
   "outputs": [],
   "source": []
  }
 ],
 "metadata": {
  "ExecuteTimeLog": [
   {
    "duration": 828,
    "start_time": "2021-11-16T09:21:11.304Z"
   },
   {
    "duration": 893,
    "start_time": "2021-11-16T09:21:17.728Z"
   },
   {
    "duration": 1150,
    "start_time": "2021-11-16T09:21:29.568Z"
   },
   {
    "duration": 3,
    "start_time": "2021-11-16T09:24:14.495Z"
   },
   {
    "duration": 120,
    "start_time": "2021-11-16T09:24:46.630Z"
   },
   {
    "duration": 3,
    "start_time": "2021-11-16T09:28:27.882Z"
   },
   {
    "duration": 4,
    "start_time": "2021-11-16T09:29:54.281Z"
   },
   {
    "duration": 3,
    "start_time": "2021-11-16T09:30:45.936Z"
   },
   {
    "duration": 4,
    "start_time": "2021-11-16T09:31:06.300Z"
   },
   {
    "duration": 113,
    "start_time": "2021-11-16T09:31:37.208Z"
   },
   {
    "duration": 143,
    "start_time": "2021-11-16T09:31:48.656Z"
   },
   {
    "duration": 98,
    "start_time": "2021-11-16T09:31:55.678Z"
   },
   {
    "duration": 3,
    "start_time": "2021-11-16T09:32:08.535Z"
   },
   {
    "duration": 111,
    "start_time": "2021-11-16T09:32:10.120Z"
   },
   {
    "duration": 3,
    "start_time": "2021-11-16T09:32:15.732Z"
   },
   {
    "duration": 4,
    "start_time": "2021-11-16T09:32:29.423Z"
   },
   {
    "duration": 3,
    "start_time": "2021-11-16T10:03:03.074Z"
   },
   {
    "duration": 3,
    "start_time": "2021-11-16T10:10:01.288Z"
   },
   {
    "duration": 3,
    "start_time": "2021-11-16T10:10:46.923Z"
   },
   {
    "duration": 121,
    "start_time": "2021-11-16T10:37:46.494Z"
   },
   {
    "duration": 125,
    "start_time": "2021-11-16T10:38:20.632Z"
   },
   {
    "duration": 112,
    "start_time": "2021-11-16T10:46:53.001Z"
   },
   {
    "duration": 110,
    "start_time": "2021-11-16T10:48:25.775Z"
   },
   {
    "duration": 3,
    "start_time": "2021-11-16T10:50:18.720Z"
   },
   {
    "duration": 4,
    "start_time": "2021-11-16T10:50:37.649Z"
   },
   {
    "duration": 2,
    "start_time": "2021-11-16T10:50:51.884Z"
   },
   {
    "duration": 3,
    "start_time": "2021-11-16T10:51:56.237Z"
   },
   {
    "duration": 101,
    "start_time": "2021-11-16T10:53:13.791Z"
   },
   {
    "duration": 3,
    "start_time": "2021-11-16T10:55:59.186Z"
   },
   {
    "duration": 3,
    "start_time": "2021-11-16T10:56:10.751Z"
   },
   {
    "duration": 3,
    "start_time": "2021-11-16T10:56:49.038Z"
   },
   {
    "duration": 3,
    "start_time": "2021-11-16T10:56:49.174Z"
   },
   {
    "duration": 4,
    "start_time": "2021-11-16T10:56:49.414Z"
   },
   {
    "duration": 3,
    "start_time": "2021-11-16T10:56:49.680Z"
   },
   {
    "duration": 3,
    "start_time": "2021-11-16T10:56:50.370Z"
   },
   {
    "duration": 114,
    "start_time": "2021-11-16T10:59:34.518Z"
   },
   {
    "duration": 3,
    "start_time": "2021-11-16T11:01:41.201Z"
   },
   {
    "duration": 116,
    "start_time": "2021-11-16T11:01:48.754Z"
   },
   {
    "duration": 3,
    "start_time": "2021-11-16T11:02:16.685Z"
   },
   {
    "duration": 3,
    "start_time": "2021-11-16T11:02:19.479Z"
   },
   {
    "duration": 3,
    "start_time": "2021-11-16T11:02:47.067Z"
   },
   {
    "duration": 3,
    "start_time": "2021-11-16T11:02:49.353Z"
   },
   {
    "duration": 3,
    "start_time": "2021-11-16T11:03:07.835Z"
   },
   {
    "duration": 3,
    "start_time": "2021-11-16T11:03:07.953Z"
   },
   {
    "duration": 112,
    "start_time": "2021-11-16T11:07:52.072Z"
   },
   {
    "duration": 187,
    "start_time": "2021-11-16T11:09:23.468Z"
   },
   {
    "duration": 4,
    "start_time": "2021-11-16T11:10:01.455Z"
   },
   {
    "duration": 3,
    "start_time": "2021-11-16T11:10:05.069Z"
   },
   {
    "duration": 4,
    "start_time": "2021-11-16T11:10:13.376Z"
   },
   {
    "duration": 3,
    "start_time": "2021-11-16T11:10:14.434Z"
   },
   {
    "duration": 3,
    "start_time": "2021-11-16T11:10:22.853Z"
   },
   {
    "duration": 4,
    "start_time": "2021-11-16T11:27:29.279Z"
   },
   {
    "duration": 4,
    "start_time": "2021-11-16T11:29:08.919Z"
   },
   {
    "duration": 118,
    "start_time": "2021-11-16T11:29:46.703Z"
   },
   {
    "duration": 437,
    "start_time": "2021-11-16T11:36:02.181Z"
   },
   {
    "duration": 157,
    "start_time": "2021-11-16T11:36:14.388Z"
   },
   {
    "duration": 207,
    "start_time": "2021-11-16T11:47:15.898Z"
   },
   {
    "duration": 3,
    "start_time": "2021-11-16T11:53:52.092Z"
   },
   {
    "duration": 3,
    "start_time": "2021-11-16T11:53:52.236Z"
   },
   {
    "duration": 3,
    "start_time": "2021-11-16T11:59:12.005Z"
   },
   {
    "duration": 112,
    "start_time": "2021-11-16T12:00:33.446Z"
   },
   {
    "duration": 3,
    "start_time": "2021-11-16T12:02:14.453Z"
   },
   {
    "duration": 3,
    "start_time": "2021-11-16T12:02:39.512Z"
   },
   {
    "duration": 106,
    "start_time": "2021-11-16T12:03:03.460Z"
   },
   {
    "duration": 3,
    "start_time": "2021-11-17T20:37:21.139Z"
   },
   {
    "duration": 3,
    "start_time": "2021-11-17T20:37:22.229Z"
   },
   {
    "duration": 3,
    "start_time": "2021-11-17T20:38:38.806Z"
   },
   {
    "duration": 3,
    "start_time": "2021-11-17T20:38:41.958Z"
   },
   {
    "duration": 3,
    "start_time": "2021-11-17T20:43:46.551Z"
   },
   {
    "duration": 4,
    "start_time": "2021-11-17T20:58:21.835Z"
   },
   {
    "duration": 3,
    "start_time": "2021-11-17T20:59:21.872Z"
   },
   {
    "duration": 4,
    "start_time": "2021-11-17T20:59:45.352Z"
   },
   {
    "duration": 4,
    "start_time": "2021-11-17T20:59:49.646Z"
   },
   {
    "duration": 159,
    "start_time": "2021-11-17T21:02:26.949Z"
   },
   {
    "duration": 3,
    "start_time": "2021-11-17T21:03:53.461Z"
   },
   {
    "duration": 3,
    "start_time": "2021-11-17T21:03:53.694Z"
   },
   {
    "duration": 3,
    "start_time": "2021-11-17T21:05:28.145Z"
   },
   {
    "duration": 116,
    "start_time": "2021-11-17T21:05:57.787Z"
   },
   {
    "duration": 3,
    "start_time": "2021-11-17T21:06:37.993Z"
   },
   {
    "duration": 3,
    "start_time": "2021-11-17T21:06:38.261Z"
   },
   {
    "duration": 3,
    "start_time": "2021-11-17T21:11:54.358Z"
   },
   {
    "duration": 3,
    "start_time": "2021-11-17T21:12:43.846Z"
   },
   {
    "duration": 4,
    "start_time": "2021-11-17T21:13:08.773Z"
   },
   {
    "duration": 3,
    "start_time": "2021-11-17T21:14:44.441Z"
   },
   {
    "duration": 3,
    "start_time": "2021-11-17T21:15:42.059Z"
   },
   {
    "duration": 4,
    "start_time": "2021-11-17T21:15:51.995Z"
   },
   {
    "duration": 3,
    "start_time": "2021-11-17T21:15:53.923Z"
   },
   {
    "duration": 3,
    "start_time": "2021-11-17T21:15:55.282Z"
   },
   {
    "duration": 3,
    "start_time": "2021-11-17T21:16:28.492Z"
   },
   {
    "duration": 3,
    "start_time": "2021-11-17T21:16:32.603Z"
   },
   {
    "duration": 3,
    "start_time": "2021-11-17T21:17:06.941Z"
   },
   {
    "duration": 98,
    "start_time": "2021-11-17T21:18:05.733Z"
   },
   {
    "duration": 4,
    "start_time": "2021-11-17T21:21:35.255Z"
   },
   {
    "duration": 3,
    "start_time": "2021-11-17T21:21:37.804Z"
   },
   {
    "duration": 4,
    "start_time": "2021-11-17T21:23:06.071Z"
   },
   {
    "duration": 3,
    "start_time": "2021-11-17T21:23:24.799Z"
   },
   {
    "duration": 3,
    "start_time": "2021-11-17T21:23:32.591Z"
   },
   {
    "duration": 98,
    "start_time": "2021-11-17T21:28:31.559Z"
   },
   {
    "duration": 3,
    "start_time": "2021-11-17T21:28:45.448Z"
   },
   {
    "duration": 3,
    "start_time": "2021-11-17T21:29:17.303Z"
   },
   {
    "duration": 3,
    "start_time": "2021-11-17T21:29:29.617Z"
   },
   {
    "duration": 3,
    "start_time": "2021-11-17T21:29:32.681Z"
   },
   {
    "duration": 3,
    "start_time": "2021-11-17T21:36:11.474Z"
   },
   {
    "duration": 3,
    "start_time": "2021-11-17T21:36:14.791Z"
   },
   {
    "duration": 3,
    "start_time": "2021-11-17T21:36:53.943Z"
   },
   {
    "duration": 3,
    "start_time": "2021-11-17T21:36:56.165Z"
   },
   {
    "duration": 4,
    "start_time": "2021-11-17T21:37:16.590Z"
   },
   {
    "duration": 3,
    "start_time": "2021-11-17T21:37:22.702Z"
   },
   {
    "duration": 4,
    "start_time": "2021-11-17T21:38:03.479Z"
   },
   {
    "duration": 3,
    "start_time": "2021-11-17T21:38:08.601Z"
   },
   {
    "duration": 3,
    "start_time": "2021-11-17T21:38:12.928Z"
   },
   {
    "duration": 3,
    "start_time": "2021-11-17T21:38:48.896Z"
   },
   {
    "duration": 2,
    "start_time": "2021-11-17T21:38:49.171Z"
   },
   {
    "duration": 4,
    "start_time": "2021-11-17T21:39:57.889Z"
   },
   {
    "duration": 3,
    "start_time": "2021-11-17T21:39:58.057Z"
   },
   {
    "duration": 3,
    "start_time": "2021-11-17T21:41:20.108Z"
   },
   {
    "duration": 3,
    "start_time": "2021-11-17T21:41:20.629Z"
   },
   {
    "duration": 3,
    "start_time": "2021-11-17T21:42:49.136Z"
   },
   {
    "duration": 3,
    "start_time": "2021-11-17T21:43:15.137Z"
   },
   {
    "duration": 4,
    "start_time": "2021-11-17T21:43:16.766Z"
   },
   {
    "duration": 4,
    "start_time": "2021-11-17T21:43:31.711Z"
   },
   {
    "duration": 3,
    "start_time": "2021-11-17T21:43:36.312Z"
   },
   {
    "duration": 4,
    "start_time": "2021-11-17T21:45:08.825Z"
   },
   {
    "duration": 4,
    "start_time": "2021-11-17T21:45:10.119Z"
   },
   {
    "duration": 4,
    "start_time": "2021-11-17T21:45:13.748Z"
   },
   {
    "duration": 3,
    "start_time": "2021-11-17T21:45:22.219Z"
   },
   {
    "duration": 3,
    "start_time": "2021-11-17T21:45:33.412Z"
   },
   {
    "duration": 2,
    "start_time": "2021-11-17T21:46:01.885Z"
   },
   {
    "duration": 3,
    "start_time": "2021-11-17T21:46:03.628Z"
   },
   {
    "duration": 107,
    "start_time": "2021-11-17T21:47:32.512Z"
   },
   {
    "duration": 103,
    "start_time": "2021-11-17T21:50:36.243Z"
   },
   {
    "duration": 3,
    "start_time": "2021-11-18T06:28:31.440Z"
   },
   {
    "duration": 3,
    "start_time": "2021-11-18T06:29:00.168Z"
   },
   {
    "duration": 3,
    "start_time": "2021-11-18T06:31:27.008Z"
   },
   {
    "duration": 2,
    "start_time": "2021-11-18T06:35:34.288Z"
   },
   {
    "duration": 2,
    "start_time": "2021-11-18T06:38:04.527Z"
   },
   {
    "duration": 938,
    "start_time": "2024-07-19T01:53:06.189Z"
   },
   {
    "duration": 467,
    "start_time": "2024-07-19T01:53:09.916Z"
   },
   {
    "duration": 30,
    "start_time": "2024-07-19T01:53:33.806Z"
   },
   {
    "duration": 20,
    "start_time": "2024-07-19T01:53:56.664Z"
   },
   {
    "duration": 8,
    "start_time": "2024-07-19T01:55:10.354Z"
   },
   {
    "duration": 16,
    "start_time": "2024-07-19T01:55:19.882Z"
   },
   {
    "duration": 7,
    "start_time": "2024-07-19T01:55:56.341Z"
   },
   {
    "duration": 428,
    "start_time": "2024-07-19T04:08:04.801Z"
   },
   {
    "duration": 11,
    "start_time": "2024-07-19T04:08:19.715Z"
   },
   {
    "duration": 15,
    "start_time": "2024-07-19T04:11:46.020Z"
   },
   {
    "duration": 4,
    "start_time": "2024-07-19T17:46:52.503Z"
   },
   {
    "duration": 285,
    "start_time": "2024-07-19T17:46:56.549Z"
   },
   {
    "duration": 5,
    "start_time": "2024-07-19T18:43:26.441Z"
   },
   {
    "duration": 358,
    "start_time": "2024-07-19T18:43:29.761Z"
   },
   {
    "duration": 5,
    "start_time": "2024-07-19T18:44:38.356Z"
   },
   {
    "duration": 317,
    "start_time": "2024-07-19T18:44:41.410Z"
   },
   {
    "duration": 24,
    "start_time": "2024-07-19T18:45:00.829Z"
   },
   {
    "duration": 16,
    "start_time": "2024-07-19T18:45:06.501Z"
   },
   {
    "duration": 9,
    "start_time": "2024-07-19T18:45:35.787Z"
   },
   {
    "duration": 9,
    "start_time": "2024-07-19T18:50:51.168Z"
   },
   {
    "duration": 9,
    "start_time": "2024-07-19T18:52:05.833Z"
   },
   {
    "duration": 10,
    "start_time": "2024-07-19T18:52:15.546Z"
   },
   {
    "duration": 9,
    "start_time": "2024-07-19T18:52:26.147Z"
   },
   {
    "duration": 10,
    "start_time": "2024-07-19T18:52:30.975Z"
   },
   {
    "duration": 9,
    "start_time": "2024-07-19T18:52:51.580Z"
   },
   {
    "duration": 268,
    "start_time": "2024-07-19T18:53:11.710Z"
   },
   {
    "duration": 14,
    "start_time": "2024-07-19T18:53:19.894Z"
   },
   {
    "duration": 9,
    "start_time": "2024-07-19T18:53:24.624Z"
   },
   {
    "duration": 10,
    "start_time": "2024-07-19T18:53:34.914Z"
   },
   {
    "duration": 25,
    "start_time": "2024-07-19T18:55:33.469Z"
   },
   {
    "duration": 7,
    "start_time": "2024-07-19T18:55:54.524Z"
   },
   {
    "duration": 765,
    "start_time": "2024-07-19T19:01:27.055Z"
   },
   {
    "duration": 87,
    "start_time": "2024-07-19T19:02:03.997Z"
   },
   {
    "duration": 89,
    "start_time": "2024-07-19T19:02:15.761Z"
   },
   {
    "duration": 8,
    "start_time": "2024-07-19T19:04:32.830Z"
   },
   {
    "duration": 6,
    "start_time": "2024-07-19T19:04:42.555Z"
   },
   {
    "duration": 6,
    "start_time": "2024-07-19T19:05:20.430Z"
   },
   {
    "duration": 6,
    "start_time": "2024-07-19T19:05:30.003Z"
   },
   {
    "duration": 5,
    "start_time": "2024-07-19T19:05:41.395Z"
   },
   {
    "duration": 6,
    "start_time": "2024-07-19T19:05:48.156Z"
   },
   {
    "duration": 5,
    "start_time": "2024-07-19T19:05:57.756Z"
   },
   {
    "duration": 5,
    "start_time": "2024-07-19T19:06:35.372Z"
   },
   {
    "duration": 4,
    "start_time": "2024-07-19T19:06:44.821Z"
   },
   {
    "duration": 275,
    "start_time": "2024-07-19T19:06:47.457Z"
   },
   {
    "duration": 12,
    "start_time": "2024-07-19T19:08:07.591Z"
   },
   {
    "duration": 20,
    "start_time": "2024-07-19T19:08:45.619Z"
   },
   {
    "duration": 10,
    "start_time": "2024-07-19T19:09:07.766Z"
   },
   {
    "duration": 22,
    "start_time": "2024-07-19T19:38:45.621Z"
   },
   {
    "duration": 15,
    "start_time": "2024-07-19T19:39:13.007Z"
   },
   {
    "duration": 14,
    "start_time": "2024-07-19T19:40:43.457Z"
   },
   {
    "duration": 10,
    "start_time": "2024-07-19T19:41:52.163Z"
   },
   {
    "duration": 8,
    "start_time": "2024-07-19T19:48:33.490Z"
   },
   {
    "duration": 15,
    "start_time": "2024-07-19T19:55:22.085Z"
   },
   {
    "duration": 11,
    "start_time": "2024-07-19T19:57:33.181Z"
   },
   {
    "duration": 14,
    "start_time": "2024-07-19T19:57:46.465Z"
   },
   {
    "duration": 13,
    "start_time": "2024-07-19T20:00:19.278Z"
   },
   {
    "duration": 11,
    "start_time": "2024-07-19T20:01:09.248Z"
   },
   {
    "duration": 16,
    "start_time": "2024-07-19T20:02:09.531Z"
   },
   {
    "duration": 110,
    "start_time": "2024-07-19T20:02:36.632Z"
   },
   {
    "duration": 12,
    "start_time": "2024-07-19T20:03:28.470Z"
   },
   {
    "duration": 128,
    "start_time": "2024-07-19T20:04:04.573Z"
   },
   {
    "duration": 15,
    "start_time": "2024-07-19T20:04:12.557Z"
   },
   {
    "duration": 7,
    "start_time": "2024-07-19T20:08:01.343Z"
   },
   {
    "duration": 9,
    "start_time": "2024-07-19T20:24:52.253Z"
   },
   {
    "duration": 33,
    "start_time": "2024-07-19T20:44:10.321Z"
   },
   {
    "duration": 9,
    "start_time": "2024-07-19T20:44:30.810Z"
   },
   {
    "duration": 14,
    "start_time": "2024-07-19T20:50:38.399Z"
   },
   {
    "duration": 5,
    "start_time": "2024-07-19T22:07:18.964Z"
   },
   {
    "duration": 91,
    "start_time": "2024-07-19T22:07:41.751Z"
   },
   {
    "duration": 315,
    "start_time": "2024-07-19T23:28:56.341Z"
   },
   {
    "duration": 941,
    "start_time": "2024-07-19T23:29:19.767Z"
   },
   {
    "duration": 385,
    "start_time": "2024-07-19T23:29:20.714Z"
   },
   {
    "duration": 15,
    "start_time": "2024-07-19T23:29:21.102Z"
   },
   {
    "duration": 9,
    "start_time": "2024-07-19T23:29:21.122Z"
   },
   {
    "duration": 12,
    "start_time": "2024-07-19T23:29:21.134Z"
   },
   {
    "duration": 16,
    "start_time": "2024-07-19T23:29:21.149Z"
   },
   {
    "duration": 50,
    "start_time": "2024-07-19T23:29:21.168Z"
   },
   {
    "duration": 10,
    "start_time": "2024-07-19T23:29:21.221Z"
   },
   {
    "duration": 24,
    "start_time": "2024-07-19T23:29:21.234Z"
   },
   {
    "duration": 6,
    "start_time": "2024-07-19T23:29:21.264Z"
   },
   {
    "duration": 14,
    "start_time": "2024-07-19T23:29:21.314Z"
   },
   {
    "duration": 21,
    "start_time": "2024-07-19T23:29:21.331Z"
   },
   {
    "duration": 9,
    "start_time": "2024-07-19T23:29:21.355Z"
   },
   {
    "duration": 59,
    "start_time": "2024-07-19T23:29:21.368Z"
   },
   {
    "duration": 8,
    "start_time": "2024-07-19T23:29:21.429Z"
   },
   {
    "duration": 11,
    "start_time": "2024-07-19T23:29:21.440Z"
   },
   {
    "duration": 15,
    "start_time": "2024-07-19T23:29:21.454Z"
   },
   {
    "duration": 49,
    "start_time": "2024-07-19T23:29:21.472Z"
   },
   {
    "duration": 13,
    "start_time": "2024-07-19T23:29:21.524Z"
   },
   {
    "duration": 9,
    "start_time": "2024-07-19T23:29:21.540Z"
   },
   {
    "duration": 14,
    "start_time": "2024-07-19T23:29:21.551Z"
   },
   {
    "duration": 205,
    "start_time": "2024-07-19T23:29:21.612Z"
   },
   {
    "duration": 0,
    "start_time": "2024-07-19T23:29:21.821Z"
   },
   {
    "duration": 0,
    "start_time": "2024-07-19T23:29:21.823Z"
   },
   {
    "duration": 0,
    "start_time": "2024-07-19T23:29:21.825Z"
   },
   {
    "duration": 0,
    "start_time": "2024-07-19T23:29:21.827Z"
   },
   {
    "duration": 0,
    "start_time": "2024-07-19T23:29:21.830Z"
   },
   {
    "duration": 0,
    "start_time": "2024-07-19T23:29:21.833Z"
   },
   {
    "duration": 0,
    "start_time": "2024-07-19T23:29:21.835Z"
   },
   {
    "duration": 0,
    "start_time": "2024-07-19T23:29:21.837Z"
   },
   {
    "duration": 0,
    "start_time": "2024-07-19T23:29:21.839Z"
   },
   {
    "duration": 121,
    "start_time": "2024-07-19T23:31:48.227Z"
   },
   {
    "duration": 129,
    "start_time": "2024-07-19T23:32:01.660Z"
   },
   {
    "duration": 129,
    "start_time": "2024-07-19T23:40:46.609Z"
   },
   {
    "duration": 118,
    "start_time": "2024-07-19T23:42:16.042Z"
   },
   {
    "duration": 137,
    "start_time": "2024-07-19T23:42:31.744Z"
   },
   {
    "duration": 122,
    "start_time": "2024-07-19T23:43:04.052Z"
   },
   {
    "duration": 148,
    "start_time": "2024-07-19T23:45:11.559Z"
   },
   {
    "duration": 116,
    "start_time": "2024-07-19T23:45:34.607Z"
   },
   {
    "duration": 147,
    "start_time": "2024-07-19T23:52:32.712Z"
   },
   {
    "duration": 153,
    "start_time": "2024-07-19T23:52:54.623Z"
   },
   {
    "duration": 148,
    "start_time": "2024-07-19T23:54:59.447Z"
   },
   {
    "duration": 185,
    "start_time": "2024-07-20T00:18:16.570Z"
   },
   {
    "duration": 787,
    "start_time": "2024-07-20T00:34:11.111Z"
   },
   {
    "duration": 102,
    "start_time": "2024-07-20T00:34:34.955Z"
   },
   {
    "duration": 33,
    "start_time": "2024-07-20T00:39:35.522Z"
   },
   {
    "duration": 24,
    "start_time": "2024-07-20T00:40:03.804Z"
   },
   {
    "duration": 26,
    "start_time": "2024-07-20T00:40:55.511Z"
   },
   {
    "duration": 108,
    "start_time": "2024-07-20T00:42:06.774Z"
   },
   {
    "duration": 187,
    "start_time": "2024-07-20T00:42:58.907Z"
   },
   {
    "duration": 116,
    "start_time": "2024-07-20T00:44:14.406Z"
   },
   {
    "duration": 3,
    "start_time": "2024-07-20T00:47:00.600Z"
   },
   {
    "duration": 4,
    "start_time": "2024-07-20T00:56:55.779Z"
   },
   {
    "duration": 256,
    "start_time": "2024-07-20T00:56:58.966Z"
   },
   {
    "duration": 10,
    "start_time": "2024-07-20T00:58:08.710Z"
   },
   {
    "duration": 9,
    "start_time": "2024-07-20T00:58:29.416Z"
   },
   {
    "duration": 177,
    "start_time": "2024-07-20T01:03:38.218Z"
   },
   {
    "duration": 10,
    "start_time": "2024-07-20T01:04:11.892Z"
   },
   {
    "duration": 11,
    "start_time": "2024-07-20T01:04:25.868Z"
   },
   {
    "duration": 159,
    "start_time": "2024-07-20T01:04:44.787Z"
   },
   {
    "duration": 202,
    "start_time": "2024-07-20T01:43:38.703Z"
   },
   {
    "duration": 150,
    "start_time": "2024-07-20T01:48:58.951Z"
   },
   {
    "duration": 112,
    "start_time": "2024-07-20T01:53:32.233Z"
   },
   {
    "duration": 120,
    "start_time": "2024-07-20T01:57:54.015Z"
   },
   {
    "duration": 36,
    "start_time": "2024-07-20T02:07:03.053Z"
   },
   {
    "duration": 132,
    "start_time": "2024-07-20T02:08:05.218Z"
   },
   {
    "duration": 8,
    "start_time": "2024-07-20T02:23:55.748Z"
   },
   {
    "duration": 4,
    "start_time": "2024-07-20T02:24:10.027Z"
   },
   {
    "duration": 330,
    "start_time": "2024-07-20T02:24:10.039Z"
   },
   {
    "duration": 20,
    "start_time": "2024-07-20T02:24:10.373Z"
   },
   {
    "duration": 14,
    "start_time": "2024-07-20T02:24:10.397Z"
   },
   {
    "duration": 14,
    "start_time": "2024-07-20T02:24:10.414Z"
   },
   {
    "duration": 16,
    "start_time": "2024-07-20T02:24:10.433Z"
   },
   {
    "duration": 9,
    "start_time": "2024-07-20T02:24:10.452Z"
   },
   {
    "duration": 12,
    "start_time": "2024-07-20T02:24:10.465Z"
   },
   {
    "duration": 27,
    "start_time": "2024-07-20T02:24:10.514Z"
   },
   {
    "duration": 8,
    "start_time": "2024-07-20T02:24:10.545Z"
   },
   {
    "duration": 12,
    "start_time": "2024-07-20T02:24:10.556Z"
   },
   {
    "duration": 22,
    "start_time": "2024-07-20T02:24:10.612Z"
   },
   {
    "duration": 8,
    "start_time": "2024-07-20T02:24:10.637Z"
   },
   {
    "duration": 27,
    "start_time": "2024-07-20T02:24:10.647Z"
   },
   {
    "duration": 7,
    "start_time": "2024-07-20T02:24:10.714Z"
   },
   {
    "duration": 11,
    "start_time": "2024-07-20T02:24:10.725Z"
   },
   {
    "duration": 19,
    "start_time": "2024-07-20T02:24:10.739Z"
   },
   {
    "duration": 10,
    "start_time": "2024-07-20T02:24:10.761Z"
   },
   {
    "duration": 13,
    "start_time": "2024-07-20T02:24:10.813Z"
   },
   {
    "duration": 9,
    "start_time": "2024-07-20T02:24:10.829Z"
   },
   {
    "duration": 12,
    "start_time": "2024-07-20T02:24:10.841Z"
   },
   {
    "duration": 216,
    "start_time": "2024-07-20T02:24:10.856Z"
   },
   {
    "duration": 7,
    "start_time": "2024-07-20T02:24:11.076Z"
   },
   {
    "duration": 26,
    "start_time": "2024-07-20T02:24:11.087Z"
   },
   {
    "duration": 4,
    "start_time": "2024-07-20T02:24:11.116Z"
   },
   {
    "duration": 5,
    "start_time": "2024-07-20T02:24:11.124Z"
   },
   {
    "duration": 10,
    "start_time": "2024-07-20T02:24:11.133Z"
   },
   {
    "duration": 4,
    "start_time": "2024-07-20T02:24:11.146Z"
   },
   {
    "duration": 4,
    "start_time": "2024-07-20T02:24:11.154Z"
   },
   {
    "duration": 52,
    "start_time": "2024-07-20T02:24:11.161Z"
   },
   {
    "duration": 3,
    "start_time": "2024-07-20T02:24:11.218Z"
   },
   {
    "duration": 4,
    "start_time": "2024-07-20T02:24:22.834Z"
   },
   {
    "duration": 938,
    "start_time": "2024-07-20T12:26:23.144Z"
   },
   {
    "duration": 440,
    "start_time": "2024-07-20T12:26:24.086Z"
   },
   {
    "duration": 19,
    "start_time": "2024-07-20T12:26:24.529Z"
   },
   {
    "duration": 10,
    "start_time": "2024-07-20T12:26:24.553Z"
   },
   {
    "duration": 12,
    "start_time": "2024-07-20T12:26:24.566Z"
   },
   {
    "duration": 51,
    "start_time": "2024-07-20T12:26:24.581Z"
   },
   {
    "duration": 10,
    "start_time": "2024-07-20T12:26:24.635Z"
   },
   {
    "duration": 10,
    "start_time": "2024-07-20T12:26:24.649Z"
   },
   {
    "duration": 25,
    "start_time": "2024-07-20T12:26:24.663Z"
   },
   {
    "duration": 7,
    "start_time": "2024-07-20T12:26:24.732Z"
   },
   {
    "duration": 18,
    "start_time": "2024-07-20T12:26:24.743Z"
   },
   {
    "duration": 24,
    "start_time": "2024-07-20T12:26:24.765Z"
   },
   {
    "duration": 6,
    "start_time": "2024-07-20T12:26:24.833Z"
   },
   {
    "duration": 25,
    "start_time": "2024-07-20T12:26:24.843Z"
   },
   {
    "duration": 12,
    "start_time": "2024-07-20T12:26:24.872Z"
   },
   {
    "duration": 39,
    "start_time": "2024-07-20T12:26:24.892Z"
   },
   {
    "duration": 30,
    "start_time": "2024-07-20T12:26:24.936Z"
   },
   {
    "duration": 11,
    "start_time": "2024-07-20T12:26:24.971Z"
   },
   {
    "duration": 54,
    "start_time": "2024-07-20T12:26:24.986Z"
   },
   {
    "duration": 11,
    "start_time": "2024-07-20T12:26:25.043Z"
   },
   {
    "duration": 12,
    "start_time": "2024-07-20T12:26:25.057Z"
   },
   {
    "duration": 240,
    "start_time": "2024-07-20T12:26:25.072Z"
   },
   {
    "duration": 821,
    "start_time": "2024-07-20T12:26:25.317Z"
   },
   {
    "duration": 0,
    "start_time": "2024-07-20T12:26:26.141Z"
   },
   {
    "duration": 0,
    "start_time": "2024-07-20T12:26:26.143Z"
   },
   {
    "duration": 0,
    "start_time": "2024-07-20T12:26:26.145Z"
   },
   {
    "duration": 0,
    "start_time": "2024-07-20T12:26:26.147Z"
   },
   {
    "duration": 0,
    "start_time": "2024-07-20T12:26:26.149Z"
   },
   {
    "duration": 0,
    "start_time": "2024-07-20T12:26:26.152Z"
   },
   {
    "duration": 0,
    "start_time": "2024-07-20T12:26:26.154Z"
   },
   {
    "duration": 0,
    "start_time": "2024-07-20T12:26:26.156Z"
   },
   {
    "duration": 8,
    "start_time": "2024-07-20T14:27:52.903Z"
   },
   {
    "duration": 7,
    "start_time": "2024-07-20T14:30:01.901Z"
   },
   {
    "duration": 6,
    "start_time": "2024-07-20T14:32:48.583Z"
   },
   {
    "duration": 945,
    "start_time": "2024-07-20T14:38:26.528Z"
   },
   {
    "duration": 350,
    "start_time": "2024-07-20T14:38:27.476Z"
   },
   {
    "duration": 16,
    "start_time": "2024-07-20T14:38:27.829Z"
   },
   {
    "duration": 9,
    "start_time": "2024-07-20T14:38:27.850Z"
   },
   {
    "duration": 15,
    "start_time": "2024-07-20T14:38:27.862Z"
   },
   {
    "duration": 55,
    "start_time": "2024-07-20T14:38:27.880Z"
   },
   {
    "duration": 9,
    "start_time": "2024-07-20T14:38:27.938Z"
   },
   {
    "duration": 11,
    "start_time": "2024-07-20T14:38:27.949Z"
   },
   {
    "duration": 26,
    "start_time": "2024-07-20T14:38:27.966Z"
   },
   {
    "duration": 7,
    "start_time": "2024-07-20T14:38:28.030Z"
   },
   {
    "duration": 15,
    "start_time": "2024-07-20T14:38:28.040Z"
   },
   {
    "duration": 19,
    "start_time": "2024-07-20T14:38:28.058Z"
   },
   {
    "duration": 7,
    "start_time": "2024-07-20T14:38:28.080Z"
   },
   {
    "duration": 25,
    "start_time": "2024-07-20T14:38:28.132Z"
   },
   {
    "duration": 7,
    "start_time": "2024-07-20T14:38:28.160Z"
   },
   {
    "duration": 8,
    "start_time": "2024-07-20T14:38:28.170Z"
   },
   {
    "duration": 55,
    "start_time": "2024-07-20T14:38:28.182Z"
   },
   {
    "duration": 11,
    "start_time": "2024-07-20T14:38:28.240Z"
   },
   {
    "duration": 11,
    "start_time": "2024-07-20T14:38:28.255Z"
   },
   {
    "duration": 10,
    "start_time": "2024-07-20T14:38:28.269Z"
   },
   {
    "duration": 57,
    "start_time": "2024-07-20T14:38:28.282Z"
   },
   {
    "duration": 933,
    "start_time": "2024-07-20T14:40:44.639Z"
   },
   {
    "duration": 335,
    "start_time": "2024-07-20T14:40:45.576Z"
   },
   {
    "duration": 18,
    "start_time": "2024-07-20T14:40:45.914Z"
   },
   {
    "duration": 9,
    "start_time": "2024-07-20T14:40:45.936Z"
   },
   {
    "duration": 11,
    "start_time": "2024-07-20T14:40:45.949Z"
   },
   {
    "duration": 17,
    "start_time": "2024-07-20T14:40:45.963Z"
   },
   {
    "duration": 53,
    "start_time": "2024-07-20T14:40:45.984Z"
   },
   {
    "duration": 13,
    "start_time": "2024-07-20T14:40:46.040Z"
   },
   {
    "duration": 29,
    "start_time": "2024-07-20T14:40:46.057Z"
   },
   {
    "duration": 42,
    "start_time": "2024-07-20T14:40:46.092Z"
   },
   {
    "duration": 14,
    "start_time": "2024-07-20T14:40:46.138Z"
   },
   {
    "duration": 20,
    "start_time": "2024-07-20T14:40:46.155Z"
   },
   {
    "duration": 7,
    "start_time": "2024-07-20T14:40:46.178Z"
   },
   {
    "duration": 62,
    "start_time": "2024-07-20T14:40:46.188Z"
   },
   {
    "duration": 8,
    "start_time": "2024-07-20T14:40:46.253Z"
   },
   {
    "duration": 10,
    "start_time": "2024-07-20T14:40:46.264Z"
   },
   {
    "duration": 55,
    "start_time": "2024-07-20T14:40:46.277Z"
   },
   {
    "duration": 9,
    "start_time": "2024-07-20T14:40:46.335Z"
   },
   {
    "duration": 10,
    "start_time": "2024-07-20T14:40:46.347Z"
   },
   {
    "duration": 9,
    "start_time": "2024-07-20T14:40:46.360Z"
   },
   {
    "duration": 11,
    "start_time": "2024-07-20T14:40:46.371Z"
   },
   {
    "duration": 949,
    "start_time": "2024-07-20T14:41:18.423Z"
   },
   {
    "duration": 336,
    "start_time": "2024-07-20T14:41:19.375Z"
   },
   {
    "duration": 16,
    "start_time": "2024-07-20T14:41:19.714Z"
   },
   {
    "duration": 8,
    "start_time": "2024-07-20T14:41:19.735Z"
   },
   {
    "duration": 11,
    "start_time": "2024-07-20T14:41:19.747Z"
   },
   {
    "duration": 15,
    "start_time": "2024-07-20T14:41:19.761Z"
   },
   {
    "duration": 51,
    "start_time": "2024-07-20T14:41:19.779Z"
   },
   {
    "duration": 11,
    "start_time": "2024-07-20T14:41:19.833Z"
   },
   {
    "duration": 25,
    "start_time": "2024-07-20T14:41:19.847Z"
   },
   {
    "duration": 7,
    "start_time": "2024-07-20T14:41:19.878Z"
   },
   {
    "duration": 52,
    "start_time": "2024-07-20T14:41:19.888Z"
   },
   {
    "duration": 19,
    "start_time": "2024-07-20T14:41:19.943Z"
   },
   {
    "duration": 7,
    "start_time": "2024-07-20T14:41:19.966Z"
   },
   {
    "duration": 63,
    "start_time": "2024-07-20T14:41:19.976Z"
   },
   {
    "duration": 15,
    "start_time": "2024-07-20T14:41:20.042Z"
   },
   {
    "duration": 10,
    "start_time": "2024-07-20T14:41:20.060Z"
   },
   {
    "duration": 18,
    "start_time": "2024-07-20T14:41:20.074Z"
   },
   {
    "duration": 41,
    "start_time": "2024-07-20T14:41:20.095Z"
   },
   {
    "duration": 11,
    "start_time": "2024-07-20T14:41:20.139Z"
   },
   {
    "duration": 10,
    "start_time": "2024-07-20T14:41:20.154Z"
   },
   {
    "duration": 13,
    "start_time": "2024-07-20T14:41:20.167Z"
   },
   {
    "duration": 875,
    "start_time": "2024-07-20T14:42:20.791Z"
   },
   {
    "duration": 374,
    "start_time": "2024-07-20T14:42:21.669Z"
   },
   {
    "duration": 19,
    "start_time": "2024-07-20T14:42:22.050Z"
   },
   {
    "duration": 9,
    "start_time": "2024-07-20T14:42:22.073Z"
   },
   {
    "duration": 12,
    "start_time": "2024-07-20T14:42:22.084Z"
   },
   {
    "duration": 46,
    "start_time": "2024-07-20T14:42:22.099Z"
   },
   {
    "duration": 8,
    "start_time": "2024-07-20T14:42:22.148Z"
   },
   {
    "duration": 11,
    "start_time": "2024-07-20T14:42:22.159Z"
   },
   {
    "duration": 24,
    "start_time": "2024-07-20T14:42:22.172Z"
   },
   {
    "duration": 9,
    "start_time": "2024-07-20T14:42:22.237Z"
   },
   {
    "duration": 13,
    "start_time": "2024-07-20T14:42:22.250Z"
   },
   {
    "duration": 20,
    "start_time": "2024-07-20T14:42:22.266Z"
   },
   {
    "duration": 44,
    "start_time": "2024-07-20T14:42:22.288Z"
   },
   {
    "duration": 24,
    "start_time": "2024-07-20T14:42:22.336Z"
   },
   {
    "duration": 6,
    "start_time": "2024-07-20T14:42:22.363Z"
   },
   {
    "duration": 10,
    "start_time": "2024-07-20T14:42:22.372Z"
   },
   {
    "duration": 62,
    "start_time": "2024-07-20T14:42:22.387Z"
   },
   {
    "duration": 10,
    "start_time": "2024-07-20T14:42:22.451Z"
   },
   {
    "duration": 12,
    "start_time": "2024-07-20T14:42:22.464Z"
   },
   {
    "duration": 10,
    "start_time": "2024-07-20T14:42:22.479Z"
   },
   {
    "duration": 15,
    "start_time": "2024-07-20T14:42:22.532Z"
   },
   {
    "duration": 1111,
    "start_time": "2024-07-20T14:43:07.454Z"
   },
   {
    "duration": 399,
    "start_time": "2024-07-20T14:43:08.570Z"
   },
   {
    "duration": 17,
    "start_time": "2024-07-20T14:43:08.973Z"
   },
   {
    "duration": 12,
    "start_time": "2024-07-20T14:43:08.994Z"
   },
   {
    "duration": 30,
    "start_time": "2024-07-20T14:43:09.011Z"
   },
   {
    "duration": 17,
    "start_time": "2024-07-20T14:43:09.045Z"
   },
   {
    "duration": 11,
    "start_time": "2024-07-20T14:43:09.064Z"
   },
   {
    "duration": 54,
    "start_time": "2024-07-20T14:43:09.079Z"
   },
   {
    "duration": 32,
    "start_time": "2024-07-20T14:43:09.137Z"
   },
   {
    "duration": 8,
    "start_time": "2024-07-20T14:43:09.171Z"
   },
   {
    "duration": 47,
    "start_time": "2024-07-20T14:43:09.183Z"
   },
   {
    "duration": 21,
    "start_time": "2024-07-20T14:43:09.234Z"
   },
   {
    "duration": 7,
    "start_time": "2024-07-20T14:43:09.259Z"
   },
   {
    "duration": 29,
    "start_time": "2024-07-20T14:43:09.272Z"
   },
   {
    "duration": 32,
    "start_time": "2024-07-20T14:43:09.303Z"
   },
   {
    "duration": 10,
    "start_time": "2024-07-20T14:43:09.339Z"
   },
   {
    "duration": 19,
    "start_time": "2024-07-20T14:43:09.351Z"
   },
   {
    "duration": 12,
    "start_time": "2024-07-20T14:43:09.373Z"
   },
   {
    "duration": 59,
    "start_time": "2024-07-20T14:43:09.387Z"
   },
   {
    "duration": 11,
    "start_time": "2024-07-20T14:43:09.448Z"
   },
   {
    "duration": 15,
    "start_time": "2024-07-20T14:43:09.462Z"
   },
   {
    "duration": 940,
    "start_time": "2024-07-20T14:43:40.204Z"
   },
   {
    "duration": 412,
    "start_time": "2024-07-20T14:43:44.933Z"
   },
   {
    "duration": 941,
    "start_time": "2024-07-20T14:52:34.519Z"
   },
   {
    "duration": 366,
    "start_time": "2024-07-20T14:52:35.464Z"
   },
   {
    "duration": 19,
    "start_time": "2024-07-20T14:52:35.832Z"
   },
   {
    "duration": 10,
    "start_time": "2024-07-20T14:52:35.855Z"
   },
   {
    "duration": 12,
    "start_time": "2024-07-20T14:52:35.867Z"
   },
   {
    "duration": 59,
    "start_time": "2024-07-20T14:52:35.882Z"
   },
   {
    "duration": 9,
    "start_time": "2024-07-20T14:52:35.944Z"
   },
   {
    "duration": 10,
    "start_time": "2024-07-20T14:52:35.957Z"
   },
   {
    "duration": 61,
    "start_time": "2024-07-20T14:52:35.970Z"
   },
   {
    "duration": 8,
    "start_time": "2024-07-20T14:52:36.038Z"
   },
   {
    "duration": 14,
    "start_time": "2024-07-20T14:52:36.048Z"
   },
   {
    "duration": 20,
    "start_time": "2024-07-20T14:52:36.065Z"
   },
   {
    "duration": 46,
    "start_time": "2024-07-20T14:52:36.088Z"
   },
   {
    "duration": 23,
    "start_time": "2024-07-20T14:52:36.137Z"
   },
   {
    "duration": 9,
    "start_time": "2024-07-20T14:52:36.163Z"
   },
   {
    "duration": 11,
    "start_time": "2024-07-20T14:52:36.175Z"
   },
   {
    "duration": 19,
    "start_time": "2024-07-20T14:52:36.232Z"
   },
   {
    "duration": 12,
    "start_time": "2024-07-20T14:52:36.255Z"
   },
   {
    "duration": 12,
    "start_time": "2024-07-20T14:52:36.269Z"
   },
   {
    "duration": 51,
    "start_time": "2024-07-20T14:52:36.284Z"
   },
   {
    "duration": 13,
    "start_time": "2024-07-20T14:52:36.338Z"
   },
   {
    "duration": 460,
    "start_time": "2024-07-20T14:52:36.354Z"
   },
   {
    "duration": 0,
    "start_time": "2024-07-20T14:52:36.817Z"
   },
   {
    "duration": 0,
    "start_time": "2024-07-20T14:52:36.818Z"
   },
   {
    "duration": 0,
    "start_time": "2024-07-20T14:52:36.820Z"
   },
   {
    "duration": 0,
    "start_time": "2024-07-20T14:52:36.831Z"
   },
   {
    "duration": 0,
    "start_time": "2024-07-20T14:52:36.833Z"
   },
   {
    "duration": 0,
    "start_time": "2024-07-20T14:52:36.835Z"
   },
   {
    "duration": 0,
    "start_time": "2024-07-20T14:52:36.836Z"
   },
   {
    "duration": 0,
    "start_time": "2024-07-20T14:52:36.838Z"
   },
   {
    "duration": 0,
    "start_time": "2024-07-20T14:52:36.840Z"
   },
   {
    "duration": 165,
    "start_time": "2024-07-20T14:52:50.056Z"
   },
   {
    "duration": 42,
    "start_time": "2024-07-20T16:51:09.931Z"
   },
   {
    "duration": 32,
    "start_time": "2024-07-20T17:52:52.600Z"
   },
   {
    "duration": 1160,
    "start_time": "2024-07-20T18:00:50.482Z"
   },
   {
    "duration": 38,
    "start_time": "2024-07-20T18:06:16.075Z"
   },
   {
    "duration": 39,
    "start_time": "2024-07-20T18:11:45.061Z"
   },
   {
    "duration": 41,
    "start_time": "2024-07-20T18:12:23.397Z"
   },
   {
    "duration": 39,
    "start_time": "2024-07-20T18:13:05.468Z"
   },
   {
    "duration": 45,
    "start_time": "2024-07-20T18:15:15.828Z"
   },
   {
    "duration": 40,
    "start_time": "2024-07-20T18:16:16.259Z"
   },
   {
    "duration": 36,
    "start_time": "2024-07-20T18:18:26.628Z"
   },
   {
    "duration": 886,
    "start_time": "2024-07-20T20:49:02.290Z"
   },
   {
    "duration": 42,
    "start_time": "2024-07-20T20:50:25.957Z"
   },
   {
    "duration": 48,
    "start_time": "2024-07-20T20:56:05.600Z"
   },
   {
    "duration": 8,
    "start_time": "2024-07-20T21:00:52.693Z"
   },
   {
    "duration": 11,
    "start_time": "2024-07-20T21:02:20.959Z"
   },
   {
    "duration": 9,
    "start_time": "2024-07-20T21:02:26.811Z"
   },
   {
    "duration": 9,
    "start_time": "2024-07-20T21:03:24.259Z"
   },
   {
    "duration": 11,
    "start_time": "2024-07-20T21:07:31.573Z"
   },
   {
    "duration": 8,
    "start_time": "2024-07-20T21:09:59.250Z"
   },
   {
    "duration": 160,
    "start_time": "2024-07-20T21:11:10.793Z"
   },
   {
    "duration": 24,
    "start_time": "2024-07-20T21:34:40.479Z"
   },
   {
    "duration": 23,
    "start_time": "2024-07-20T21:35:52.588Z"
   },
   {
    "duration": 14,
    "start_time": "2024-07-20T21:36:18.548Z"
   },
   {
    "duration": 486,
    "start_time": "2024-07-20T21:37:31.554Z"
   },
   {
    "duration": 22,
    "start_time": "2024-07-20T21:40:58.382Z"
   },
   {
    "duration": 947,
    "start_time": "2024-07-21T16:41:21.450Z"
   },
   {
    "duration": 358,
    "start_time": "2024-07-21T16:41:22.401Z"
   },
   {
    "duration": 16,
    "start_time": "2024-07-21T16:41:22.762Z"
   },
   {
    "duration": 9,
    "start_time": "2024-07-21T16:41:22.783Z"
   },
   {
    "duration": 41,
    "start_time": "2024-07-21T16:41:22.795Z"
   },
   {
    "duration": 15,
    "start_time": "2024-07-21T16:41:22.842Z"
   },
   {
    "duration": 8,
    "start_time": "2024-07-21T16:41:22.860Z"
   },
   {
    "duration": 8,
    "start_time": "2024-07-21T16:41:22.872Z"
   },
   {
    "duration": 71,
    "start_time": "2024-07-21T16:41:22.883Z"
   },
   {
    "duration": 7,
    "start_time": "2024-07-21T16:41:22.960Z"
   },
   {
    "duration": 15,
    "start_time": "2024-07-21T16:41:22.970Z"
   },
   {
    "duration": 55,
    "start_time": "2024-07-21T16:41:22.987Z"
   },
   {
    "duration": 7,
    "start_time": "2024-07-21T16:41:23.045Z"
   },
   {
    "duration": 24,
    "start_time": "2024-07-21T16:41:23.056Z"
   },
   {
    "duration": 7,
    "start_time": "2024-07-21T16:41:23.083Z"
   },
   {
    "duration": 9,
    "start_time": "2024-07-21T16:41:23.131Z"
   },
   {
    "duration": 17,
    "start_time": "2024-07-21T16:41:23.144Z"
   },
   {
    "duration": 11,
    "start_time": "2024-07-21T16:41:23.164Z"
   },
   {
    "duration": 55,
    "start_time": "2024-07-21T16:41:23.178Z"
   },
   {
    "duration": 10,
    "start_time": "2024-07-21T16:41:23.237Z"
   },
   {
    "duration": 454,
    "start_time": "2024-07-21T16:41:23.250Z"
   },
   {
    "duration": 0,
    "start_time": "2024-07-21T16:41:23.708Z"
   },
   {
    "duration": 0,
    "start_time": "2024-07-21T16:41:23.712Z"
   },
   {
    "duration": 0,
    "start_time": "2024-07-21T16:41:23.714Z"
   },
   {
    "duration": 0,
    "start_time": "2024-07-21T16:41:23.731Z"
   },
   {
    "duration": 0,
    "start_time": "2024-07-21T16:41:23.734Z"
   },
   {
    "duration": 0,
    "start_time": "2024-07-21T16:41:23.736Z"
   },
   {
    "duration": 0,
    "start_time": "2024-07-21T16:41:23.739Z"
   },
   {
    "duration": 0,
    "start_time": "2024-07-21T16:41:23.742Z"
   },
   {
    "duration": 0,
    "start_time": "2024-07-21T16:41:23.744Z"
   },
   {
    "duration": 0,
    "start_time": "2024-07-21T16:41:23.746Z"
   },
   {
    "duration": 0,
    "start_time": "2024-07-21T16:41:23.748Z"
   },
   {
    "duration": 0,
    "start_time": "2024-07-21T16:41:23.750Z"
   },
   {
    "duration": 0,
    "start_time": "2024-07-21T16:41:23.752Z"
   },
   {
    "duration": 4,
    "start_time": "2024-07-21T16:41:51.350Z"
   },
   {
    "duration": 281,
    "start_time": "2024-07-21T16:41:51.358Z"
   },
   {
    "duration": 17,
    "start_time": "2024-07-21T16:41:51.642Z"
   },
   {
    "duration": 7,
    "start_time": "2024-07-21T16:41:51.664Z"
   },
   {
    "duration": 10,
    "start_time": "2024-07-21T16:41:51.674Z"
   },
   {
    "duration": 51,
    "start_time": "2024-07-21T16:41:51.687Z"
   },
   {
    "duration": 13,
    "start_time": "2024-07-21T16:41:51.742Z"
   },
   {
    "duration": 14,
    "start_time": "2024-07-21T16:41:51.759Z"
   },
   {
    "duration": 59,
    "start_time": "2024-07-21T16:41:51.777Z"
   },
   {
    "duration": 8,
    "start_time": "2024-07-21T16:41:51.844Z"
   },
   {
    "duration": 12,
    "start_time": "2024-07-21T16:41:51.854Z"
   },
   {
    "duration": 20,
    "start_time": "2024-07-21T16:41:51.869Z"
   },
   {
    "duration": 7,
    "start_time": "2024-07-21T16:41:51.932Z"
   },
   {
    "duration": 23,
    "start_time": "2024-07-21T16:41:51.942Z"
   },
   {
    "duration": 7,
    "start_time": "2024-07-21T16:41:51.968Z"
   },
   {
    "duration": 10,
    "start_time": "2024-07-21T16:41:51.978Z"
   },
   {
    "duration": 28,
    "start_time": "2024-07-21T16:41:52.032Z"
   },
   {
    "duration": 9,
    "start_time": "2024-07-21T16:41:52.065Z"
   },
   {
    "duration": 11,
    "start_time": "2024-07-21T16:41:52.077Z"
   },
   {
    "duration": 42,
    "start_time": "2024-07-21T16:41:52.091Z"
   },
   {
    "duration": 28,
    "start_time": "2024-07-21T16:41:52.136Z"
   },
   {
    "duration": 0,
    "start_time": "2024-07-21T16:41:52.167Z"
   },
   {
    "duration": 0,
    "start_time": "2024-07-21T16:41:52.169Z"
   },
   {
    "duration": 0,
    "start_time": "2024-07-21T16:41:52.171Z"
   },
   {
    "duration": 0,
    "start_time": "2024-07-21T16:41:52.174Z"
   },
   {
    "duration": 0,
    "start_time": "2024-07-21T16:41:52.177Z"
   },
   {
    "duration": 0,
    "start_time": "2024-07-21T16:41:52.179Z"
   },
   {
    "duration": 0,
    "start_time": "2024-07-21T16:41:52.181Z"
   },
   {
    "duration": 0,
    "start_time": "2024-07-21T16:41:52.183Z"
   },
   {
    "duration": 0,
    "start_time": "2024-07-21T16:41:52.186Z"
   },
   {
    "duration": 0,
    "start_time": "2024-07-21T16:41:52.231Z"
   },
   {
    "duration": 0,
    "start_time": "2024-07-21T16:41:52.233Z"
   },
   {
    "duration": 1,
    "start_time": "2024-07-21T16:41:52.235Z"
   },
   {
    "duration": 0,
    "start_time": "2024-07-21T16:41:52.238Z"
   },
   {
    "duration": 25,
    "start_time": "2024-07-21T16:43:17.136Z"
   },
   {
    "duration": 3,
    "start_time": "2024-07-21T16:43:37.427Z"
   },
   {
    "duration": 305,
    "start_time": "2024-07-21T16:43:37.433Z"
   },
   {
    "duration": 14,
    "start_time": "2024-07-21T16:43:37.741Z"
   },
   {
    "duration": 8,
    "start_time": "2024-07-21T16:43:37.759Z"
   },
   {
    "duration": 11,
    "start_time": "2024-07-21T16:43:37.770Z"
   },
   {
    "duration": 50,
    "start_time": "2024-07-21T16:43:37.784Z"
   },
   {
    "duration": 10,
    "start_time": "2024-07-21T16:43:37.836Z"
   },
   {
    "duration": 9,
    "start_time": "2024-07-21T16:43:37.849Z"
   },
   {
    "duration": 24,
    "start_time": "2024-07-21T16:43:37.864Z"
   },
   {
    "duration": 44,
    "start_time": "2024-07-21T16:43:37.891Z"
   },
   {
    "duration": 13,
    "start_time": "2024-07-21T16:43:37.938Z"
   },
   {
    "duration": 20,
    "start_time": "2024-07-21T16:43:37.954Z"
   },
   {
    "duration": 7,
    "start_time": "2024-07-21T16:43:37.977Z"
   },
   {
    "duration": 66,
    "start_time": "2024-07-21T16:43:37.987Z"
   },
   {
    "duration": 7,
    "start_time": "2024-07-21T16:43:38.056Z"
   },
   {
    "duration": 11,
    "start_time": "2024-07-21T16:43:38.066Z"
   },
   {
    "duration": 56,
    "start_time": "2024-07-21T16:43:38.079Z"
   },
   {
    "duration": 12,
    "start_time": "2024-07-21T16:43:38.137Z"
   },
   {
    "duration": 10,
    "start_time": "2024-07-21T16:43:38.152Z"
   },
   {
    "duration": 9,
    "start_time": "2024-07-21T16:43:38.164Z"
   },
   {
    "duration": 67,
    "start_time": "2024-07-21T16:43:38.176Z"
   },
   {
    "duration": 0,
    "start_time": "2024-07-21T16:43:38.247Z"
   },
   {
    "duration": 0,
    "start_time": "2024-07-21T16:43:38.248Z"
   },
   {
    "duration": 0,
    "start_time": "2024-07-21T16:43:38.250Z"
   },
   {
    "duration": 0,
    "start_time": "2024-07-21T16:43:38.252Z"
   },
   {
    "duration": 0,
    "start_time": "2024-07-21T16:43:38.254Z"
   },
   {
    "duration": 0,
    "start_time": "2024-07-21T16:43:38.256Z"
   },
   {
    "duration": 0,
    "start_time": "2024-07-21T16:43:38.258Z"
   },
   {
    "duration": 0,
    "start_time": "2024-07-21T16:43:38.260Z"
   },
   {
    "duration": 0,
    "start_time": "2024-07-21T16:43:38.264Z"
   },
   {
    "duration": 0,
    "start_time": "2024-07-21T16:43:38.266Z"
   },
   {
    "duration": 0,
    "start_time": "2024-07-21T16:43:38.268Z"
   },
   {
    "duration": 0,
    "start_time": "2024-07-21T16:43:38.270Z"
   },
   {
    "duration": 0,
    "start_time": "2024-07-21T16:43:38.272Z"
   },
   {
    "duration": 23,
    "start_time": "2024-07-21T16:44:48.992Z"
   },
   {
    "duration": 19,
    "start_time": "2024-07-21T16:45:07.310Z"
   },
   {
    "duration": 3,
    "start_time": "2024-07-21T16:45:20.520Z"
   },
   {
    "duration": 4,
    "start_time": "2024-07-21T16:45:25.689Z"
   },
   {
    "duration": 266,
    "start_time": "2024-07-21T16:45:25.704Z"
   },
   {
    "duration": 15,
    "start_time": "2024-07-21T16:45:25.974Z"
   },
   {
    "duration": 8,
    "start_time": "2024-07-21T16:45:25.991Z"
   },
   {
    "duration": 35,
    "start_time": "2024-07-21T16:45:26.002Z"
   },
   {
    "duration": 14,
    "start_time": "2024-07-21T16:45:26.042Z"
   },
   {
    "duration": 10,
    "start_time": "2024-07-21T16:45:26.058Z"
   },
   {
    "duration": 11,
    "start_time": "2024-07-21T16:45:26.071Z"
   },
   {
    "duration": 67,
    "start_time": "2024-07-21T16:45:26.085Z"
   },
   {
    "duration": 8,
    "start_time": "2024-07-21T16:45:26.154Z"
   },
   {
    "duration": 13,
    "start_time": "2024-07-21T16:45:26.165Z"
   },
   {
    "duration": 56,
    "start_time": "2024-07-21T16:45:26.181Z"
   },
   {
    "duration": 9,
    "start_time": "2024-07-21T16:45:26.239Z"
   },
   {
    "duration": 27,
    "start_time": "2024-07-21T16:45:26.252Z"
   },
   {
    "duration": 45,
    "start_time": "2024-07-21T16:45:26.286Z"
   },
   {
    "duration": 11,
    "start_time": "2024-07-21T16:45:26.334Z"
   },
   {
    "duration": 18,
    "start_time": "2024-07-21T16:45:26.348Z"
   },
   {
    "duration": 10,
    "start_time": "2024-07-21T16:45:26.368Z"
   },
   {
    "duration": 53,
    "start_time": "2024-07-21T16:45:26.383Z"
   },
   {
    "duration": 9,
    "start_time": "2024-07-21T16:45:26.439Z"
   },
   {
    "duration": 20,
    "start_time": "2024-07-21T16:45:26.452Z"
   },
   {
    "duration": 0,
    "start_time": "2024-07-21T16:45:26.475Z"
   },
   {
    "duration": 0,
    "start_time": "2024-07-21T16:45:26.477Z"
   },
   {
    "duration": 0,
    "start_time": "2024-07-21T16:45:26.479Z"
   },
   {
    "duration": 0,
    "start_time": "2024-07-21T16:45:26.481Z"
   },
   {
    "duration": 0,
    "start_time": "2024-07-21T16:45:26.484Z"
   },
   {
    "duration": 0,
    "start_time": "2024-07-21T16:45:26.531Z"
   },
   {
    "duration": 0,
    "start_time": "2024-07-21T16:45:26.534Z"
   },
   {
    "duration": 0,
    "start_time": "2024-07-21T16:45:26.536Z"
   },
   {
    "duration": 0,
    "start_time": "2024-07-21T16:45:26.541Z"
   },
   {
    "duration": 0,
    "start_time": "2024-07-21T16:45:26.544Z"
   },
   {
    "duration": 0,
    "start_time": "2024-07-21T16:45:26.546Z"
   },
   {
    "duration": 0,
    "start_time": "2024-07-21T16:45:26.548Z"
   },
   {
    "duration": 0,
    "start_time": "2024-07-21T16:45:26.550Z"
   },
   {
    "duration": 24,
    "start_time": "2024-07-21T16:45:46.168Z"
   },
   {
    "duration": 19,
    "start_time": "2024-07-21T16:46:01.404Z"
   },
   {
    "duration": 23,
    "start_time": "2024-07-21T16:46:18.154Z"
   },
   {
    "duration": 23,
    "start_time": "2024-07-21T16:47:32.270Z"
   },
   {
    "duration": 25,
    "start_time": "2024-07-21T16:48:03.751Z"
   },
   {
    "duration": 38,
    "start_time": "2024-07-21T16:49:22.026Z"
   },
   {
    "duration": 12,
    "start_time": "2024-07-21T16:49:34.872Z"
   },
   {
    "duration": 41,
    "start_time": "2024-07-21T16:50:18.394Z"
   },
   {
    "duration": 11,
    "start_time": "2024-07-21T16:50:27.482Z"
   },
   {
    "duration": 12,
    "start_time": "2024-07-21T16:51:07.556Z"
   },
   {
    "duration": 153,
    "start_time": "2024-07-21T16:51:09.255Z"
   },
   {
    "duration": 24,
    "start_time": "2024-07-21T16:51:23.698Z"
   },
   {
    "duration": 11,
    "start_time": "2024-07-21T17:19:57.215Z"
   },
   {
    "duration": 84,
    "start_time": "2024-07-21T17:25:24.930Z"
   },
   {
    "duration": 20,
    "start_time": "2024-07-21T17:27:10.901Z"
   },
   {
    "duration": 4,
    "start_time": "2024-07-22T11:32:53.629Z"
   },
   {
    "duration": 291,
    "start_time": "2024-07-22T11:32:53.636Z"
   },
   {
    "duration": 15,
    "start_time": "2024-07-22T11:32:53.930Z"
   },
   {
    "duration": 7,
    "start_time": "2024-07-22T11:32:53.948Z"
   },
   {
    "duration": 11,
    "start_time": "2024-07-22T11:32:53.959Z"
   },
   {
    "duration": 14,
    "start_time": "2024-07-22T11:32:53.973Z"
   },
   {
    "duration": 48,
    "start_time": "2024-07-22T11:32:53.989Z"
   },
   {
    "duration": 11,
    "start_time": "2024-07-22T11:32:54.040Z"
   },
   {
    "duration": 26,
    "start_time": "2024-07-22T11:32:54.053Z"
   },
   {
    "duration": 7,
    "start_time": "2024-07-22T11:32:54.082Z"
   },
   {
    "duration": 12,
    "start_time": "2024-07-22T11:32:54.135Z"
   },
   {
    "duration": 20,
    "start_time": "2024-07-22T11:32:54.150Z"
   },
   {
    "duration": 8,
    "start_time": "2024-07-22T11:32:54.173Z"
   },
   {
    "duration": 65,
    "start_time": "2024-07-22T11:32:54.185Z"
   },
   {
    "duration": 7,
    "start_time": "2024-07-22T11:32:54.253Z"
   },
   {
    "duration": 9,
    "start_time": "2024-07-22T11:32:54.264Z"
   },
   {
    "duration": 55,
    "start_time": "2024-07-22T11:32:54.276Z"
   },
   {
    "duration": 12,
    "start_time": "2024-07-22T11:32:54.334Z"
   },
   {
    "duration": 12,
    "start_time": "2024-07-22T11:32:54.349Z"
   },
   {
    "duration": 9,
    "start_time": "2024-07-22T11:32:54.363Z"
   },
   {
    "duration": 14,
    "start_time": "2024-07-22T11:32:54.375Z"
   },
   {
    "duration": 37,
    "start_time": "2024-07-22T11:32:54.431Z"
   },
   {
    "duration": 13,
    "start_time": "2024-07-22T11:32:54.471Z"
   },
   {
    "duration": 187,
    "start_time": "2024-07-22T11:32:54.487Z"
   },
   {
    "duration": 20,
    "start_time": "2024-07-22T11:32:54.677Z"
   },
   {
    "duration": 34,
    "start_time": "2024-07-22T11:32:54.700Z"
   },
   {
    "duration": 97,
    "start_time": "2024-07-22T11:32:54.737Z"
   },
   {
    "duration": 22,
    "start_time": "2024-07-22T11:32:54.837Z"
   },
   {
    "duration": 23,
    "start_time": "2024-07-22T11:32:54.865Z"
   },
   {
    "duration": 3,
    "start_time": "2024-07-22T11:32:54.891Z"
   },
   {
    "duration": 36,
    "start_time": "2024-07-22T11:32:54.897Z"
   },
   {
    "duration": 4,
    "start_time": "2024-07-22T11:32:54.936Z"
   },
   {
    "duration": 5,
    "start_time": "2024-07-22T11:32:54.942Z"
   },
   {
    "duration": 4,
    "start_time": "2024-07-22T11:32:54.950Z"
   },
   {
    "duration": 5,
    "start_time": "2024-07-22T11:32:54.956Z"
   },
   {
    "duration": 4,
    "start_time": "2024-07-22T11:32:54.963Z"
   },
   {
    "duration": 88,
    "start_time": "2024-07-22T12:07:34.056Z"
   },
   {
    "duration": 900,
    "start_time": "2024-07-22T12:07:54.000Z"
   },
   {
    "duration": 87,
    "start_time": "2024-07-22T12:08:28.321Z"
   },
   {
    "duration": 85,
    "start_time": "2024-07-22T12:09:04.144Z"
   },
   {
    "duration": 285,
    "start_time": "2024-07-22T12:10:20.439Z"
   },
   {
    "duration": 4,
    "start_time": "2024-07-22T12:29:02.745Z"
   },
   {
    "duration": 282,
    "start_time": "2024-07-22T12:29:02.754Z"
   },
   {
    "duration": 16,
    "start_time": "2024-07-22T12:29:03.039Z"
   },
   {
    "duration": 10,
    "start_time": "2024-07-22T12:29:03.058Z"
   },
   {
    "duration": 11,
    "start_time": "2024-07-22T12:29:03.073Z"
   },
   {
    "duration": 51,
    "start_time": "2024-07-22T12:29:03.087Z"
   },
   {
    "duration": 9,
    "start_time": "2024-07-22T12:29:03.140Z"
   },
   {
    "duration": 10,
    "start_time": "2024-07-22T12:29:03.153Z"
   },
   {
    "duration": 26,
    "start_time": "2024-07-22T12:29:03.165Z"
   },
   {
    "duration": 7,
    "start_time": "2024-07-22T12:29:03.231Z"
   },
   {
    "duration": 12,
    "start_time": "2024-07-22T12:29:03.242Z"
   },
   {
    "duration": 20,
    "start_time": "2024-07-22T12:29:03.257Z"
   },
   {
    "duration": 6,
    "start_time": "2024-07-22T12:29:03.280Z"
   },
   {
    "duration": 22,
    "start_time": "2024-07-22T12:29:03.336Z"
   },
   {
    "duration": 7,
    "start_time": "2024-07-22T12:29:03.361Z"
   },
   {
    "duration": 9,
    "start_time": "2024-07-22T12:29:03.371Z"
   },
   {
    "duration": 55,
    "start_time": "2024-07-22T12:29:03.383Z"
   },
   {
    "duration": 14,
    "start_time": "2024-07-22T12:29:03.441Z"
   },
   {
    "duration": 11,
    "start_time": "2024-07-22T12:29:03.458Z"
   },
   {
    "duration": 9,
    "start_time": "2024-07-22T12:29:03.472Z"
   },
   {
    "duration": 53,
    "start_time": "2024-07-22T12:29:03.484Z"
   },
   {
    "duration": 38,
    "start_time": "2024-07-22T12:29:03.539Z"
   },
   {
    "duration": 11,
    "start_time": "2024-07-22T12:29:03.580Z"
   },
   {
    "duration": 192,
    "start_time": "2024-07-22T12:29:03.593Z"
   },
   {
    "duration": 20,
    "start_time": "2024-07-22T12:29:03.787Z"
   },
   {
    "duration": 11,
    "start_time": "2024-07-22T12:29:03.830Z"
   },
   {
    "duration": 100,
    "start_time": "2024-07-22T12:29:03.844Z"
   },
   {
    "duration": 21,
    "start_time": "2024-07-22T12:29:03.947Z"
   },
   {
    "duration": 124,
    "start_time": "2024-07-22T12:29:03.971Z"
   },
   {
    "duration": 0,
    "start_time": "2024-07-22T12:29:04.098Z"
   },
   {
    "duration": 0,
    "start_time": "2024-07-22T12:29:04.099Z"
   },
   {
    "duration": 0,
    "start_time": "2024-07-22T12:29:04.101Z"
   },
   {
    "duration": 0,
    "start_time": "2024-07-22T12:29:04.103Z"
   },
   {
    "duration": 0,
    "start_time": "2024-07-22T12:29:04.104Z"
   },
   {
    "duration": 0,
    "start_time": "2024-07-22T12:29:04.106Z"
   },
   {
    "duration": 0,
    "start_time": "2024-07-22T12:29:04.131Z"
   },
   {
    "duration": 4034,
    "start_time": "2024-07-22T12:32:12.141Z"
   },
   {
    "duration": 12,
    "start_time": "2024-07-22T12:43:51.777Z"
   },
   {
    "duration": 6,
    "start_time": "2024-07-22T12:44:03.997Z"
   },
   {
    "duration": 43732,
    "start_time": "2024-07-22T12:44:21.109Z"
   },
   {
    "duration": 327,
    "start_time": "2024-07-22T12:52:55.772Z"
   },
   {
    "duration": 223,
    "start_time": "2024-07-22T12:53:16.976Z"
   },
   {
    "duration": 239,
    "start_time": "2024-07-22T12:53:55.291Z"
   },
   {
    "duration": 238,
    "start_time": "2024-07-22T12:54:14.431Z"
   },
   {
    "duration": 6781,
    "start_time": "2024-07-22T12:57:09.450Z"
   },
   {
    "duration": 6910,
    "start_time": "2024-07-22T13:03:22.840Z"
   },
   {
    "duration": 7123,
    "start_time": "2024-07-22T13:03:40.549Z"
   },
   {
    "duration": 7051,
    "start_time": "2024-07-22T13:08:03.364Z"
   },
   {
    "duration": 82,
    "start_time": "2024-07-22T13:08:57.045Z"
   },
   {
    "duration": 104,
    "start_time": "2024-07-22T13:09:35.783Z"
   },
   {
    "duration": 96,
    "start_time": "2024-07-22T13:09:44.440Z"
   },
   {
    "duration": 98,
    "start_time": "2024-07-22T13:11:05.751Z"
   },
   {
    "duration": 328,
    "start_time": "2024-07-22T13:11:18.350Z"
   },
   {
    "duration": 158,
    "start_time": "2024-07-22T13:11:49.004Z"
   },
   {
    "duration": 6487,
    "start_time": "2024-07-22T13:12:10.533Z"
   },
   {
    "duration": 7,
    "start_time": "2024-07-22T13:13:14.269Z"
   },
   {
    "duration": 6,
    "start_time": "2024-07-22T13:13:25.422Z"
   },
   {
    "duration": 43537,
    "start_time": "2024-07-22T13:15:17.604Z"
   },
   {
    "duration": 239,
    "start_time": "2024-07-22T13:16:25.318Z"
   },
   {
    "duration": 225,
    "start_time": "2024-07-22T13:17:16.080Z"
   },
   {
    "duration": 224,
    "start_time": "2024-07-22T13:17:54.948Z"
   },
   {
    "duration": 223,
    "start_time": "2024-07-22T13:19:33.008Z"
   },
   {
    "duration": 7266,
    "start_time": "2024-07-22T13:44:24.695Z"
   },
   {
    "duration": 981,
    "start_time": "2024-07-22T17:15:45.743Z"
   },
   {
    "duration": 388,
    "start_time": "2024-07-22T17:15:46.728Z"
   },
   {
    "duration": 16,
    "start_time": "2024-07-22T17:15:47.119Z"
   },
   {
    "duration": 9,
    "start_time": "2024-07-22T17:15:47.141Z"
   },
   {
    "duration": 13,
    "start_time": "2024-07-22T17:15:47.169Z"
   },
   {
    "duration": 14,
    "start_time": "2024-07-22T17:15:47.185Z"
   },
   {
    "duration": 9,
    "start_time": "2024-07-22T17:15:47.202Z"
   },
   {
    "duration": 9,
    "start_time": "2024-07-22T17:15:47.214Z"
   },
   {
    "duration": 26,
    "start_time": "2024-07-22T17:15:47.269Z"
   },
   {
    "duration": 7,
    "start_time": "2024-07-22T17:15:47.302Z"
   },
   {
    "duration": 14,
    "start_time": "2024-07-22T17:15:47.312Z"
   },
   {
    "duration": 58,
    "start_time": "2024-07-22T17:15:47.329Z"
   },
   {
    "duration": 8,
    "start_time": "2024-07-22T17:15:47.390Z"
   },
   {
    "duration": 28,
    "start_time": "2024-07-22T17:15:47.403Z"
   },
   {
    "duration": 41,
    "start_time": "2024-07-22T17:15:47.434Z"
   },
   {
    "duration": 11,
    "start_time": "2024-07-22T17:15:47.478Z"
   },
   {
    "duration": 14,
    "start_time": "2024-07-22T17:15:47.492Z"
   },
   {
    "duration": 11,
    "start_time": "2024-07-22T17:15:47.509Z"
   },
   {
    "duration": 11,
    "start_time": "2024-07-22T17:15:47.567Z"
   },
   {
    "duration": 10,
    "start_time": "2024-07-22T17:15:47.582Z"
   },
   {
    "duration": 12,
    "start_time": "2024-07-22T17:15:47.595Z"
   },
   {
    "duration": 83,
    "start_time": "2024-07-22T17:15:47.610Z"
   },
   {
    "duration": 11,
    "start_time": "2024-07-22T17:15:47.696Z"
   },
   {
    "duration": 198,
    "start_time": "2024-07-22T17:15:47.711Z"
   },
   {
    "duration": 20,
    "start_time": "2024-07-22T17:15:47.913Z"
   },
   {
    "duration": 37,
    "start_time": "2024-07-22T17:15:47.936Z"
   },
   {
    "duration": 105,
    "start_time": "2024-07-22T17:15:47.978Z"
   },
   {
    "duration": 20,
    "start_time": "2024-07-22T17:15:48.090Z"
   },
   {
    "duration": 10590,
    "start_time": "2024-07-22T17:15:48.113Z"
   },
   {
    "duration": 6826,
    "start_time": "2024-07-22T17:15:58.706Z"
   },
   {
    "duration": 5,
    "start_time": "2024-07-22T17:16:05.535Z"
   },
   {
    "duration": 14,
    "start_time": "2024-07-22T17:16:05.543Z"
   },
   {
    "duration": 4,
    "start_time": "2024-07-22T17:16:05.569Z"
   },
   {
    "duration": 5,
    "start_time": "2024-07-22T17:16:05.576Z"
   },
   {
    "duration": 3,
    "start_time": "2024-07-22T17:16:05.584Z"
   },
   {
    "duration": 5,
    "start_time": "2024-07-22T17:16:05.590Z"
   },
   {
    "duration": 42989,
    "start_time": "2024-07-22T17:25:56.778Z"
   },
   {
    "duration": 8,
    "start_time": "2024-07-22T17:27:05.713Z"
   },
   {
    "duration": 43011,
    "start_time": "2024-07-22T17:27:15.026Z"
   },
   {
    "duration": 528,
    "start_time": "2024-07-22T17:33:48.230Z"
   },
   {
    "duration": 9,
    "start_time": "2024-07-22T17:34:04.867Z"
   },
   {
    "duration": 6480,
    "start_time": "2024-07-22T17:34:11.022Z"
   },
   {
    "duration": 6504,
    "start_time": "2024-07-22T17:34:47.547Z"
   },
   {
    "duration": 7192,
    "start_time": "2024-07-22T17:35:11.452Z"
   },
   {
    "duration": 6787,
    "start_time": "2024-07-22T17:37:53.558Z"
   },
   {
    "duration": 309,
    "start_time": "2024-07-22T17:42:50.286Z"
   },
   {
    "duration": 5572,
    "start_time": "2024-07-22T17:43:23.852Z"
   },
   {
    "duration": 5950,
    "start_time": "2024-07-22T17:43:46.101Z"
   },
   {
    "duration": 5801,
    "start_time": "2024-07-22T17:44:01.855Z"
   },
   {
    "duration": 6509,
    "start_time": "2024-07-22T17:45:01.528Z"
   },
   {
    "duration": 134,
    "start_time": "2024-07-22T17:45:43.264Z"
   },
   {
    "duration": 452,
    "start_time": "2024-07-22T17:51:26.981Z"
   },
   {
    "duration": 399,
    "start_time": "2024-07-22T17:51:58.817Z"
   },
   {
    "duration": 485,
    "start_time": "2024-07-22T17:54:46.693Z"
   },
   {
    "duration": 495,
    "start_time": "2024-07-22T17:56:09.011Z"
   },
   {
    "duration": 393,
    "start_time": "2024-07-22T17:58:12.205Z"
   },
   {
    "duration": 354,
    "start_time": "2024-07-22T18:02:51.655Z"
   },
   {
    "duration": 158,
    "start_time": "2024-07-22T18:03:23.641Z"
   },
   {
    "duration": 164,
    "start_time": "2024-07-22T18:05:33.073Z"
   },
   {
    "duration": 164,
    "start_time": "2024-07-22T18:05:41.105Z"
   },
   {
    "duration": 51126,
    "start_time": "2024-07-22T18:21:26.517Z"
   },
   {
    "duration": 123,
    "start_time": "2024-07-22T18:22:33.645Z"
   },
   {
    "duration": 123,
    "start_time": "2024-07-22T18:23:41.632Z"
   },
   {
    "duration": 146,
    "start_time": "2024-07-22T19:08:51.918Z"
   },
   {
    "duration": 15553,
    "start_time": "2024-07-22T19:10:33.356Z"
   },
   {
    "duration": 152,
    "start_time": "2024-07-22T19:11:38.998Z"
   },
   {
    "duration": 7043,
    "start_time": "2024-07-22T19:11:57.269Z"
   },
   {
    "duration": 372,
    "start_time": "2024-07-22T19:16:22.404Z"
   },
   {
    "duration": 1498,
    "start_time": "2024-07-22T19:21:46.623Z"
   },
   {
    "duration": 7612,
    "start_time": "2024-07-22T19:28:01.597Z"
   },
   {
    "duration": 6162,
    "start_time": "2024-07-22T19:33:05.369Z"
   },
   {
    "duration": 835,
    "start_time": "2024-07-22T22:44:20.961Z"
   },
   {
    "duration": 735,
    "start_time": "2024-07-22T22:44:45.083Z"
   },
   {
    "duration": 347,
    "start_time": "2024-07-22T22:44:48.118Z"
   },
   {
    "duration": 539,
    "start_time": "2024-07-22T22:45:09.697Z"
   },
   {
    "duration": 207,
    "start_time": "2024-07-22T22:45:31.372Z"
   },
   {
    "duration": 770,
    "start_time": "2024-07-22T22:54:00.530Z"
   },
   {
    "duration": 162,
    "start_time": "2024-07-22T22:54:16.695Z"
   },
   {
    "duration": 3,
    "start_time": "2024-07-22T22:54:26.490Z"
   },
   {
    "duration": 280,
    "start_time": "2024-07-22T22:54:26.497Z"
   },
   {
    "duration": 15,
    "start_time": "2024-07-22T22:54:26.781Z"
   },
   {
    "duration": 11,
    "start_time": "2024-07-22T22:54:26.799Z"
   },
   {
    "duration": 12,
    "start_time": "2024-07-22T22:54:26.815Z"
   },
   {
    "duration": 49,
    "start_time": "2024-07-22T22:54:26.830Z"
   },
   {
    "duration": 8,
    "start_time": "2024-07-22T22:54:26.883Z"
   },
   {
    "duration": 10,
    "start_time": "2024-07-22T22:54:26.894Z"
   },
   {
    "duration": 67,
    "start_time": "2024-07-22T22:54:26.907Z"
   },
   {
    "duration": 8,
    "start_time": "2024-07-22T22:54:26.977Z"
   },
   {
    "duration": 12,
    "start_time": "2024-07-22T22:54:26.991Z"
   },
   {
    "duration": 19,
    "start_time": "2024-07-22T22:54:27.008Z"
   },
   {
    "duration": 7,
    "start_time": "2024-07-22T22:54:27.069Z"
   },
   {
    "duration": 23,
    "start_time": "2024-07-22T22:54:27.079Z"
   },
   {
    "duration": 7,
    "start_time": "2024-07-22T22:54:27.107Z"
   },
   {
    "duration": 50,
    "start_time": "2024-07-22T22:54:27.117Z"
   },
   {
    "duration": 17,
    "start_time": "2024-07-22T22:54:27.170Z"
   },
   {
    "duration": 10,
    "start_time": "2024-07-22T22:54:27.190Z"
   },
   {
    "duration": 11,
    "start_time": "2024-07-22T22:54:27.203Z"
   },
   {
    "duration": 54,
    "start_time": "2024-07-22T22:54:27.216Z"
   },
   {
    "duration": 12,
    "start_time": "2024-07-22T22:54:27.274Z"
   },
   {
    "duration": 35,
    "start_time": "2024-07-22T22:54:27.290Z"
   },
   {
    "duration": 46,
    "start_time": "2024-07-22T22:54:27.329Z"
   },
   {
    "duration": 294,
    "start_time": "2024-07-22T22:54:27.379Z"
   },
   {
    "duration": 28,
    "start_time": "2024-07-22T22:54:27.676Z"
   },
   {
    "duration": 12,
    "start_time": "2024-07-22T22:54:27.707Z"
   },
   {
    "duration": 119,
    "start_time": "2024-07-22T22:54:27.721Z"
   },
   {
    "duration": 40,
    "start_time": "2024-07-22T22:54:27.843Z"
   },
   {
    "duration": 6597,
    "start_time": "2024-07-22T22:54:27.890Z"
   },
   {
    "duration": 7189,
    "start_time": "2024-07-22T22:54:34.490Z"
   },
   {
    "duration": 4,
    "start_time": "2024-07-22T22:54:41.682Z"
   },
   {
    "duration": 4,
    "start_time": "2024-07-22T22:54:41.689Z"
   },
   {
    "duration": 5,
    "start_time": "2024-07-22T22:54:41.695Z"
   },
   {
    "duration": 4,
    "start_time": "2024-07-22T22:54:41.703Z"
   },
   {
    "duration": 3,
    "start_time": "2024-07-22T22:54:41.710Z"
   },
   {
    "duration": 51,
    "start_time": "2024-07-22T22:54:41.717Z"
   },
   {
    "duration": 6881,
    "start_time": "2024-07-22T22:56:01.008Z"
   },
   {
    "duration": 187,
    "start_time": "2024-07-22T22:56:54.112Z"
   },
   {
    "duration": 6575,
    "start_time": "2024-07-22T22:57:18.980Z"
   },
   {
    "duration": 6731,
    "start_time": "2024-07-22T23:00:18.171Z"
   },
   {
    "duration": 38,
    "start_time": "2024-07-22T23:06:10.059Z"
   },
   {
    "duration": 34,
    "start_time": "2024-07-22T23:06:30.094Z"
   },
   {
    "duration": 36,
    "start_time": "2024-07-22T23:06:40.082Z"
   },
   {
    "duration": 6675,
    "start_time": "2024-07-22T23:07:52.603Z"
   },
   {
    "duration": 6810,
    "start_time": "2024-07-22T23:08:18.457Z"
   },
   {
    "duration": 1337,
    "start_time": "2024-07-22T23:09:02.810Z"
   },
   {
    "duration": 6938,
    "start_time": "2024-07-22T23:09:18.234Z"
   },
   {
    "duration": 10988,
    "start_time": "2024-07-22T23:13:18.029Z"
   },
   {
    "duration": 11040,
    "start_time": "2024-07-22T23:13:58.779Z"
   },
   {
    "duration": 6,
    "start_time": "2024-07-22T23:41:01.146Z"
   },
   {
    "duration": 9,
    "start_time": "2024-07-22T23:48:03.554Z"
   },
   {
    "duration": 30,
    "start_time": "2024-07-22T23:48:35.523Z"
   },
   {
    "duration": 6,
    "start_time": "2024-07-22T23:49:27.852Z"
   },
   {
    "duration": 6,
    "start_time": "2024-07-22T23:53:01.130Z"
   },
   {
    "duration": 7,
    "start_time": "2024-07-22T23:54:39.034Z"
   },
   {
    "duration": 7,
    "start_time": "2024-07-22T23:59:40.217Z"
   },
   {
    "duration": 26,
    "start_time": "2024-07-23T00:05:28.599Z"
   },
   {
    "duration": 31,
    "start_time": "2024-07-23T00:06:37.966Z"
   },
   {
    "duration": 153,
    "start_time": "2024-07-23T00:20:35.071Z"
   },
   {
    "duration": 32,
    "start_time": "2024-07-23T00:21:24.545Z"
   },
   {
    "duration": 395,
    "start_time": "2024-07-23T00:21:41.878Z"
   },
   {
    "duration": 161,
    "start_time": "2024-07-23T00:26:03.624Z"
   },
   {
    "duration": 170,
    "start_time": "2024-07-23T00:26:15.449Z"
   },
   {
    "duration": 169,
    "start_time": "2024-07-23T00:26:47.647Z"
   },
   {
    "duration": 192,
    "start_time": "2024-07-23T00:27:27.336Z"
   },
   {
    "duration": 178,
    "start_time": "2024-07-23T00:28:19.413Z"
   },
   {
    "duration": 6,
    "start_time": "2024-07-23T00:50:45.359Z"
   },
   {
    "duration": 6,
    "start_time": "2024-07-23T01:12:05.784Z"
   },
   {
    "duration": 6,
    "start_time": "2024-07-23T01:14:27.471Z"
   },
   {
    "duration": 5,
    "start_time": "2024-07-23T01:14:59.008Z"
   },
   {
    "duration": 11,
    "start_time": "2024-07-23T01:15:37.014Z"
   },
   {
    "duration": 6,
    "start_time": "2024-07-23T01:15:59.588Z"
   },
   {
    "duration": 6,
    "start_time": "2024-07-23T01:19:16.893Z"
   },
   {
    "duration": 7,
    "start_time": "2024-07-23T01:19:41.315Z"
   },
   {
    "duration": 6,
    "start_time": "2024-07-23T01:20:34.725Z"
   },
   {
    "duration": 7,
    "start_time": "2024-07-23T01:21:08.521Z"
   },
   {
    "duration": 26,
    "start_time": "2024-07-23T01:22:57.327Z"
   },
   {
    "duration": 25,
    "start_time": "2024-07-23T01:23:24.732Z"
   },
   {
    "duration": 5,
    "start_time": "2024-07-23T01:23:36.143Z"
   },
   {
    "duration": 288,
    "start_time": "2024-07-23T01:23:36.154Z"
   },
   {
    "duration": 22,
    "start_time": "2024-07-23T01:23:36.446Z"
   },
   {
    "duration": 9,
    "start_time": "2024-07-23T01:23:36.472Z"
   },
   {
    "duration": 12,
    "start_time": "2024-07-23T01:23:36.486Z"
   },
   {
    "duration": 16,
    "start_time": "2024-07-23T01:23:36.503Z"
   },
   {
    "duration": 50,
    "start_time": "2024-07-23T01:23:36.523Z"
   },
   {
    "duration": 14,
    "start_time": "2024-07-23T01:23:36.577Z"
   },
   {
    "duration": 34,
    "start_time": "2024-07-23T01:23:36.594Z"
   },
   {
    "duration": 41,
    "start_time": "2024-07-23T01:23:36.631Z"
   },
   {
    "duration": 18,
    "start_time": "2024-07-23T01:23:36.677Z"
   },
   {
    "duration": 26,
    "start_time": "2024-07-23T01:23:36.705Z"
   },
   {
    "duration": 8,
    "start_time": "2024-07-23T01:23:36.774Z"
   },
   {
    "duration": 32,
    "start_time": "2024-07-23T01:23:36.784Z"
   },
   {
    "duration": 9,
    "start_time": "2024-07-23T01:23:36.819Z"
   },
   {
    "duration": 49,
    "start_time": "2024-07-23T01:23:36.832Z"
   },
   {
    "duration": 22,
    "start_time": "2024-07-23T01:23:36.885Z"
   },
   {
    "duration": 13,
    "start_time": "2024-07-23T01:23:36.910Z"
   },
   {
    "duration": 47,
    "start_time": "2024-07-23T01:23:36.926Z"
   },
   {
    "duration": 10,
    "start_time": "2024-07-23T01:23:36.976Z"
   },
   {
    "duration": 13,
    "start_time": "2024-07-23T01:23:36.989Z"
   },
   {
    "duration": 80,
    "start_time": "2024-07-23T01:23:37.006Z"
   },
   {
    "duration": 14,
    "start_time": "2024-07-23T01:23:37.090Z"
   },
   {
    "duration": 204,
    "start_time": "2024-07-23T01:23:37.108Z"
   },
   {
    "duration": 24,
    "start_time": "2024-07-23T01:23:37.315Z"
   },
   {
    "duration": 35,
    "start_time": "2024-07-23T01:23:37.342Z"
   },
   {
    "duration": 131,
    "start_time": "2024-07-23T01:23:37.381Z"
   },
   {
    "duration": 21,
    "start_time": "2024-07-23T01:23:37.515Z"
   },
   {
    "duration": 7550,
    "start_time": "2024-07-23T01:23:37.540Z"
   },
   {
    "duration": 6967,
    "start_time": "2024-07-23T01:23:45.093Z"
   },
   {
    "duration": 11639,
    "start_time": "2024-07-23T01:23:52.067Z"
   },
   {
    "duration": 7,
    "start_time": "2024-07-23T01:24:03.711Z"
   },
   {
    "duration": 238,
    "start_time": "2024-07-23T01:24:03.722Z"
   },
   {
    "duration": 7,
    "start_time": "2024-07-23T01:24:03.967Z"
   },
   {
    "duration": 9,
    "start_time": "2024-07-23T01:24:03.979Z"
   },
   {
    "duration": 25,
    "start_time": "2024-07-23T01:24:03.992Z"
   },
   {
    "duration": 0,
    "start_time": "2024-07-23T01:24:04.021Z"
   },
   {
    "duration": 0,
    "start_time": "2024-07-23T01:24:04.023Z"
   },
   {
    "duration": 0,
    "start_time": "2024-07-23T01:24:04.025Z"
   },
   {
    "duration": 81,
    "start_time": "2024-07-23T01:49:30.811Z"
   },
   {
    "duration": 53,
    "start_time": "2024-07-23T01:50:11.532Z"
   },
   {
    "duration": 222,
    "start_time": "2024-07-23T01:50:30.732Z"
   },
   {
    "duration": 223,
    "start_time": "2024-07-23T01:50:45.276Z"
   },
   {
    "duration": 200,
    "start_time": "2024-07-23T01:52:53.025Z"
   },
   {
    "duration": 10577,
    "start_time": "2024-07-23T01:53:12.167Z"
   },
   {
    "duration": 841,
    "start_time": "2024-07-23T01:53:59.738Z"
   },
   {
    "duration": 10584,
    "start_time": "2024-07-23T01:54:14.230Z"
   },
   {
    "duration": 158,
    "start_time": "2024-07-23T01:54:38.747Z"
   },
   {
    "duration": 5,
    "start_time": "2024-07-23T02:05:26.087Z"
   },
   {
    "duration": 6,
    "start_time": "2024-07-23T02:05:44.851Z"
   },
   {
    "duration": 7,
    "start_time": "2024-07-23T02:12:17.518Z"
   },
   {
    "duration": 9,
    "start_time": "2024-07-23T02:12:37.865Z"
   },
   {
    "duration": 7,
    "start_time": "2024-07-23T02:17:33.991Z"
   },
   {
    "duration": 536,
    "start_time": "2024-07-23T02:19:32.622Z"
   },
   {
    "duration": 10,
    "start_time": "2024-07-23T02:19:47.558Z"
   },
   {
    "duration": 7,
    "start_time": "2024-07-23T02:20:22.898Z"
   },
   {
    "duration": 8,
    "start_time": "2024-07-23T02:21:51.646Z"
   },
   {
    "duration": 7,
    "start_time": "2024-07-23T02:22:05.836Z"
   },
   {
    "duration": 8,
    "start_time": "2024-07-23T02:31:10.557Z"
   },
   {
    "duration": 8,
    "start_time": "2024-07-23T02:32:17.342Z"
   },
   {
    "duration": 7,
    "start_time": "2024-07-23T02:32:33.352Z"
   },
   {
    "duration": 7,
    "start_time": "2024-07-23T02:32:40.581Z"
   },
   {
    "duration": 8,
    "start_time": "2024-07-23T02:32:58.443Z"
   },
   {
    "duration": 304,
    "start_time": "2024-07-23T02:34:12.130Z"
   },
   {
    "duration": 107,
    "start_time": "2024-07-23T02:34:30.406Z"
   },
   {
    "duration": 108,
    "start_time": "2024-07-23T02:39:12.939Z"
   },
   {
    "duration": 112,
    "start_time": "2024-07-23T02:39:36.126Z"
   },
   {
    "duration": 33,
    "start_time": "2024-07-23T02:42:12.746Z"
   },
   {
    "duration": 121,
    "start_time": "2024-07-23T02:42:41.436Z"
   },
   {
    "duration": 136,
    "start_time": "2024-07-23T02:43:47.356Z"
   },
   {
    "duration": 108,
    "start_time": "2024-07-23T02:44:33.521Z"
   },
   {
    "duration": 117,
    "start_time": "2024-07-23T02:47:26.582Z"
   },
   {
    "duration": 114,
    "start_time": "2024-07-23T02:47:42.836Z"
   },
   {
    "duration": 17,
    "start_time": "2024-07-23T02:48:28.544Z"
   },
   {
    "duration": 12,
    "start_time": "2024-07-23T02:48:45.552Z"
   },
   {
    "duration": 12,
    "start_time": "2024-07-23T02:49:02.427Z"
   },
   {
    "duration": 28,
    "start_time": "2024-07-23T02:58:26.684Z"
   },
   {
    "duration": 30,
    "start_time": "2024-07-23T02:59:13.742Z"
   },
   {
    "duration": 42,
    "start_time": "2024-07-23T03:02:36.006Z"
   },
   {
    "duration": 81,
    "start_time": "2024-07-23T03:02:53.587Z"
   },
   {
    "duration": 71,
    "start_time": "2024-07-23T03:05:38.733Z"
   },
   {
    "duration": 73,
    "start_time": "2024-07-23T03:08:48.566Z"
   },
   {
    "duration": 35,
    "start_time": "2024-07-23T03:15:39.490Z"
   },
   {
    "duration": 87,
    "start_time": "2024-07-23T03:18:01.766Z"
   },
   {
    "duration": 69,
    "start_time": "2024-07-23T03:19:59.035Z"
   },
   {
    "duration": 44,
    "start_time": "2024-07-23T03:25:37.858Z"
   },
   {
    "duration": 913,
    "start_time": "2024-07-23T12:02:00.114Z"
   },
   {
    "duration": 384,
    "start_time": "2024-07-23T12:02:01.030Z"
   },
   {
    "duration": 16,
    "start_time": "2024-07-23T12:02:01.417Z"
   },
   {
    "duration": 9,
    "start_time": "2024-07-23T12:02:01.437Z"
   },
   {
    "duration": 13,
    "start_time": "2024-07-23T12:02:01.449Z"
   },
   {
    "duration": 16,
    "start_time": "2024-07-23T12:02:01.465Z"
   },
   {
    "duration": 10,
    "start_time": "2024-07-23T12:02:01.483Z"
   },
   {
    "duration": 10,
    "start_time": "2024-07-23T12:02:01.536Z"
   },
   {
    "duration": 25,
    "start_time": "2024-07-23T12:02:01.549Z"
   },
   {
    "duration": 7,
    "start_time": "2024-07-23T12:02:01.580Z"
   },
   {
    "duration": 55,
    "start_time": "2024-07-23T12:02:01.590Z"
   },
   {
    "duration": 20,
    "start_time": "2024-07-23T12:02:01.648Z"
   },
   {
    "duration": 7,
    "start_time": "2024-07-23T12:02:01.671Z"
   },
   {
    "duration": 60,
    "start_time": "2024-07-23T12:02:01.680Z"
   },
   {
    "duration": 7,
    "start_time": "2024-07-23T12:02:01.743Z"
   },
   {
    "duration": 10,
    "start_time": "2024-07-23T12:02:01.753Z"
   },
   {
    "duration": 15,
    "start_time": "2024-07-23T12:02:01.766Z"
   },
   {
    "duration": 56,
    "start_time": "2024-07-23T12:02:01.784Z"
   },
   {
    "duration": 10,
    "start_time": "2024-07-23T12:02:01.845Z"
   },
   {
    "duration": 8,
    "start_time": "2024-07-23T12:02:01.859Z"
   },
   {
    "duration": 12,
    "start_time": "2024-07-23T12:02:01.870Z"
   },
   {
    "duration": 83,
    "start_time": "2024-07-23T12:02:01.885Z"
   },
   {
    "duration": 13,
    "start_time": "2024-07-23T12:02:01.972Z"
   },
   {
    "duration": 188,
    "start_time": "2024-07-23T12:02:01.988Z"
   },
   {
    "duration": 20,
    "start_time": "2024-07-23T12:02:02.180Z"
   },
   {
    "duration": 31,
    "start_time": "2024-07-23T12:02:02.204Z"
   },
   {
    "duration": 103,
    "start_time": "2024-07-23T12:02:02.239Z"
   },
   {
    "duration": 20,
    "start_time": "2024-07-23T12:02:02.350Z"
   },
   {
    "duration": 10517,
    "start_time": "2024-07-23T12:02:02.373Z"
   },
   {
    "duration": 6473,
    "start_time": "2024-07-23T12:02:12.894Z"
   },
   {
    "duration": 10328,
    "start_time": "2024-07-23T12:02:19.370Z"
   },
   {
    "duration": 8,
    "start_time": "2024-07-23T12:02:29.701Z"
   },
   {
    "duration": 584,
    "start_time": "2024-07-23T12:02:29.713Z"
   },
   {
    "duration": 6,
    "start_time": "2024-07-23T12:02:30.300Z"
   },
   {
    "duration": 26,
    "start_time": "2024-07-23T12:02:30.309Z"
   },
   {
    "duration": 179,
    "start_time": "2024-07-23T12:02:30.338Z"
   },
   {
    "duration": 6,
    "start_time": "2024-07-23T12:02:30.520Z"
   },
   {
    "duration": 7,
    "start_time": "2024-07-23T12:02:30.535Z"
   },
   {
    "duration": 6,
    "start_time": "2024-07-23T12:02:30.545Z"
   },
   {
    "duration": 11,
    "start_time": "2024-07-23T12:02:30.554Z"
   },
   {
    "duration": 108,
    "start_time": "2024-07-23T12:02:30.568Z"
   },
   {
    "duration": 39,
    "start_time": "2024-07-23T12:02:30.679Z"
   },
   {
    "duration": 15,
    "start_time": "2024-07-23T13:50:42.046Z"
   },
   {
    "duration": 6,
    "start_time": "2024-07-23T13:50:58.172Z"
   },
   {
    "duration": 7,
    "start_time": "2024-07-23T13:51:35.560Z"
   },
   {
    "duration": 872,
    "start_time": "2024-07-23T13:51:42.204Z"
   },
   {
    "duration": 380,
    "start_time": "2024-07-23T13:51:43.079Z"
   },
   {
    "duration": 16,
    "start_time": "2024-07-23T13:51:43.461Z"
   },
   {
    "duration": 10,
    "start_time": "2024-07-23T13:51:43.481Z"
   },
   {
    "duration": 12,
    "start_time": "2024-07-23T13:51:43.493Z"
   },
   {
    "duration": 38,
    "start_time": "2024-07-23T13:51:43.508Z"
   },
   {
    "duration": 9,
    "start_time": "2024-07-23T13:51:43.549Z"
   },
   {
    "duration": 10,
    "start_time": "2024-07-23T13:51:43.560Z"
   },
   {
    "duration": 7,
    "start_time": "2024-07-23T13:51:43.573Z"
   },
   {
    "duration": 0,
    "start_time": "2024-07-23T13:51:43.586Z"
   },
   {
    "duration": 0,
    "start_time": "2024-07-23T13:51:43.588Z"
   },
   {
    "duration": 0,
    "start_time": "2024-07-23T13:51:43.635Z"
   },
   {
    "duration": 0,
    "start_time": "2024-07-23T13:51:43.637Z"
   },
   {
    "duration": 0,
    "start_time": "2024-07-23T13:51:43.639Z"
   },
   {
    "duration": 0,
    "start_time": "2024-07-23T13:51:43.642Z"
   },
   {
    "duration": 0,
    "start_time": "2024-07-23T13:51:43.645Z"
   },
   {
    "duration": 0,
    "start_time": "2024-07-23T13:51:43.646Z"
   },
   {
    "duration": 0,
    "start_time": "2024-07-23T13:51:43.648Z"
   },
   {
    "duration": 0,
    "start_time": "2024-07-23T13:51:43.650Z"
   },
   {
    "duration": 0,
    "start_time": "2024-07-23T13:51:43.652Z"
   },
   {
    "duration": 0,
    "start_time": "2024-07-23T13:51:43.655Z"
   },
   {
    "duration": 0,
    "start_time": "2024-07-23T13:51:43.657Z"
   },
   {
    "duration": 0,
    "start_time": "2024-07-23T13:51:43.660Z"
   },
   {
    "duration": 0,
    "start_time": "2024-07-23T13:51:43.662Z"
   },
   {
    "duration": 0,
    "start_time": "2024-07-23T13:51:43.665Z"
   },
   {
    "duration": 1,
    "start_time": "2024-07-23T13:51:43.671Z"
   },
   {
    "duration": 0,
    "start_time": "2024-07-23T13:51:43.674Z"
   },
   {
    "duration": 0,
    "start_time": "2024-07-23T13:51:43.676Z"
   },
   {
    "duration": 0,
    "start_time": "2024-07-23T13:51:43.678Z"
   },
   {
    "duration": 1,
    "start_time": "2024-07-23T13:51:43.678Z"
   },
   {
    "duration": 0,
    "start_time": "2024-07-23T13:51:43.679Z"
   },
   {
    "duration": 0,
    "start_time": "2024-07-23T13:51:43.680Z"
   },
   {
    "duration": 0,
    "start_time": "2024-07-23T13:51:43.734Z"
   },
   {
    "duration": 0,
    "start_time": "2024-07-23T13:51:43.736Z"
   },
   {
    "duration": 0,
    "start_time": "2024-07-23T13:51:43.738Z"
   },
   {
    "duration": 0,
    "start_time": "2024-07-23T13:51:43.740Z"
   },
   {
    "duration": 0,
    "start_time": "2024-07-23T13:51:43.741Z"
   },
   {
    "duration": 0,
    "start_time": "2024-07-23T13:51:43.744Z"
   },
   {
    "duration": 0,
    "start_time": "2024-07-23T13:51:43.745Z"
   },
   {
    "duration": 0,
    "start_time": "2024-07-23T13:51:43.747Z"
   },
   {
    "duration": 0,
    "start_time": "2024-07-23T13:51:43.749Z"
   },
   {
    "duration": 0,
    "start_time": "2024-07-23T13:51:43.751Z"
   },
   {
    "duration": 0,
    "start_time": "2024-07-23T13:51:43.752Z"
   },
   {
    "duration": 5,
    "start_time": "2024-07-23T13:52:53.931Z"
   },
   {
    "duration": 4445,
    "start_time": "2024-07-23T14:33:34.130Z"
   },
   {
    "duration": 318,
    "start_time": "2024-07-23T14:34:04.478Z"
   },
   {
    "duration": 73,
    "start_time": "2024-07-23T14:34:53.333Z"
   },
   {
    "duration": 529,
    "start_time": "2024-07-23T14:35:19.870Z"
   },
   {
    "duration": 9676,
    "start_time": "2024-07-23T14:36:31.355Z"
   },
   {
    "duration": 1868,
    "start_time": "2024-07-23T14:37:28.749Z"
   },
   {
    "duration": 9764,
    "start_time": "2024-07-23T14:37:49.058Z"
   },
   {
    "duration": 32,
    "start_time": "2024-07-23T15:16:33.551Z"
   },
   {
    "duration": 4,
    "start_time": "2024-07-23T15:16:38.473Z"
   },
   {
    "duration": 284,
    "start_time": "2024-07-23T15:16:38.481Z"
   },
   {
    "duration": 15,
    "start_time": "2024-07-23T15:16:38.768Z"
   },
   {
    "duration": 7,
    "start_time": "2024-07-23T15:16:38.786Z"
   },
   {
    "duration": 37,
    "start_time": "2024-07-23T15:16:38.797Z"
   },
   {
    "duration": 15,
    "start_time": "2024-07-23T15:16:38.836Z"
   },
   {
    "duration": 11,
    "start_time": "2024-07-23T15:16:38.853Z"
   },
   {
    "duration": 10,
    "start_time": "2024-07-23T15:16:38.867Z"
   },
   {
    "duration": 64,
    "start_time": "2024-07-23T15:16:38.880Z"
   },
   {
    "duration": 8,
    "start_time": "2024-07-23T15:16:38.947Z"
   },
   {
    "duration": 11,
    "start_time": "2024-07-23T15:16:38.959Z"
   },
   {
    "duration": 65,
    "start_time": "2024-07-23T15:16:38.974Z"
   },
   {
    "duration": 7,
    "start_time": "2024-07-23T15:16:39.045Z"
   },
   {
    "duration": 23,
    "start_time": "2024-07-23T15:16:39.055Z"
   },
   {
    "duration": 8,
    "start_time": "2024-07-23T15:16:39.080Z"
   },
   {
    "duration": 46,
    "start_time": "2024-07-23T15:16:39.090Z"
   },
   {
    "duration": 15,
    "start_time": "2024-07-23T15:16:39.138Z"
   },
   {
    "duration": 10,
    "start_time": "2024-07-23T15:16:39.156Z"
   },
   {
    "duration": 11,
    "start_time": "2024-07-23T15:16:39.168Z"
   },
   {
    "duration": 53,
    "start_time": "2024-07-23T15:16:39.182Z"
   },
   {
    "duration": 12,
    "start_time": "2024-07-23T15:16:39.238Z"
   },
   {
    "duration": 38,
    "start_time": "2024-07-23T15:16:39.252Z"
   },
   {
    "duration": 48,
    "start_time": "2024-07-23T15:16:39.293Z"
   },
   {
    "duration": 176,
    "start_time": "2024-07-23T15:16:39.344Z"
   },
   {
    "duration": 36,
    "start_time": "2024-07-23T15:16:39.524Z"
   },
   {
    "duration": 19,
    "start_time": "2024-07-23T15:16:39.563Z"
   },
   {
    "duration": 97,
    "start_time": "2024-07-23T15:16:39.588Z"
   },
   {
    "duration": 20,
    "start_time": "2024-07-23T15:16:39.688Z"
   },
   {
    "duration": 128,
    "start_time": "2024-07-23T15:16:39.711Z"
   },
   {
    "duration": 0,
    "start_time": "2024-07-23T15:16:39.842Z"
   },
   {
    "duration": 0,
    "start_time": "2024-07-23T15:16:39.845Z"
   },
   {
    "duration": 0,
    "start_time": "2024-07-23T15:16:39.847Z"
   },
   {
    "duration": 0,
    "start_time": "2024-07-23T15:16:39.848Z"
   },
   {
    "duration": 0,
    "start_time": "2024-07-23T15:16:39.850Z"
   },
   {
    "duration": 0,
    "start_time": "2024-07-23T15:16:39.851Z"
   },
   {
    "duration": 0,
    "start_time": "2024-07-23T15:16:39.854Z"
   },
   {
    "duration": 0,
    "start_time": "2024-07-23T15:16:39.856Z"
   },
   {
    "duration": 0,
    "start_time": "2024-07-23T15:16:39.859Z"
   },
   {
    "duration": 0,
    "start_time": "2024-07-23T15:16:39.862Z"
   },
   {
    "duration": 0,
    "start_time": "2024-07-23T15:16:39.865Z"
   },
   {
    "duration": 0,
    "start_time": "2024-07-23T15:16:39.868Z"
   },
   {
    "duration": 4,
    "start_time": "2024-07-23T15:17:08.344Z"
   },
   {
    "duration": 290,
    "start_time": "2024-07-23T15:17:08.352Z"
   },
   {
    "duration": 15,
    "start_time": "2024-07-23T15:17:08.644Z"
   },
   {
    "duration": 8,
    "start_time": "2024-07-23T15:17:08.662Z"
   },
   {
    "duration": 10,
    "start_time": "2024-07-23T15:17:08.675Z"
   },
   {
    "duration": 49,
    "start_time": "2024-07-23T15:17:08.688Z"
   },
   {
    "duration": 9,
    "start_time": "2024-07-23T15:17:08.740Z"
   },
   {
    "duration": 9,
    "start_time": "2024-07-23T15:17:08.753Z"
   },
   {
    "duration": 25,
    "start_time": "2024-07-23T15:17:08.765Z"
   },
   {
    "duration": 6,
    "start_time": "2024-07-23T15:17:08.834Z"
   },
   {
    "duration": 13,
    "start_time": "2024-07-23T15:17:08.843Z"
   },
   {
    "duration": 19,
    "start_time": "2024-07-23T15:17:08.859Z"
   },
   {
    "duration": 7,
    "start_time": "2024-07-23T15:17:08.884Z"
   },
   {
    "duration": 23,
    "start_time": "2024-07-23T15:17:08.936Z"
   },
   {
    "duration": 8,
    "start_time": "2024-07-23T15:17:08.963Z"
   },
   {
    "duration": 9,
    "start_time": "2024-07-23T15:17:08.974Z"
   },
   {
    "duration": 56,
    "start_time": "2024-07-23T15:17:08.987Z"
   },
   {
    "duration": 10,
    "start_time": "2024-07-23T15:17:09.046Z"
   },
   {
    "duration": 11,
    "start_time": "2024-07-23T15:17:09.059Z"
   },
   {
    "duration": 10,
    "start_time": "2024-07-23T15:17:09.073Z"
   },
   {
    "duration": 56,
    "start_time": "2024-07-23T15:17:09.085Z"
   },
   {
    "duration": 37,
    "start_time": "2024-07-23T15:17:09.144Z"
   },
   {
    "duration": 11,
    "start_time": "2024-07-23T15:17:09.184Z"
   },
   {
    "duration": 171,
    "start_time": "2024-07-23T15:17:09.233Z"
   },
   {
    "duration": 32,
    "start_time": "2024-07-23T15:17:09.408Z"
   },
   {
    "duration": 11,
    "start_time": "2024-07-23T15:17:09.443Z"
   },
   {
    "duration": 116,
    "start_time": "2024-07-23T15:17:09.458Z"
   },
   {
    "duration": 25,
    "start_time": "2024-07-23T15:17:09.577Z"
   },
   {
    "duration": 119,
    "start_time": "2024-07-23T15:17:09.605Z"
   },
   {
    "duration": 0,
    "start_time": "2024-07-23T15:17:09.735Z"
   },
   {
    "duration": 0,
    "start_time": "2024-07-23T15:17:09.737Z"
   },
   {
    "duration": 0,
    "start_time": "2024-07-23T15:17:09.739Z"
   },
   {
    "duration": 0,
    "start_time": "2024-07-23T15:17:09.742Z"
   },
   {
    "duration": 0,
    "start_time": "2024-07-23T15:17:09.744Z"
   },
   {
    "duration": 0,
    "start_time": "2024-07-23T15:17:09.746Z"
   },
   {
    "duration": 0,
    "start_time": "2024-07-23T15:17:09.747Z"
   },
   {
    "duration": 0,
    "start_time": "2024-07-23T15:17:09.749Z"
   },
   {
    "duration": 0,
    "start_time": "2024-07-23T15:17:09.750Z"
   },
   {
    "duration": 0,
    "start_time": "2024-07-23T15:17:09.753Z"
   },
   {
    "duration": 0,
    "start_time": "2024-07-23T15:17:09.757Z"
   },
   {
    "duration": 0,
    "start_time": "2024-07-23T15:17:09.759Z"
   },
   {
    "duration": 99,
    "start_time": "2024-07-23T15:17:31.143Z"
   },
   {
    "duration": 9819,
    "start_time": "2024-07-23T15:17:57.909Z"
   },
   {
    "duration": 10846,
    "start_time": "2024-07-23T15:18:19.896Z"
   },
   {
    "duration": 8,
    "start_time": "2024-07-23T15:18:35.484Z"
   },
   {
    "duration": 177,
    "start_time": "2024-07-23T15:18:39.051Z"
   },
   {
    "duration": 5,
    "start_time": "2024-07-23T15:19:02.342Z"
   },
   {
    "duration": 5,
    "start_time": "2024-07-23T15:19:03.337Z"
   },
   {
    "duration": 11,
    "start_time": "2024-07-23T15:19:38.614Z"
   },
   {
    "duration": 94,
    "start_time": "2024-07-23T15:19:49.566Z"
   },
   {
    "duration": 69,
    "start_time": "2024-07-23T15:20:00.463Z"
   },
   {
    "duration": 6,
    "start_time": "2024-07-23T15:22:03.735Z"
   },
   {
    "duration": 13,
    "start_time": "2024-07-23T15:25:27.257Z"
   },
   {
    "duration": 66,
    "start_time": "2024-07-23T15:26:39.977Z"
   },
   {
    "duration": 67,
    "start_time": "2024-07-23T15:27:59.675Z"
   },
   {
    "duration": 65,
    "start_time": "2024-07-23T15:28:51.774Z"
   },
   {
    "duration": 1114,
    "start_time": "2024-07-23T15:29:15.840Z"
   },
   {
    "duration": 63,
    "start_time": "2024-07-23T15:29:56.862Z"
   },
   {
    "duration": 43,
    "start_time": "2024-07-23T15:30:32.562Z"
   },
   {
    "duration": 9,
    "start_time": "2024-07-23T15:31:48.838Z"
   },
   {
    "duration": 8,
    "start_time": "2024-07-23T15:32:04.958Z"
   },
   {
    "duration": 248,
    "start_time": "2024-07-23T15:32:23.569Z"
   },
   {
    "duration": 8,
    "start_time": "2024-07-23T15:32:34.202Z"
   },
   {
    "duration": 9,
    "start_time": "2024-07-23T15:32:38.291Z"
   },
   {
    "duration": 953,
    "start_time": "2024-07-24T10:11:12.205Z"
   },
   {
    "duration": 349,
    "start_time": "2024-07-24T10:11:13.161Z"
   },
   {
    "duration": 17,
    "start_time": "2024-07-24T10:11:13.513Z"
   },
   {
    "duration": 11,
    "start_time": "2024-07-24T10:11:13.536Z"
   },
   {
    "duration": 12,
    "start_time": "2024-07-24T10:11:13.550Z"
   },
   {
    "duration": 43,
    "start_time": "2024-07-24T10:11:13.565Z"
   },
   {
    "duration": 9,
    "start_time": "2024-07-24T10:11:13.611Z"
   },
   {
    "duration": 10,
    "start_time": "2024-07-24T10:11:13.623Z"
   },
   {
    "duration": 66,
    "start_time": "2024-07-24T10:11:13.636Z"
   },
   {
    "duration": 6,
    "start_time": "2024-07-24T10:11:13.710Z"
   },
   {
    "duration": 14,
    "start_time": "2024-07-24T10:11:13.720Z"
   },
   {
    "duration": 20,
    "start_time": "2024-07-24T10:11:13.736Z"
   },
   {
    "duration": 44,
    "start_time": "2024-07-24T10:11:13.759Z"
   },
   {
    "duration": 23,
    "start_time": "2024-07-24T10:11:13.806Z"
   },
   {
    "duration": 8,
    "start_time": "2024-07-24T10:11:13.832Z"
   },
   {
    "duration": 9,
    "start_time": "2024-07-24T10:11:13.843Z"
   },
   {
    "duration": 58,
    "start_time": "2024-07-24T10:11:13.855Z"
   },
   {
    "duration": 9,
    "start_time": "2024-07-24T10:11:13.916Z"
   },
   {
    "duration": 11,
    "start_time": "2024-07-24T10:11:13.929Z"
   },
   {
    "duration": 8,
    "start_time": "2024-07-24T10:11:13.943Z"
   },
   {
    "duration": 57,
    "start_time": "2024-07-24T10:11:13.954Z"
   },
   {
    "duration": 36,
    "start_time": "2024-07-24T10:11:14.014Z"
   },
   {
    "duration": 11,
    "start_time": "2024-07-24T10:11:14.053Z"
   },
   {
    "duration": 167,
    "start_time": "2024-07-24T10:11:14.103Z"
   },
   {
    "duration": 33,
    "start_time": "2024-07-24T10:11:14.272Z"
   },
   {
    "duration": 11,
    "start_time": "2024-07-24T10:11:14.307Z"
   },
   {
    "duration": 106,
    "start_time": "2024-07-24T10:11:14.321Z"
   },
   {
    "duration": 19,
    "start_time": "2024-07-24T10:11:14.434Z"
   },
   {
    "duration": 14042,
    "start_time": "2024-07-24T10:11:14.456Z"
   },
   {
    "duration": 10792,
    "start_time": "2024-07-24T10:11:28.502Z"
   },
   {
    "duration": 8,
    "start_time": "2024-07-24T10:11:39.303Z"
   },
   {
    "duration": 216,
    "start_time": "2024-07-24T10:11:39.314Z"
   },
   {
    "duration": 7,
    "start_time": "2024-07-24T10:11:39.533Z"
   },
   {
    "duration": 8,
    "start_time": "2024-07-24T10:11:39.544Z"
   },
   {
    "duration": 213,
    "start_time": "2024-07-24T10:11:39.556Z"
   },
   {
    "duration": 7,
    "start_time": "2024-07-24T10:11:39.772Z"
   },
   {
    "duration": 7,
    "start_time": "2024-07-24T10:11:39.802Z"
   },
   {
    "duration": 6,
    "start_time": "2024-07-24T10:11:39.813Z"
   },
   {
    "duration": 457,
    "start_time": "2024-07-24T10:11:39.823Z"
   },
   {
    "duration": 0,
    "start_time": "2024-07-24T10:11:40.284Z"
   },
   {
    "duration": 0,
    "start_time": "2024-07-24T10:11:40.286Z"
   },
   {
    "duration": 28,
    "start_time": "2024-07-24T10:11:44.205Z"
   },
   {
    "duration": 9883,
    "start_time": "2024-07-24T10:12:49.714Z"
   },
   {
    "duration": 29,
    "start_time": "2024-07-24T10:12:59.604Z"
   },
   {
    "duration": 8,
    "start_time": "2024-07-24T10:13:13.828Z"
   },
   {
    "duration": 6,
    "start_time": "2024-07-24T10:13:22.846Z"
   },
   {
    "duration": 26,
    "start_time": "2024-07-24T10:13:30.583Z"
   },
   {
    "duration": 57,
    "start_time": "2024-07-24T10:13:34.243Z"
   },
   {
    "duration": 910,
    "start_time": "2024-07-24T10:13:48.529Z"
   },
   {
    "duration": 643,
    "start_time": "2024-07-24T10:14:01.440Z"
   },
   {
    "duration": 38,
    "start_time": "2024-07-24T10:14:49.230Z"
   },
   {
    "duration": 8,
    "start_time": "2024-07-24T10:15:29.192Z"
   },
   {
    "duration": 867,
    "start_time": "2024-07-24T10:15:35.285Z"
   },
   {
    "duration": 93,
    "start_time": "2024-07-24T10:17:42.078Z"
   },
   {
    "duration": 45,
    "start_time": "2024-07-24T10:17:47.881Z"
   },
   {
    "duration": 36,
    "start_time": "2024-07-24T10:18:44.253Z"
   },
   {
    "duration": 11,
    "start_time": "2024-07-24T10:18:56.900Z"
   },
   {
    "duration": 317,
    "start_time": "2024-07-24T13:19:23.726Z"
   },
   {
    "duration": 0,
    "start_time": "2024-07-24T13:19:24.048Z"
   },
   {
    "duration": 0,
    "start_time": "2024-07-24T13:19:24.049Z"
   },
   {
    "duration": 0,
    "start_time": "2024-07-24T13:19:24.052Z"
   },
   {
    "duration": 0,
    "start_time": "2024-07-24T13:19:24.053Z"
   },
   {
    "duration": 0,
    "start_time": "2024-07-24T13:19:24.055Z"
   },
   {
    "duration": 0,
    "start_time": "2024-07-24T13:19:24.057Z"
   },
   {
    "duration": 0,
    "start_time": "2024-07-24T13:19:24.059Z"
   },
   {
    "duration": 0,
    "start_time": "2024-07-24T13:19:24.061Z"
   },
   {
    "duration": 0,
    "start_time": "2024-07-24T13:19:24.063Z"
   },
   {
    "duration": 0,
    "start_time": "2024-07-24T13:19:24.064Z"
   },
   {
    "duration": 0,
    "start_time": "2024-07-24T13:19:24.093Z"
   },
   {
    "duration": 0,
    "start_time": "2024-07-24T13:19:24.095Z"
   },
   {
    "duration": 0,
    "start_time": "2024-07-24T13:19:24.098Z"
   },
   {
    "duration": 0,
    "start_time": "2024-07-24T13:19:24.100Z"
   },
   {
    "duration": 0,
    "start_time": "2024-07-24T13:19:24.102Z"
   },
   {
    "duration": 0,
    "start_time": "2024-07-24T13:19:24.105Z"
   },
   {
    "duration": 0,
    "start_time": "2024-07-24T13:19:24.107Z"
   },
   {
    "duration": 0,
    "start_time": "2024-07-24T13:19:24.110Z"
   },
   {
    "duration": 962,
    "start_time": "2024-07-24T13:19:46.942Z"
   },
   {
    "duration": 375,
    "start_time": "2024-07-24T13:19:47.908Z"
   },
   {
    "duration": 16,
    "start_time": "2024-07-24T13:19:48.285Z"
   },
   {
    "duration": 10,
    "start_time": "2024-07-24T13:19:48.305Z"
   },
   {
    "duration": 10,
    "start_time": "2024-07-24T13:19:48.320Z"
   },
   {
    "duration": 16,
    "start_time": "2024-07-24T13:19:48.334Z"
   },
   {
    "duration": 9,
    "start_time": "2024-07-24T13:19:48.392Z"
   },
   {
    "duration": 10,
    "start_time": "2024-07-24T13:19:48.405Z"
   },
   {
    "duration": 26,
    "start_time": "2024-07-24T13:19:48.418Z"
   },
   {
    "duration": 48,
    "start_time": "2024-07-24T13:19:48.447Z"
   },
   {
    "duration": 16,
    "start_time": "2024-07-24T13:19:48.498Z"
   },
   {
    "duration": 20,
    "start_time": "2024-07-24T13:19:48.517Z"
   },
   {
    "duration": 9,
    "start_time": "2024-07-24T13:19:48.540Z"
   },
   {
    "duration": 23,
    "start_time": "2024-07-24T13:19:48.596Z"
   },
   {
    "duration": 8,
    "start_time": "2024-07-24T13:19:48.622Z"
   },
   {
    "duration": 10,
    "start_time": "2024-07-24T13:19:48.634Z"
   },
   {
    "duration": 17,
    "start_time": "2024-07-24T13:19:48.691Z"
   },
   {
    "duration": 10,
    "start_time": "2024-07-24T13:19:48.711Z"
   },
   {
    "duration": 12,
    "start_time": "2024-07-24T13:19:48.724Z"
   },
   {
    "duration": 53,
    "start_time": "2024-07-24T13:19:48.742Z"
   },
   {
    "duration": 12,
    "start_time": "2024-07-24T13:19:48.798Z"
   },
   {
    "duration": 42,
    "start_time": "2024-07-24T13:19:48.814Z"
   },
   {
    "duration": 12,
    "start_time": "2024-07-24T13:19:48.890Z"
   },
   {
    "duration": 193,
    "start_time": "2024-07-24T13:19:48.905Z"
   },
   {
    "duration": 22,
    "start_time": "2024-07-24T13:19:49.101Z"
   },
   {
    "duration": 11,
    "start_time": "2024-07-24T13:19:49.126Z"
   },
   {
    "duration": 118,
    "start_time": "2024-07-24T13:19:49.143Z"
   },
   {
    "duration": 37,
    "start_time": "2024-07-24T13:19:49.264Z"
   },
   {
    "duration": 4718,
    "start_time": "2024-07-24T13:19:49.304Z"
   },
   {
    "duration": 8,
    "start_time": "2024-07-24T13:19:54.025Z"
   },
   {
    "duration": 870,
    "start_time": "2024-07-24T13:19:54.036Z"
   },
   {
    "duration": 7,
    "start_time": "2024-07-24T13:19:54.909Z"
   },
   {
    "duration": 210,
    "start_time": "2024-07-24T13:19:54.920Z"
   },
   {
    "duration": 6,
    "start_time": "2024-07-24T13:19:55.132Z"
   },
   {
    "duration": 6,
    "start_time": "2024-07-24T13:19:55.142Z"
   },
   {
    "duration": 280,
    "start_time": "2024-07-24T13:19:55.151Z"
   },
   {
    "duration": 6,
    "start_time": "2024-07-24T13:19:55.434Z"
   },
   {
    "duration": 7,
    "start_time": "2024-07-24T13:19:55.444Z"
   },
   {
    "duration": 37,
    "start_time": "2024-07-24T13:19:55.455Z"
   },
   {
    "duration": 142,
    "start_time": "2024-07-24T13:19:55.495Z"
   },
   {
    "duration": 0,
    "start_time": "2024-07-24T13:19:55.641Z"
   },
   {
    "duration": 0,
    "start_time": "2024-07-24T13:19:55.644Z"
   },
   {
    "duration": 1,
    "start_time": "2024-07-24T13:19:55.646Z"
   },
   {
    "duration": 6,
    "start_time": "2024-07-24T13:30:49.238Z"
   },
   {
    "duration": 6,
    "start_time": "2024-07-24T13:30:54.156Z"
   },
   {
    "duration": 13,
    "start_time": "2024-07-24T13:32:19.129Z"
   },
   {
    "duration": 8,
    "start_time": "2024-07-24T13:32:58.222Z"
   },
   {
    "duration": 12,
    "start_time": "2024-07-24T13:37:29.355Z"
   },
   {
    "duration": 99,
    "start_time": "2024-07-24T13:37:34.568Z"
   },
   {
    "duration": 73,
    "start_time": "2024-07-24T13:38:08.430Z"
   },
   {
    "duration": 12,
    "start_time": "2024-07-24T13:38:18.605Z"
   },
   {
    "duration": 66,
    "start_time": "2024-07-24T13:38:23.111Z"
   },
   {
    "duration": 14,
    "start_time": "2024-07-24T13:39:39.690Z"
   },
   {
    "duration": 69,
    "start_time": "2024-07-24T13:39:48.608Z"
   },
   {
    "duration": 41,
    "start_time": "2024-07-24T13:41:17.259Z"
   },
   {
    "duration": 42,
    "start_time": "2024-07-24T13:41:31.913Z"
   },
   {
    "duration": 71,
    "start_time": "2024-07-24T13:41:36.607Z"
   }
  ],
  "colab": {
   "provenance": []
  },
  "kernelspec": {
   "display_name": "Python 3 (ipykernel)",
   "language": "python",
   "name": "python3"
  },
  "language_info": {
   "codemirror_mode": {
    "name": "ipython",
    "version": 3
   },
   "file_extension": ".py",
   "mimetype": "text/x-python",
   "name": "python",
   "nbconvert_exporter": "python",
   "pygments_lexer": "ipython3",
   "version": "3.9.19"
  },
  "toc": {
   "base_numbering": 1,
   "nav_menu": {},
   "number_sections": true,
   "sideBar": true,
   "skip_h1_title": false,
   "title_cell": "Table of Contents",
   "title_sidebar": "Contents",
   "toc_cell": false,
   "toc_position": {},
   "toc_section_display": true,
   "toc_window_display": true
  }
 },
 "nbformat": 4,
 "nbformat_minor": 1
}
